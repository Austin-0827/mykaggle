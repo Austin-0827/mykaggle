{
 "cells": [
  {
   "cell_type": "markdown",
   "metadata": {},
   "source": [
    "读取数据"
   ]
  },
  {
   "cell_type": "code",
   "execution_count": 17,
   "metadata": {
    "collapsed": true
   },
   "outputs": [],
   "source": [
    "import pandas as pd\n",
    "import numpy as np\n",
    "import pylab\n",
    "import calendar\n",
    "import numpy as np\n",
    "import pandas as pd\n",
    "import seaborn as sn\n",
    "from scipy import stats\n",
    "import missingno as msno\n",
    "from datetime import datetime\n",
    "import matplotlib.pyplot as plt\n",
    "import warnings\n",
    "pd.options.mode.chained_assignment = None\n",
    "warnings.filterwarnings(\"ignore\", category=DeprecationWarning)\n",
    "%matplotlib inline\n"
   ]
  },
  {
   "cell_type": "code",
   "execution_count": 18,
   "metadata": {
    "collapsed": true
   },
   "outputs": [],
   "source": [
    "feature_columns=['holiday', 'workingday', \n",
    "       'season_1', 'season_2', 'season_3', 'season_4', 'weather_1',\n",
    "       'weather_2', 'weather_3', 'weather_4', 'temp_scaled',\n",
    "       'atemp_scaled', 'humidity_scaled', 'windspeed_scaled',\n",
    "       'date_newyear_num', 'date_newyear_num_scaled', 'month_April',\n",
    "       'month_August', 'month_December', 'month_February', 'month_January',\n",
    "       'month_July', 'month_June', 'month_March', 'month_May',\n",
    "       'month_November', 'month_October', 'month_September', 'hour_0',\n",
    "       'hour_1', 'hour_2', 'hour_3', 'hour_4', 'hour_5', 'hour_6',\n",
    "       'hour_7', 'hour_8', 'hour_9', 'hour_10', 'hour_11', 'hour_12',\n",
    "       'hour_13', 'hour_14', 'hour_15', 'hour_16', 'hour_17', 'hour_18',\n",
    "       'hour_19', 'hour_20', 'hour_21', 'hour_22', 'hour_23',\n",
    "       'weekday_Friday', 'weekday_Monday', 'weekday_Saturday',\n",
    "       'weekday_Sunday', 'weekday_Thursday', 'weekday_Tuesday',\n",
    "       'weekday_Wednesday', 'hour_workingday_0_0', 'hour_workingday_0_1',\n",
    "       'hour_workingday_10_0', 'hour_workingday_10_1',\n",
    "       'hour_workingday_11_0', 'hour_workingday_11_1',\n",
    "       'hour_workingday_12_0', 'hour_workingday_12_1',\n",
    "       'hour_workingday_13_0', 'hour_workingday_13_1',\n",
    "       'hour_workingday_14_0', 'hour_workingday_14_1',\n",
    "       'hour_workingday_15_0', 'hour_workingday_15_1',\n",
    "       'hour_workingday_16_0', 'hour_workingday_16_1',\n",
    "       'hour_workingday_17_0', 'hour_workingday_17_1',\n",
    "       'hour_workingday_18_0', 'hour_workingday_18_1',\n",
    "       'hour_workingday_19_0', 'hour_workingday_19_1',\n",
    "       'hour_workingday_1_0', 'hour_workingday_1_1',\n",
    "       'hour_workingday_20_0', 'hour_workingday_20_1',\n",
    "       'hour_workingday_21_0', 'hour_workingday_21_1',\n",
    "       'hour_workingday_22_0', 'hour_workingday_22_1',\n",
    "       'hour_workingday_23_0', 'hour_workingday_23_1',\n",
    "       'hour_workingday_2_0', 'hour_workingday_2_1', 'hour_workingday_3_0',\n",
    "       'hour_workingday_3_1', 'hour_workingday_4_0', 'hour_workingday_4_1',\n",
    "       'hour_workingday_5_0', 'hour_workingday_5_1', 'hour_workingday_6_0',\n",
    "       'hour_workingday_6_1', 'hour_workingday_7_0', 'hour_workingday_7_1',\n",
    "       'hour_workingday_8_0', 'hour_workingday_8_1', 'hour_workingday_9_0',\n",
    "       'hour_workingday_9_1', 'hour_week_section_0', 'hour_week_section_1',\n",
    "       'hour_week_section_2', 'hour_week_section_3', 'hour_week_section_4',\n",
    "       'hour_week_section_5', 'hour_week_section_6', 'hour_week_section_7']\n",
    "\n"
   ]
  },
  {
   "cell_type": "code",
   "execution_count": 19,
   "metadata": {
    "collapsed": true
   },
   "outputs": [],
   "source": [
    "all_df=pd.read_csv(\"all_df20171217.csv\")\n",
    "X=all_df.loc[all_df.traintest=='train',feature_columns].values\n",
    "y_casual=all_df.loc[all_df.traintest=='train'].casual.apply(lambda x: np.log1p(x)).values\n",
    "y_regstered=all_df.loc[all_df.traintest=='train'].registered.apply(lambda x: np.log1p(x)).values\n",
    "y_all=all_df.loc[all_df.traintest=='train','count'].apply(lambda x: np.log1p(x)).values\n",
    "\n",
    "X_test=all_df.loc[all_df.traintest=='test',feature_columns].values\n",
    "X_test_date=all_df.loc[all_df.traintest=='test','datetime'].values"
   ]
  },
  {
   "cell_type": "markdown",
   "metadata": {},
   "source": [
    "随机森林来一把，太慢了。。。。。。。"
   ]
  },
  {
   "cell_type": "code",
   "execution_count": 31,
   "metadata": {
    "collapsed": true
   },
   "outputs": [],
   "source": [
    "def rmsle(y, y_):    \n",
    "    log1 = np.nan_to_num(y)\n",
    "    log2 = np.nan_to_num(y_)    \n",
    "    calc = (log1 - log2) ** 2\n",
    "    return np.sqrt(np.mean(calc))"
   ]
  },
  {
   "cell_type": "code",
   "execution_count": null,
   "metadata": {
    "collapsed": true,
    "scrolled": true
   },
   "outputs": [],
   "source": [
    "from sklearn.linear_model import LinearRegression,Ridge,Lasso\n",
    "from sklearn.model_selection import GridSearchCV\n",
    "from sklearn import metrics\n",
    "from sklearn.ensemble import RandomForestRegressor\n",
    "from tqdm import *\n",
    "rmsle_scorer = metrics.make_scorer(rmsle, greater_is_better=False)\n",
    "parameters = {  \n",
    "    \"n_estimators\": [2000],  \n",
    "    #\"max_depth\":[5],\n",
    "    #\"min_samples_leaf\": [1],  \n",
    "    #\"min_samples_split\": [5],\n",
    "    #\"max_features\":[\"sqrt\"]\n",
    "}\n",
    "estimator = RandomForestRegressor(random_state=0, n_estimators=2000, n_jobs=-1)\n",
    "gsearch = GridSearchCV(estimator, param_grid=parameters, scoring=rmsle_scorer, cv=5)\n",
    "gsearch.fit(X=X,y=y_casual)\n",
    "gsearch.grid_scores_, gsearch.best_params_, gsearch.best_score_"
   ]
  },
  {
   "cell_type": "code",
   "execution_count": 51,
   "metadata": {},
   "outputs": [
    {
     "name": "stderr",
     "output_type": "stream",
     "text": [
      "C:\\ProgramData\\Anaconda3\\lib\\site-packages\\sklearn\\model_selection\\_search.py:747: DeprecationWarning: The grid_scores_ attribute was deprecated in version 0.18 in favor of the more elaborate cv_results_ attribute. The grid_scores_ attribute will not be available from 0.20\n",
      "  DeprecationWarning)\n"
     ]
    },
    {
     "data": {
      "text/plain": [
       "([mean: -0.60267, std: 0.09695, params: {'alpha': 0.1},\n",
       "  mean: -0.60242, std: 0.09671, params: {'alpha': 1},\n",
       "  mean: -0.60221, std: 0.09654, params: {'alpha': 2},\n",
       "  mean: -0.60201, std: 0.09641, params: {'alpha': 3},\n",
       "  mean: -0.60183, std: 0.09630, params: {'alpha': 4},\n",
       "  mean: -0.60085, std: 0.09578, params: {'alpha': 10},\n",
       "  mean: -0.59932, std: 0.09423, params: {'alpha': 30},\n",
       "  mean: -0.60570, std: 0.08907, params: {'alpha': 100},\n",
       "  mean: -0.62485, std: 0.08358, params: {'alpha': 200}],\n",
       " {'alpha': 30},\n",
       " -0.59932024188446698)"
      ]
     },
     "execution_count": 51,
     "metadata": {},
     "output_type": "execute_result"
    }
   ],
   "source": [
    "estimator = Ridge()\n",
    "parameters = { \n",
    "    'alpha':[0.1, 1, 2, 3, 4, 10, 30,100,200]\n",
    "}\n",
    "rmsle_scorer = metrics.make_scorer(rmsle, greater_is_better=False)\n",
    "grid_ridge_m = GridSearchCV( estimator,\n",
    "                          param_grid=parameters,\n",
    "                          scoring = rmsle_scorer,\n",
    "                          cv=5)\n",
    "\n",
    "grid_ridge_m.fit(X=X,y=y_all)\n",
    "grid_ridge_m.grid_scores_, grid_ridge_m.best_params_, grid_ridge_m.best_score_"
   ]
  },
  {
   "cell_type": "code",
   "execution_count": 52,
   "metadata": {},
   "outputs": [
    {
     "name": "stdout",
     "output_type": "stream",
     "text": [
      "RMSLE Value For Ridge Regression:  0.426928000074\n"
     ]
    }
   ],
   "source": [
    "pre=grid_ridge_m.predict(X)\n",
    "print (\"RMSLE Value For Ridge Regression: \",rmsle(y_all,pre))"
   ]
  },
  {
   "cell_type": "code",
   "execution_count": 69,
   "metadata": {},
   "outputs": [
    {
     "name": "stderr",
     "output_type": "stream",
     "text": [
      "C:\\ProgramData\\Anaconda3\\lib\\site-packages\\sklearn\\model_selection\\_search.py:747: DeprecationWarning: The grid_scores_ attribute was deprecated in version 0.18 in favor of the more elaborate cv_results_ attribute. The grid_scores_ attribute will not be available from 0.20\n",
      "  DeprecationWarning)\n"
     ]
    },
    {
     "data": {
      "text/plain": [
       "([mean: -0.97254, std: 0.10073, params: {'alpha': 0.1},\n",
       "  mean: -1.41201, std: 0.06559, params: {'alpha': 1},\n",
       "  mean: -1.41236, std: 0.06895, params: {'alpha': 2},\n",
       "  mean: -1.41308, std: 0.07224, params: {'alpha': 3},\n",
       "  mean: -1.41418, std: 0.07545, params: {'alpha': 4},\n",
       "  mean: -1.42651, std: 0.08927, params: {'alpha': 10},\n",
       "  mean: -1.43247, std: 0.08612, params: {'alpha': 30},\n",
       "  mean: -1.43247, std: 0.08612, params: {'alpha': 100},\n",
       "  mean: -1.43247, std: 0.08612, params: {'alpha': 200}],\n",
       " {'alpha': 0.1},\n",
       " -0.97254281807657661)"
      ]
     },
     "execution_count": 69,
     "metadata": {},
     "output_type": "execute_result"
    }
   ],
   "source": [
    "estimator =Lasso()\n",
    "parameters = { \n",
    "    'alpha':[0.1, 1, 2, 3, 4, 10, 30,100,200]\n",
    "}\n",
    "rmsle_scorer = metrics.make_scorer(rmsle, greater_is_better=False)\n",
    "grid_lasso_m = GridSearchCV( estimator,\n",
    "                          param_grid=parameters,\n",
    "                          scoring = rmsle_scorer,\n",
    "                          cv=5)\n",
    "\n",
    "grid_lasso_m.fit(X=X,y=y_all)\n",
    "grid_lasso_m.grid_scores_, grid_lasso_m.best_params_, grid_lasso_m.best_score_"
   ]
  },
  {
   "cell_type": "code",
   "execution_count": 70,
   "metadata": {
    "scrolled": true
   },
   "outputs": [
    {
     "name": "stdout",
     "output_type": "stream",
     "text": [
      "RMSLE Value For Ridge Regression:  0.922174293415\n"
     ]
    }
   ],
   "source": [
    "pre=grid_lasso_m.predict(X)\n",
    "print (\"RMSLE Value For Ridge Regression: \",rmsle(y_all,pre))"
   ]
  },
  {
   "cell_type": "code",
   "execution_count": 71,
   "metadata": {
    "collapsed": true
   },
   "outputs": [],
   "source": [
    "pd.DataFrame({\"count\":np.expm1(grid_lasso_m.predict(X_test)),\"datetime\":X_test_date}).to_csv(\"lasso.csv\",index=False)"
   ]
  },
  {
   "cell_type": "code",
   "execution_count": 72,
   "metadata": {},
   "outputs": [
    {
     "ename": "NameError",
     "evalue": "name 'dataTrain' is not defined",
     "output_type": "error",
     "traceback": [
      "\u001b[1;31m---------------------------------------------------------------------------\u001b[0m",
      "\u001b[1;31mNameError\u001b[0m                                 Traceback (most recent call last)",
      "\u001b[1;32m<ipython-input-72-39d8b8532c6f>\u001b[0m in \u001b[0;36m<module>\u001b[1;34m()\u001b[0m\n\u001b[0;32m      2\u001b[0m \u001b[0mgbm\u001b[0m \u001b[1;33m=\u001b[0m \u001b[0mGradientBoostingRegressor\u001b[0m\u001b[1;33m(\u001b[0m\u001b[0mn_estimators\u001b[0m\u001b[1;33m=\u001b[0m\u001b[1;36m4000\u001b[0m\u001b[1;33m,\u001b[0m\u001b[0malpha\u001b[0m\u001b[1;33m=\u001b[0m\u001b[1;36m0.01\u001b[0m\u001b[1;33m)\u001b[0m\u001b[1;33m;\u001b[0m \u001b[1;31m### Test 0.41\u001b[0m\u001b[1;33m\u001b[0m\u001b[0m\n\u001b[0;32m      3\u001b[0m \u001b[0mgbm\u001b[0m\u001b[1;33m.\u001b[0m\u001b[0mfit\u001b[0m\u001b[1;33m(\u001b[0m\u001b[0mX\u001b[0m\u001b[1;33m=\u001b[0m\u001b[0mX\u001b[0m\u001b[1;33m,\u001b[0m\u001b[0my\u001b[0m\u001b[1;33m=\u001b[0m\u001b[0my_all\u001b[0m\u001b[1;33m)\u001b[0m\u001b[1;33m\u001b[0m\u001b[0m\n\u001b[1;32m----> 4\u001b[1;33m \u001b[0mpreds\u001b[0m \u001b[1;33m=\u001b[0m \u001b[0mgbm\u001b[0m\u001b[1;33m.\u001b[0m\u001b[0mpredict\u001b[0m\u001b[1;33m(\u001b[0m\u001b[0mX\u001b[0m\u001b[1;33m=\u001b[0m \u001b[0mdataTrain\u001b[0m\u001b[1;33m)\u001b[0m\u001b[1;33m\u001b[0m\u001b[0m\n\u001b[0m\u001b[0;32m      5\u001b[0m \u001b[0mprint\u001b[0m \u001b[1;33m(\u001b[0m\u001b[1;34m\"RMSLE Value For Gradient Boost: \"\u001b[0m\u001b[1;33m,\u001b[0m\u001b[0mrmsle\u001b[0m\u001b[1;33m(\u001b[0m\u001b[0my_all\u001b[0m\u001b[1;33m,\u001b[0m\u001b[0mpreds\u001b[0m\u001b[1;33m)\u001b[0m\u001b[1;33m)\u001b[0m\u001b[1;33m\u001b[0m\u001b[0m\n",
      "\u001b[1;31mNameError\u001b[0m: name 'dataTrain' is not defined"
     ]
    }
   ],
   "source": [
    "from sklearn.ensemble import GradientBoostingRegressor\n",
    "gbm = GradientBoostingRegressor(n_estimators=4000,alpha=0.01); ### Test 0.41\n",
    "gbm.fit(X=X,y=y_all)"
   ]
  },
  {
   "cell_type": "code",
   "execution_count": 89,
   "metadata": {},
   "outputs": [
    {
     "name": "stdout",
     "output_type": "stream",
     "text": [
      "RMSLE Value For Gradient Boost:  0.197166611568\n"
     ]
    }
   ],
   "source": [
    "preds = gbm.predict(X)\n",
    "print (\"RMSLE Value For Gradient Boost: \",rmsle(y_all,preds))"
   ]
  },
  {
   "cell_type": "code",
   "execution_count": 79,
   "metadata": {
    "collapsed": true
   },
   "outputs": [],
   "source": [
    "gbr=pd.DataFrame({\"count\":np.expm1(gbm.predict(X_test)),\"datetime\":X_test_date})"
   ]
  },
  {
   "cell_type": "code",
   "execution_count": 95,
   "metadata": {
    "collapsed": true
   },
   "outputs": [],
   "source": [
    "gbr.loc[gbr[\"count\"]<=0,'count']=0"
   ]
  },
  {
   "cell_type": "code",
   "execution_count": 99,
   "metadata": {},
   "outputs": [
    {
     "data": {
      "text/html": [
       "<div>\n",
       "<style>\n",
       "    .dataframe thead tr:only-child th {\n",
       "        text-align: right;\n",
       "    }\n",
       "\n",
       "    .dataframe thead th {\n",
       "        text-align: left;\n",
       "    }\n",
       "\n",
       "    .dataframe tbody tr th {\n",
       "        vertical-align: top;\n",
       "    }\n",
       "</style>\n",
       "<table border=\"1\" class=\"dataframe\">\n",
       "  <thead>\n",
       "    <tr style=\"text-align: right;\">\n",
       "      <th></th>\n",
       "      <th>count</th>\n",
       "      <th>datetime</th>\n",
       "    </tr>\n",
       "  </thead>\n",
       "  <tbody>\n",
       "    <tr>\n",
       "      <th>0</th>\n",
       "      <td>24.704243</td>\n",
       "      <td>2011-01-20 00:00:00</td>\n",
       "    </tr>\n",
       "    <tr>\n",
       "      <th>1</th>\n",
       "      <td>7.017779</td>\n",
       "      <td>2011-01-20 01:00:00</td>\n",
       "    </tr>\n",
       "    <tr>\n",
       "      <th>2</th>\n",
       "      <td>4.154578</td>\n",
       "      <td>2011-01-20 02:00:00</td>\n",
       "    </tr>\n",
       "    <tr>\n",
       "      <th>3</th>\n",
       "      <td>3.102559</td>\n",
       "      <td>2011-01-20 03:00:00</td>\n",
       "    </tr>\n",
       "    <tr>\n",
       "      <th>4</th>\n",
       "      <td>1.870307</td>\n",
       "      <td>2011-01-20 04:00:00</td>\n",
       "    </tr>\n",
       "  </tbody>\n",
       "</table>\n",
       "</div>"
      ],
      "text/plain": [
       "       count             datetime\n",
       "0  24.704243  2011-01-20 00:00:00\n",
       "1   7.017779  2011-01-20 01:00:00\n",
       "2   4.154578  2011-01-20 02:00:00\n",
       "3   3.102559  2011-01-20 03:00:00\n",
       "4   1.870307  2011-01-20 04:00:00"
      ]
     },
     "execution_count": 99,
     "metadata": {},
     "output_type": "execute_result"
    }
   ],
   "source": []
  },
  {
   "cell_type": "code",
   "execution_count": null,
   "metadata": {
    "collapsed": true
   },
   "outputs": [],
   "source": []
  }
 ],
 "metadata": {
  "kernelspec": {
   "display_name": "Python 3",
   "language": "python",
   "name": "python3"
  },
  "language_info": {
   "codemirror_mode": {
    "name": "ipython",
    "version": 3
   },
   "file_extension": ".py",
   "mimetype": "text/x-python",
   "name": "python",
   "nbconvert_exporter": "python",
   "pygments_lexer": "ipython3",
   "version": "3.6.2"
  },
  "toc": {
   "nav_menu": {},
   "number_sections": true,
   "sideBar": true,
   "skip_h1_title": false,
   "toc_cell": false,
   "toc_position": {},
   "toc_section_display": "block",
   "toc_window_display": false
  }
 },
 "nbformat": 4,
 "nbformat_minor": 2
}
