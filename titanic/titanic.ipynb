{
 "cells": [
  {
   "cell_type": "code",
   "execution_count": 2,
   "metadata": {
    "collapsed": true
   },
   "outputs": [],
   "source": [
    "import pandas as pd;\n",
    "import numpy as np;"
   ]
  },
  {
   "cell_type": "markdown",
   "metadata": {},
   "source": [
    "首先读入数据，观察数据，准备哪些特征需要重点提取。"
   ]
  },
  {
   "cell_type": "code",
   "execution_count": 16,
   "metadata": {},
   "outputs": [],
   "source": [
    "train_df=pd.read_csv('./input_data/train.csv')\n",
    "test_df=pd.read_csv('./input_data/test.csv')\n",
    "train_df[\"trainortest\"]=\"train\" #添加一列区分训练集合还是测试集合\n",
    "test_df[\"trainortest\"]=\"test\"\n",
    "y_train = train_df.pop(\"Survived\")  #将train_df的标签列pop出来，后面做训练用\n",
    "all_df=pd.concat((train_df,test_df))"
   ]
  },
  {
   "cell_type": "code",
   "execution_count": 17,
   "metadata": {},
   "outputs": [
    {
     "name": "stdout",
     "output_type": "stream",
     "text": [
      "<class 'pandas.core.frame.DataFrame'>\n",
      "RangeIndex: 891 entries, 0 to 890\n",
      "Data columns (total 12 columns):\n",
      "PassengerId    891 non-null int64\n",
      "Pclass         891 non-null int64\n",
      "Name           891 non-null object\n",
      "Sex            891 non-null object\n",
      "Age            714 non-null float64\n",
      "SibSp          891 non-null int64\n",
      "Parch          891 non-null int64\n",
      "Ticket         891 non-null object\n",
      "Fare           891 non-null float64\n",
      "Cabin          204 non-null object\n",
      "Embarked       889 non-null object\n",
      "trainortest    891 non-null object\n",
      "dtypes: float64(2), int64(4), object(6)\n",
      "memory usage: 83.6+ KB\n"
     ]
    }
   ],
   "source": [
    "train_df.info()"
   ]
  },
  {
   "cell_type": "code",
   "execution_count": 18,
   "metadata": {},
   "outputs": [
    {
     "name": "stdout",
     "output_type": "stream",
     "text": [
      "<class 'pandas.core.frame.DataFrame'>\n",
      "RangeIndex: 418 entries, 0 to 417\n",
      "Data columns (total 12 columns):\n",
      "PassengerId    418 non-null int64\n",
      "Pclass         418 non-null int64\n",
      "Name           418 non-null object\n",
      "Sex            418 non-null object\n",
      "Age            332 non-null float64\n",
      "SibSp          418 non-null int64\n",
      "Parch          418 non-null int64\n",
      "Ticket         418 non-null object\n",
      "Fare           417 non-null float64\n",
      "Cabin          91 non-null object\n",
      "Embarked       418 non-null object\n",
      "trainortest    418 non-null object\n",
      "dtypes: float64(2), int64(4), object(6)\n",
      "memory usage: 39.3+ KB\n"
     ]
    }
   ],
   "source": [
    "test_df.info()"
   ]
  },
  {
   "cell_type": "code",
   "execution_count": 21,
   "metadata": {},
   "outputs": [
    {
     "name": "stdout",
     "output_type": "stream",
     "text": [
      "<class 'pandas.core.frame.DataFrame'>\n",
      "Int64Index: 1309 entries, 0 to 417\n",
      "Data columns (total 12 columns):\n",
      "PassengerId    1309 non-null int64\n",
      "Pclass         1309 non-null int64\n",
      "Name           1309 non-null object\n",
      "Sex            1309 non-null object\n",
      "Age            1046 non-null float64\n",
      "SibSp          1309 non-null int64\n",
      "Parch          1309 non-null int64\n",
      "Ticket         1309 non-null object\n",
      "Fare           1308 non-null float64\n",
      "Cabin          295 non-null object\n",
      "Embarked       1307 non-null object\n",
      "trainortest    1309 non-null object\n",
      "dtypes: float64(2), int64(4), object(6)\n",
      "memory usage: 132.9+ KB\n"
     ]
    }
   ],
   "source": [
    "all_df.info()"
   ]
  },
  {
   "cell_type": "code",
   "execution_count": 29,
   "metadata": {},
   "outputs": [
    {
     "data": {
      "text/plain": [
       "Index(['Age', 'Fare', 'Cabin', 'Embarked'], dtype='object')"
      ]
     },
     "execution_count": 29,
     "metadata": {},
     "output_type": "execute_result"
    }
   ],
   "source": [
    "all_df.columns[pd.isnull(all_df).sum()>0]"
   ]
  },
  {
   "cell_type": "code",
   "execution_count": 41,
   "metadata": {},
   "outputs": [
    {
     "data": {
      "text/plain": [
       "<bound method Series.sort_values of 1309    1\n",
       "449     1\n",
       "431     1\n",
       "432     1\n",
       "433     1\n",
       "434     1\n",
       "435     1\n",
       "436     1\n",
       "437     1\n",
       "438     1\n",
       "439     1\n",
       "440     1\n",
       "441     1\n",
       "442     1\n",
       "443     1\n",
       "444     1\n",
       "445     1\n",
       "446     1\n",
       "447     1\n",
       "430     1\n",
       "429     1\n",
       "428     1\n",
       "418     1\n",
       "411     1\n",
       "412     1\n",
       "413     1\n",
       "414     1\n",
       "415     1\n",
       "416     1\n",
       "417     1\n",
       "       ..\n",
       "890     1\n",
       "880     1\n",
       "891     1\n",
       "892     1\n",
       "893     1\n",
       "894     1\n",
       "895     1\n",
       "896     1\n",
       "897     1\n",
       "881     1\n",
       "879     1\n",
       "861     1\n",
       "869     1\n",
       "862     1\n",
       "863     1\n",
       "864     1\n",
       "865     1\n",
       "866     1\n",
       "867     1\n",
       "868     1\n",
       "870     1\n",
       "878     1\n",
       "871     1\n",
       "872     1\n",
       "873     1\n",
       "874     1\n",
       "875     1\n",
       "876     1\n",
       "877     1\n",
       "1       1\n",
       "Name: PassengerId, Length: 1309, dtype: int64>"
      ]
     },
     "execution_count": 41,
     "metadata": {},
     "output_type": "execute_result"
    }
   ],
   "source": [
    "all_df.PassengerId.value_counts().sort_values"
   ]
  },
  {
   "cell_type": "code",
   "execution_count": 42,
   "metadata": {},
   "outputs": [
    {
     "data": {
      "text/plain": [
       "3    709\n",
       "1    323\n",
       "2    277\n",
       "Name: Pclass, dtype: int64"
      ]
     },
     "execution_count": 42,
     "metadata": {},
     "output_type": "execute_result"
    }
   ],
   "source": [
    "all_df.Pclass.value_counts()"
   ]
  },
  {
   "cell_type": "code",
   "execution_count": 46,
   "metadata": {},
   "outputs": [],
   "source": [
    "train_df=pd.read_csv('./input_data/train.csv')\n",
    "s0=train_df.Pclass[train_df.Survived == 0].value_counts()"
   ]
  },
  {
   "cell_type": "code",
   "execution_count": 47,
   "metadata": {},
   "outputs": [],
   "source": [
    "s1=train_df.Pclass[train_df.Survived == 1].value_counts()"
   ]
  },
  {
   "cell_type": "code",
   "execution_count": 51,
   "metadata": {},
   "outputs": [
    {
     "data": {
      "image/png": "[encoded data removed]",
      "text/plain": [
       "<matplotlib.figure.Figure at 0xa0656d8>"
      ]
     },
     "metadata": {},
     "output_type": "display_data"
    }
   ],
   "source": [
    "import matplotlib \n",
    "import matplotlib.pyplot as plt\n",
    "from matplotlib.pylab import * \n",
    "mpl.rcParams['font.sans-serif'] = ['SimHei']  \n",
    "df=pd.DataFrame({u'获救':s1, u'未获救':s0})\n",
    "df.plot(kind='bar')\n",
    "plt.title(u\"各船票等级的获救情况\")\n",
    "plt.xlabel(u\"船票等级\") \n",
    "plt.ylabel(u\"人数\") \n",
    "plt.show()"
   ]
  },
  {
   "cell_type": "markdown",
   "metadata": {},
   "source": [
    "分析名字，提取称呼，根据称呼可以大致的判断性别年龄等。还可以提取姓氏"
   ]
  },
  {
   "cell_type": "code",
   "execution_count": 52,
   "metadata": {},
   "outputs": [
    {
     "data": {
      "text/plain": [
       "0                              Braund, Mr. Owen Harris\n",
       "1    Cumings, Mrs. John Bradley (Florence Briggs Th...\n",
       "2                               Heikkinen, Miss. Laina\n",
       "3         Futrelle, Mrs. Jacques Heath (Lily May Peel)\n",
       "4                             Allen, Mr. William Henry\n",
       "5                                     Moran, Mr. James\n",
       "6                              McCarthy, Mr. Timothy J\n",
       "7                       Palsson, Master. Gosta Leonard\n",
       "8    Johnson, Mrs. Oscar W (Elisabeth Vilhelmina Berg)\n",
       "9                  Nasser, Mrs. Nicholas (Adele Achem)\n",
       "Name: Name, dtype: object"
      ]
     },
     "execution_count": 52,
     "metadata": {},
     "output_type": "execute_result"
    }
   ],
   "source": [
    "all_df.Name.head(10)"
   ]
  },
  {
   "cell_type": "code",
   "execution_count": 96,
   "metadata": {},
   "outputs": [],
   "source": [
    "import re\n",
    "import numpy as np\n",
    "regx = re.compile('(.*, )|(\\\\..*)')          \n",
    "title=[]\n",
    "for name in all_df.Name.values:\n",
    "    title.append(re.sub(regx,'',name))\n",
    "all_df['title']=title"
   ]
  },
  {
   "cell_type": "code",
   "execution_count": 86,
   "metadata": {},
   "outputs": [
    {
     "data": {
      "text/plain": [
       "Mr              757\n",
       "Miss            260\n",
       "Mrs             197\n",
       "Master           61\n",
       "Rev               8\n",
       "Dr                8\n",
       "Col               4\n",
       "Mlle              2\n",
       "Major             2\n",
       "Ms                2\n",
       "the Countess      1\n",
       "Sir               1\n",
       "Don               1\n",
       "Mme               1\n",
       "Capt              1\n",
       "Jonkheer          1\n",
       "Lady              1\n",
       "Dona              1\n",
       "Name: title, dtype: int64"
      ]
     },
     "execution_count": 86,
     "metadata": {},
     "output_type": "execute_result"
    }
   ],
   "source": [
    "all_df.title.value_counts()"
   ]
  },
  {
   "cell_type": "code",
   "execution_count": 97,
   "metadata": {},
   "outputs": [],
   "source": [
    "all_df.loc[all_df.title=='Mlle','title']='Miss'\n",
    "all_df.loc[all_df.title=='Ms','title']='Miss'\n",
    "all_df.loc[all_df.title=='Mme','title']='Mrs'"
   ]
  },
  {
   "cell_type": "code",
   "execution_count": 98,
   "metadata": {},
   "outputs": [
    {
     "data": {
      "text/plain": [
       "Mr              757\n",
       "Miss            264\n",
       "Mrs             198\n",
       "Master           61\n",
       "Dr                8\n",
       "Rev               8\n",
       "Col               4\n",
       "Major             2\n",
       "Sir               1\n",
       "the Countess      1\n",
       "Dona              1\n",
       "Don               1\n",
       "Capt              1\n",
       "Jonkheer          1\n",
       "Lady              1\n",
       "Name: title, dtype: int64"
      ]
     },
     "execution_count": 98,
     "metadata": {},
     "output_type": "execute_result"
    }
   ],
   "source": [
    "all_df.title.value_counts()"
   ]
  },
  {
   "cell_type": "code",
   "execution_count": 100,
   "metadata": {},
   "outputs": [],
   "source": [
    "common=['Mr','Miss','Mrs','Master']\n",
    "all_df.loc[~all_df.title.isin(common) ,'title']='rare'"
   ]
  },
  {
   "cell_type": "code",
   "execution_count": 101,
   "metadata": {},
   "outputs": [
    {
     "data": {
      "text/plain": [
       "Mr        757\n",
       "Miss      264\n",
       "Mrs       198\n",
       "Master     61\n",
       "rare       29\n",
       "Name: title, dtype: int64"
      ]
     },
     "execution_count": 101,
     "metadata": {},
     "output_type": "execute_result"
    }
   ],
   "source": [
    "all_df.title.value_counts()"
   ]
  },
  {
   "cell_type": "code",
   "execution_count": 104,
   "metadata": {},
   "outputs": [
    {
     "data": {
      "image/png": "[encoded data removed]",
      "text/plain": [
       "<matplotlib.figure.Figure at 0xa1579b0>"
      ]
     },
     "metadata": {},
     "output_type": "display_data"
    }
   ],
   "source": [
    "s0=train_df.Sex[train_df.Survived == 0].value_counts()\n",
    "s1=train_df.Sex[train_df.Survived == 1].value_counts()\n",
    "df=pd.DataFrame({u'获救':s1, u'未获救':s0})\n",
    "df.plot(kind='bar')\n",
    "plt.title(u\"性别获救情况\")\n",
    "plt.xlabel(u\"性别\") \n",
    "plt.ylabel(u\"人数\") \n",
    "plt.show()"
   ]
  },
  {
   "cell_type": "code",
   "execution_count": 109,
   "metadata": {},
   "outputs": [
    {
     "data": {
      "image/png": "[encoded data removed]",
      "text/plain": [
       "<matplotlib.figure.Figure at 0xbdba0f0>"
      ]
     },
     "metadata": {},
     "output_type": "display_data"
    }
   ],
   "source": [
    "all_df.Age.plot(kind='kde')\n",
    "matplotlib.rcParams['axes.unicode_minus']=False\n",
    "plt.show()"
   ]
  },
  {
   "cell_type": "code",
   "execution_count": 113,
   "metadata": {},
   "outputs": [
    {
     "data": {
      "text/plain": [
       "0    891\n",
       "1    319\n",
       "2     42\n",
       "4     22\n",
       "3     20\n",
       "8      9\n",
       "5      6\n",
       "Name: SibSp, dtype: int64"
      ]
     },
     "execution_count": 113,
     "metadata": {},
     "output_type": "execute_result"
    }
   ],
   "source": [
    "all_df.SibSp.value_counts()"
   ]
  },
  {
   "cell_type": "code",
   "execution_count": 114,
   "metadata": {},
   "outputs": [
    {
     "data": {
      "text/plain": [
       "0    1002\n",
       "1     170\n",
       "2     113\n",
       "3       8\n",
       "5       6\n",
       "4       6\n",
       "9       2\n",
       "6       2\n",
       "Name: Parch, dtype: int64"
      ]
     },
     "execution_count": 114,
     "metadata": {},
     "output_type": "execute_result"
    }
   ],
   "source": [
    "all_df.Parch.value_counts()"
   ]
  },
  {
   "cell_type": "code",
   "execution_count": 115,
   "metadata": {
    "collapsed": true
   },
   "outputs": [],
   "source": [
    "all_df['family_cnt']=all_df['Parch']+all_df['SibSp']+1"
   ]
  },
  {
   "cell_type": "code",
   "execution_count": 119,
   "metadata": {},
   "outputs": [
    {
     "data": {
      "text/plain": [
       "1     790\n",
       "2     235\n",
       "3     159\n",
       "4      43\n",
       "6      25\n",
       "5      22\n",
       "7      16\n",
       "11     11\n",
       "8       8\n",
       "Name: family_cnt, dtype: int64"
      ]
     },
     "execution_count": 119,
     "metadata": {},
     "output_type": "execute_result"
    }
   ],
   "source": [
    "all_df.family_cnt.value_counts()"
   ]
  },
  {
   "cell_type": "code",
   "execution_count": 121,
   "metadata": {},
   "outputs": [],
   "source": [
    "all_df.loc[all_df.family_cnt==1,'family_type']='sigle'\n",
    "all_df.loc[all_df.family_cnt.isin([2,3]),'family_type']='middle'\n",
    "all_df.loc[all_df.family_cnt>=4,'family_type']='big'"
   ]
  },
  {
   "cell_type": "code",
   "execution_count": 122,
   "metadata": {},
   "outputs": [
    {
     "data": {
      "text/plain": [
       "sigle     790\n",
       "middle    394\n",
       "big       125\n",
       "Name: family_type, dtype: int64"
      ]
     },
     "execution_count": 122,
     "metadata": {},
     "output_type": "execute_result"
    }
   ],
   "source": [
    "all_df.family_type.value_counts()"
   ]
  },
  {
   "cell_type": "code",
   "execution_count": 123,
   "metadata": {
    "collapsed": true
   },
   "outputs": [],
   "source": [
    "train_df['family_cnt']=train_df['Parch']+train_df['SibSp']+1\n",
    "train_df.loc[train_df.family_cnt==1,'family_type']='sigle'\n",
    "train_df.loc[train_df.family_cnt.isin([2,3]),'family_type']='middle'\n",
    "train_df.loc[train_df.family_cnt>=4,'family_type']='big'"
   ]
  },
  {
   "cell_type": "code",
   "execution_count": 124,
   "metadata": {},
   "outputs": [
    {
     "data": {
      "image/png": "[encoded data removed]",
      "text/plain": [
       "<matplotlib.figure.Figure at 0xbe78630>"
      ]
     },
     "metadata": {},
     "output_type": "display_data"
    }
   ],
   "source": [
    "s0=train_df.family_type[train_df.Survived == 0].value_counts()\n",
    "s1=train_df.family_type[train_df.Survived == 1].value_counts()\n",
    "df=pd.DataFrame({u'获救':s1, u'未获救':s0})\n",
    "df.plot(kind='bar')\n",
    "plt.title(u\"家庭规模获救情况\")\n",
    "plt.xlabel(u\"家庭规模\") \n",
    "plt.ylabel(u\"人数\") \n",
    "plt.show()"
   ]
  },
  {
   "cell_type": "code",
   "execution_count": 133,
   "metadata": {},
   "outputs": [
    {
     "data": {
      "text/plain": [
       "CA. 2343              11\n",
       "CA 2144                8\n",
       "1601                   8\n",
       "3101295                7\n",
       "347077                 7\n",
       "347082                 7\n",
       "PC 17608               7\n",
       "S.O.C. 14879           7\n",
       "347088                 6\n",
       "19950                  6\n",
       "382652                 6\n",
       "113781                 6\n",
       "349909                 5\n",
       "PC 17757               5\n",
       "220845                 5\n",
       "4133                   5\n",
       "16966                  5\n",
       "W./C. 6608             5\n",
       "113503                 5\n",
       "C.A. 2315              4\n",
       "C.A. 34651             4\n",
       "230136                 4\n",
       "LINE                   4\n",
       "12749                  4\n",
       "SC/Paris 2123          4\n",
       "113760                 4\n",
       "PC 17760               4\n",
       "24160                  4\n",
       "PC 17483               4\n",
       "2666                   4\n",
       "                      ..\n",
       "A. 2. 39186            1\n",
       "349253                 1\n",
       "347065                 1\n",
       "7538                   1\n",
       "14313                  1\n",
       "350404                 1\n",
       "368783                 1\n",
       "350036                 1\n",
       "211536                 1\n",
       "SOTON/O.Q. 3101306     1\n",
       "347469                 1\n",
       "11771                  1\n",
       "345771                 1\n",
       "PC 17607               1\n",
       "364500                 1\n",
       "237249                 1\n",
       "347086                 1\n",
       "2698                   1\n",
       "112379                 1\n",
       "SC/PARIS 2146          1\n",
       "239059                 1\n",
       "345778                 1\n",
       "SOTON/OQ 3101317       1\n",
       "349251                 1\n",
       "28213                  1\n",
       "112051                 1\n",
       "370370                 1\n",
       "347073                 1\n",
       "19988                  1\n",
       "345781                 1\n",
       "Name: Ticket, Length: 929, dtype: int64"
      ]
     },
     "execution_count": 133,
     "metadata": {},
     "output_type": "execute_result"
    }
   ],
   "source": [
    "all_df.Ticket.value_counts()"
   ]
  },
  {
   "cell_type": "code",
   "execution_count": 136,
   "metadata": {},
   "outputs": [
    {
     "data": {
      "image/png": "[encoded data removed]",
      "text/plain": [
       "<matplotlib.figure.Figure at 0x8c7de10>"
      ]
     },
     "metadata": {},
     "output_type": "display_data"
    }
   ],
   "source": [
    "all_df.Fare.plot('kde')\n",
    "plt.show()"
   ]
  },
  {
   "cell_type": "code",
   "execution_count": 137,
   "metadata": {},
   "outputs": [
    {
     "data": {
      "text/html": [
       "<div>\n",
       "<style>\n",
       "    .dataframe thead tr:only-child th {\n",
       "        text-align: right;\n",
       "    }\n",
       "\n",
       "    .dataframe thead th {\n",
       "        text-align: left;\n",
       "    }\n",
       "\n",
       "    .dataframe tbody tr th {\n",
       "        vertical-align: top;\n",
       "    }\n",
       "</style>\n",
       "<table border=\"1\" class=\"dataframe\">\n",
       "  <thead>\n",
       "    <tr style=\"text-align: right;\">\n",
       "      <th></th>\n",
       "      <th>PassengerId</th>\n",
       "      <th>Pclass</th>\n",
       "      <th>Age</th>\n",
       "      <th>SibSp</th>\n",
       "      <th>Parch</th>\n",
       "      <th>Fare</th>\n",
       "      <th>family_cnt</th>\n",
       "    </tr>\n",
       "  </thead>\n",
       "  <tbody>\n",
       "    <tr>\n",
       "      <th>count</th>\n",
       "      <td>1309.000000</td>\n",
       "      <td>1309.000000</td>\n",
       "      <td>1046.000000</td>\n",
       "      <td>1309.000000</td>\n",
       "      <td>1309.000000</td>\n",
       "      <td>1308.000000</td>\n",
       "      <td>1309.000000</td>\n",
       "    </tr>\n",
       "    <tr>\n",
       "      <th>mean</th>\n",
       "      <td>655.000000</td>\n",
       "      <td>2.294882</td>\n",
       "      <td>29.881138</td>\n",
       "      <td>0.498854</td>\n",
       "      <td>0.385027</td>\n",
       "      <td>33.295479</td>\n",
       "      <td>1.883881</td>\n",
       "    </tr>\n",
       "    <tr>\n",
       "      <th>std</th>\n",
       "      <td>378.020061</td>\n",
       "      <td>0.837836</td>\n",
       "      <td>14.413493</td>\n",
       "      <td>1.041658</td>\n",
       "      <td>0.865560</td>\n",
       "      <td>51.758668</td>\n",
       "      <td>1.583639</td>\n",
       "    </tr>\n",
       "    <tr>\n",
       "      <th>min</th>\n",
       "      <td>1.000000</td>\n",
       "      <td>1.000000</td>\n",
       "      <td>0.170000</td>\n",
       "      <td>0.000000</td>\n",
       "      <td>0.000000</td>\n",
       "      <td>0.000000</td>\n",
       "      <td>1.000000</td>\n",
       "    </tr>\n",
       "    <tr>\n",
       "      <th>25%</th>\n",
       "      <td>328.000000</td>\n",
       "      <td>2.000000</td>\n",
       "      <td>21.000000</td>\n",
       "      <td>0.000000</td>\n",
       "      <td>0.000000</td>\n",
       "      <td>7.895800</td>\n",
       "      <td>1.000000</td>\n",
       "    </tr>\n",
       "    <tr>\n",
       "      <th>50%</th>\n",
       "      <td>655.000000</td>\n",
       "      <td>3.000000</td>\n",
       "      <td>28.000000</td>\n",
       "      <td>0.000000</td>\n",
       "      <td>0.000000</td>\n",
       "      <td>14.454200</td>\n",
       "      <td>1.000000</td>\n",
       "    </tr>\n",
       "    <tr>\n",
       "      <th>75%</th>\n",
       "      <td>982.000000</td>\n",
       "      <td>3.000000</td>\n",
       "      <td>39.000000</td>\n",
       "      <td>1.000000</td>\n",
       "      <td>0.000000</td>\n",
       "      <td>31.275000</td>\n",
       "      <td>2.000000</td>\n",
       "    </tr>\n",
       "    <tr>\n",
       "      <th>max</th>\n",
       "      <td>1309.000000</td>\n",
       "      <td>3.000000</td>\n",
       "      <td>80.000000</td>\n",
       "      <td>8.000000</td>\n",
       "      <td>9.000000</td>\n",
       "      <td>512.329200</td>\n",
       "      <td>11.000000</td>\n",
       "    </tr>\n",
       "  </tbody>\n",
       "</table>\n",
       "</div>"
      ],
      "text/plain": [
       "       PassengerId       Pclass          Age        SibSp        Parch  \\\n",
       "count  1309.000000  1309.000000  1046.000000  1309.000000  1309.000000   \n",
       "mean    655.000000     2.294882    29.881138     0.498854     0.385027   \n",
       "std     378.020061     0.837836    14.413493     1.041658     0.865560   \n",
       "min       1.000000     1.000000     0.170000     0.000000     0.000000   \n",
       "25%     328.000000     2.000000    21.000000     0.000000     0.000000   \n",
       "50%     655.000000     3.000000    28.000000     0.000000     0.000000   \n",
       "75%     982.000000     3.000000    39.000000     1.000000     0.000000   \n",
       "max    1309.000000     3.000000    80.000000     8.000000     9.000000   \n",
       "\n",
       "              Fare   family_cnt  \n",
       "count  1308.000000  1309.000000  \n",
       "mean     33.295479     1.883881  \n",
       "std      51.758668     1.583639  \n",
       "min       0.000000     1.000000  \n",
       "25%       7.895800     1.000000  \n",
       "50%      14.454200     1.000000  \n",
       "75%      31.275000     2.000000  \n",
       "max     512.329200    11.000000  "
      ]
     },
     "execution_count": 137,
     "metadata": {},
     "output_type": "execute_result"
    }
   ],
   "source": [
    "all_df.describe()"
   ]
  },
  {
   "cell_type": "code",
   "execution_count": 139,
   "metadata": {},
   "outputs": [],
   "source": [
    "all_df.loc[all_df.Fare.isnull(),'Fare']=14.4542"
   ]
  },
  {
   "cell_type": "code",
   "execution_count": 151,
   "metadata": {},
   "outputs": [],
   "source": [
    "cabin_type=[]\n",
    "for tmp_cabin in all_df.Cabin.values:\n",
    "    cabin_type.append(str(tmp_cabin)[0])\n",
    "all_df['cabin_type']=cabin_type"
   ]
  },
  {
   "cell_type": "code",
   "execution_count": 152,
   "metadata": {},
   "outputs": [
    {
     "data": {
      "text/plain": [
       "n    1014\n",
       "C      94\n",
       "B      65\n",
       "D      46\n",
       "E      41\n",
       "A      22\n",
       "F      21\n",
       "G       5\n",
       "T       1\n",
       "Name: cabin_type, dtype: int64"
      ]
     },
     "execution_count": 152,
     "metadata": {},
     "output_type": "execute_result"
    }
   ],
   "source": [
    "all_df.cabin_type.value_counts()"
   ]
  },
  {
   "cell_type": "code",
   "execution_count": 153,
   "metadata": {
    "collapsed": true
   },
   "outputs": [],
   "source": [
    "all_df.loc[all_df.cabin_type=='G','cabin_type']='O'\n",
    "all_df.loc[all_df.cabin_type=='T','cabin_type']='O'"
   ]
  },
  {
   "cell_type": "code",
   "execution_count": 154,
   "metadata": {},
   "outputs": [
    {
     "data": {
      "text/plain": [
       "n    1014\n",
       "C      94\n",
       "B      65\n",
       "D      46\n",
       "E      41\n",
       "A      22\n",
       "F      21\n",
       "O       6\n",
       "Name: cabin_type, dtype: int64"
      ]
     },
     "execution_count": 154,
     "metadata": {},
     "output_type": "execute_result"
    }
   ],
   "source": [
    "all_df.cabin_type.value_counts()"
   ]
  },
  {
   "cell_type": "code",
   "execution_count": 155,
   "metadata": {
    "collapsed": true
   },
   "outputs": [],
   "source": [
    "train_cabin_type=[]\n",
    "for tmp_cabin in train_df.Cabin.values:\n",
    "    train_cabin_type.append(str(tmp_cabin)[0])\n",
    "train_df['cabin_type']=train_cabin_type\n",
    "train_df.loc[train_df.cabin_type=='G','cabin_type']='O'\n",
    "train_df.loc[train_df.cabin_type=='T','cabin_type']='O'"
   ]
  },
  {
   "cell_type": "code",
   "execution_count": 157,
   "metadata": {},
   "outputs": [
    {
     "data": {
      "image/png": "[encoded data removed]",
      "text/plain": [
       "<matplotlib.figure.Figure at 0xa1d6240>"
      ]
     },
     "metadata": {},
     "output_type": "display_data"
    }
   ],
   "source": [
    "s0=train_df.cabin_type[train_df.Survived == 0].value_counts()\n",
    "s1=train_df.cabin_type[train_df.Survived == 1].value_counts()\n",
    "df=pd.DataFrame({u'获救':s1, u'未获救':s0})\n",
    "df.plot(kind='bar')\n",
    "plt.title(u\"客舱号码类型获救情况\")\n",
    "plt.xlabel(u\"客舱号码类型\") \n",
    "plt.ylabel(u\"人数\") \n",
    "plt.show()"
   ]
  },
  {
   "cell_type": "code",
   "execution_count": 158,
   "metadata": {},
   "outputs": [
    {
     "name": "stdout",
     "output_type": "stream",
     "text": [
      "<class 'pandas.core.frame.DataFrame'>\n",
      "Int64Index: 1309 entries, 0 to 417\n",
      "Data columns (total 16 columns):\n",
      "PassengerId    1309 non-null int64\n",
      "Pclass         1309 non-null int64\n",
      "Name           1309 non-null object\n",
      "Sex            1309 non-null object\n",
      "Age            1046 non-null float64\n",
      "SibSp          1309 non-null int64\n",
      "Parch          1309 non-null int64\n",
      "Ticket         1309 non-null object\n",
      "Fare           1309 non-null float64\n",
      "Cabin          295 non-null object\n",
      "Embarked       1307 non-null object\n",
      "trainortest    1309 non-null object\n",
      "title          1309 non-null object\n",
      "family_cnt     1309 non-null int64\n",
      "family_type    1309 non-null object\n",
      "cabin_type     1309 non-null object\n",
      "dtypes: float64(2), int64(5), object(9)\n",
      "memory usage: 213.9+ KB\n"
     ]
    }
   ],
   "source": [
    "all_df.info()"
   ]
  },
  {
   "cell_type": "code",
   "execution_count": 159,
   "metadata": {},
   "outputs": [
    {
     "data": {
      "text/plain": [
       "S    914\n",
       "C    270\n",
       "Q    123\n",
       "Name: Embarked, dtype: int64"
      ]
     },
     "execution_count": 159,
     "metadata": {},
     "output_type": "execute_result"
    }
   ],
   "source": [
    "all_df.Embarked.value_counts()"
   ]
  },
  {
   "cell_type": "code",
   "execution_count": 160,
   "metadata": {
    "collapsed": true
   },
   "outputs": [],
   "source": [
    "all_df.loc[all_df.Embarked.isnull(),'Embarked']='S'"
   ]
  },
  {
   "cell_type": "code",
   "execution_count": 161,
   "metadata": {},
   "outputs": [
    {
     "name": "stdout",
     "output_type": "stream",
     "text": [
      "<class 'pandas.core.frame.DataFrame'>\n",
      "Int64Index: 1309 entries, 0 to 417\n",
      "Data columns (total 16 columns):\n",
      "PassengerId    1309 non-null int64\n",
      "Pclass         1309 non-null int64\n",
      "Name           1309 non-null object\n",
      "Sex            1309 non-null object\n",
      "Age            1046 non-null float64\n",
      "SibSp          1309 non-null int64\n",
      "Parch          1309 non-null int64\n",
      "Ticket         1309 non-null object\n",
      "Fare           1309 non-null float64\n",
      "Cabin          295 non-null object\n",
      "Embarked       1309 non-null object\n",
      "trainortest    1309 non-null object\n",
      "title          1309 non-null object\n",
      "family_cnt     1309 non-null int64\n",
      "family_type    1309 non-null object\n",
      "cabin_type     1309 non-null object\n",
      "dtypes: float64(2), int64(5), object(9)\n",
      "memory usage: 213.9+ KB\n"
     ]
    }
   ],
   "source": [
    "all_df.info()"
   ]
  },
  {
   "cell_type": "code",
   "execution_count": 162,
   "metadata": {},
   "outputs": [
    {
     "data": {
      "image/png": "[encoded data removed]",
      "text/plain": [
       "<matplotlib.figure.Figure at 0xbd9fe48>"
      ]
     },
     "metadata": {},
     "output_type": "display_data"
    }
   ],
   "source": [
    "s0=train_df.Embarked[train_df.Survived == 0].value_counts()\n",
    "s1=train_df.Embarked[train_df.Survived == 1].value_counts()\n",
    "df=pd.DataFrame({u'获救':s1, u'未获救':s0})\n",
    "df.plot(kind='bar')\n",
    "plt.title(u\"登录港口获救情况\")\n",
    "plt.xlabel(u\"登录港口类型\") \n",
    "plt.ylabel(u\"人数\") \n",
    "plt.show()"
   ]
  },
  {
   "cell_type": "code",
   "execution_count": 178,
   "metadata": {},
   "outputs": [
    {
     "name": "stdout",
     "output_type": "stream",
     "text": [
      "<class 'pandas.core.frame.DataFrame'>\n",
      "Int64Index: 1309 entries, 0 to 417\n",
      "Data columns (total 16 columns):\n",
      "PassengerId    1309 non-null int64\n",
      "Pclass         1309 non-null int64\n",
      "Name           1309 non-null object\n",
      "Sex            1309 non-null object\n",
      "Age            1046 non-null float64\n",
      "SibSp          1309 non-null int64\n",
      "Parch          1309 non-null int64\n",
      "Ticket         1309 non-null object\n",
      "Fare           1309 non-null float64\n",
      "Cabin          295 non-null object\n",
      "Embarked       1309 non-null object\n",
      "trainortest    1309 non-null object\n",
      "title          1309 non-null object\n",
      "family_cnt     1309 non-null int64\n",
      "family_type    1309 non-null object\n",
      "cabin_type     1309 non-null object\n",
      "dtypes: float64(2), int64(5), object(9)\n",
      "memory usage: 213.9+ KB\n"
     ]
    }
   ],
   "source": [
    "all_df.info()"
   ]
  },
  {
   "cell_type": "code",
   "execution_count": 179,
   "metadata": {
    "collapsed": true
   },
   "outputs": [],
   "source": [
    "all_df=pd.get_dummies(all_df,columns=['Pclass','Sex','Embarked','title','family_type','cabin_type'])"
   ]
  },
  {
   "cell_type": "code",
   "execution_count": 182,
   "metadata": {},
   "outputs": [
    {
     "name": "stdout",
     "output_type": "stream",
     "text": [
      "<class 'pandas.core.frame.DataFrame'>\n",
      "Int64Index: 1309 entries, 0 to 417\n",
      "Data columns (total 34 columns):\n",
      "PassengerId           1309 non-null int64\n",
      "Name                  1309 non-null object\n",
      "Age                   1046 non-null float64\n",
      "SibSp                 1309 non-null int64\n",
      "Parch                 1309 non-null int64\n",
      "Ticket                1309 non-null object\n",
      "Fare                  1309 non-null float64\n",
      "Cabin                 295 non-null object\n",
      "trainortest           1309 non-null object\n",
      "family_cnt            1309 non-null int64\n",
      "Pclass_1              1309 non-null uint8\n",
      "Pclass_2              1309 non-null uint8\n",
      "Pclass_3              1309 non-null uint8\n",
      "Sex_female            1309 non-null uint8\n",
      "Sex_male              1309 non-null uint8\n",
      "Embarked_C            1309 non-null uint8\n",
      "Embarked_Q            1309 non-null uint8\n",
      "Embarked_S            1309 non-null uint8\n",
      "title_Master          1309 non-null uint8\n",
      "title_Miss            1309 non-null uint8\n",
      "title_Mr              1309 non-null uint8\n",
      "title_Mrs             1309 non-null uint8\n",
      "title_rare            1309 non-null uint8\n",
      "family_type_big       1309 non-null uint8\n",
      "family_type_middle    1309 non-null uint8\n",
      "family_type_sigle     1309 non-null uint8\n",
      "cabin_type_A          1309 non-null uint8\n",
      "cabin_type_B          1309 non-null uint8\n",
      "cabin_type_C          1309 non-null uint8\n",
      "cabin_type_D          1309 non-null uint8\n",
      "cabin_type_E          1309 non-null uint8\n",
      "cabin_type_F          1309 non-null uint8\n",
      "cabin_type_O          1309 non-null uint8\n",
      "cabin_type_n          1309 non-null uint8\n",
      "dtypes: float64(2), int64(4), object(4), uint8(24)\n",
      "memory usage: 183.2+ KB\n"
     ]
    }
   ],
   "source": [
    "all_df.info()"
   ]
  },
  {
   "cell_type": "code",
   "execution_count": 185,
   "metadata": {},
   "outputs": [],
   "source": [
    "import sklearn.preprocessing as preprocessing\n",
    "scaler = preprocessing.StandardScaler()\n",
    "age_scale_param = scaler.fit(all_df[['Fare']])\n",
    "all_df['Fare_scaled'] = scaler.fit_transform(all_df[['Fare']], age_scale_param)\n",
    "\n",
    "age_scale_param = scaler.fit(all_df[['family_cnt']])\n",
    "all_df['family_cnt_scaled'] = scaler.fit_transform(all_df[['family_cnt']], age_scale_param)\n",
    "\n",
    "age_scale_param = scaler.fit(all_df[['SibSp']])\n",
    "all_df['SibSp_scaled'] = scaler.fit_transform(all_df[['SibSp']], age_scale_param)\n",
    "\n",
    "age_scale_param = scaler.fit(all_df[['Parch']])\n",
    "all_df['Parch_scaled'] = scaler.fit_transform(all_df[['Parch']], age_scale_param)\n",
    "\n"
   ]
  },
  {
   "cell_type": "code",
   "execution_count": 190,
   "metadata": {},
   "outputs": [
    {
     "data": {
      "text/plain": [
       "Index(['PassengerId', 'Name', 'Age', 'SibSp', 'Parch', 'Ticket', 'Fare',\n",
       "       'Cabin', 'trainortest', 'family_cnt', 'Pclass_1', 'Pclass_2',\n",
       "       'Pclass_3', 'Sex_female', 'Sex_male', 'Embarked_C', 'Embarked_Q',\n",
       "       'Embarked_S', 'title_Master', 'title_Miss', 'title_Mr', 'title_Mrs',\n",
       "       'title_rare', 'family_type_big', 'family_type_middle',\n",
       "       'family_type_sigle', 'cabin_type_A', 'cabin_type_B', 'cabin_type_C',\n",
       "       'cabin_type_D', 'cabin_type_E', 'cabin_type_F', 'cabin_type_O',\n",
       "       'cabin_type_n', 'Fare_scaled', 'family_cnt_scaled', 'SibSp_scaled',\n",
       "       'Parch_scaled'],\n",
       "      dtype='object')"
      ]
     },
     "execution_count": 190,
     "metadata": {},
     "output_type": "execute_result"
    }
   ],
   "source": [
    "all_df.columns"
   ]
  },
  {
   "cell_type": "code",
   "execution_count": 191,
   "metadata": {},
   "outputs": [],
   "source": [
    "age_factor=[ 'Pclass_1', 'Pclass_2',\n",
    "       'Pclass_3', 'Sex_female', 'Sex_male', 'Embarked_C', 'Embarked_Q',\n",
    "       'Embarked_S', 'title_Master', 'title_Miss', 'title_Mr', 'title_Mrs',\n",
    "       'title_rare', 'family_type_big', 'family_type_middle',\n",
    "       'family_type_sigle', 'cabin_type_A', 'cabin_type_B', 'cabin_type_C',\n",
    "       'cabin_type_D', 'cabin_type_E', 'cabin_type_F', 'cabin_type_O',\n",
    "       'cabin_type_n', 'Fare_scaled', 'family_cnt_scaled', 'SibSp_scaled',\n",
    "       'Parch_scaled']\n",
    "agenull_test=all_df.loc[all_df.Age.isnull(),age_factor]\n",
    "agenotnull_train=all_df.loc[~all_df.Age.isnull(),age_factor]\n",
    "agenotnull_label=all_df.loc[~all_df.Age.isnull(),'Age']"
   ]
  },
  {
   "cell_type": "code",
   "execution_count": 192,
   "metadata": {},
   "outputs": [
    {
     "data": {
      "text/plain": [
       "RandomForestRegressor(bootstrap=True, criterion='mse', max_depth=None,\n",
       "           max_features='auto', max_leaf_nodes=None,\n",
       "           min_impurity_split=1e-07, min_samples_leaf=1,\n",
       "           min_samples_split=2, min_weight_fraction_leaf=0.0,\n",
       "           n_estimators=2000, n_jobs=-1, oob_score=False, random_state=0,\n",
       "           verbose=0, warm_start=False)"
      ]
     },
     "execution_count": 192,
     "metadata": {},
     "output_type": "execute_result"
    }
   ],
   "source": [
    "from sklearn.ensemble import RandomForestRegressor \n",
    "rfr = RandomForestRegressor(random_state=0, n_estimators=2000, n_jobs=-1)\n",
    "rfr.fit(agenotnull_train.values,agenotnull_label.values)"
   ]
  },
  {
   "cell_type": "code",
   "execution_count": 193,
   "metadata": {},
   "outputs": [],
   "source": [
    "age_pre=rfr.predict(agenull_test.values)"
   ]
  },
  {
   "cell_type": "code",
   "execution_count": 196,
   "metadata": {},
   "outputs": [],
   "source": [
    "all_df.loc[all_df.Age.isnull(),'Age']=age_pre"
   ]
  },
  {
   "cell_type": "code",
   "execution_count": 197,
   "metadata": {},
   "outputs": [
    {
     "name": "stdout",
     "output_type": "stream",
     "text": [
      "<class 'pandas.core.frame.DataFrame'>\n",
      "Int64Index: 1309 entries, 0 to 417\n",
      "Data columns (total 38 columns):\n",
      "PassengerId           1309 non-null int64\n",
      "Name                  1309 non-null object\n",
      "Age                   1309 non-null float64\n",
      "SibSp                 1309 non-null int64\n",
      "Parch                 1309 non-null int64\n",
      "Ticket                1309 non-null object\n",
      "Fare                  1309 non-null float64\n",
      "Cabin                 295 non-null object\n",
      "trainortest           1309 non-null object\n",
      "family_cnt            1309 non-null int64\n",
      "Pclass_1              1309 non-null uint8\n",
      "Pclass_2              1309 non-null uint8\n",
      "Pclass_3              1309 non-null uint8\n",
      "Sex_female            1309 non-null uint8\n",
      "Sex_male              1309 non-null uint8\n",
      "Embarked_C            1309 non-null uint8\n",
      "Embarked_Q            1309 non-null uint8\n",
      "Embarked_S            1309 non-null uint8\n",
      "title_Master          1309 non-null uint8\n",
      "title_Miss            1309 non-null uint8\n",
      "title_Mr              1309 non-null uint8\n",
      "title_Mrs             1309 non-null uint8\n",
      "title_rare            1309 non-null uint8\n",
      "family_type_big       1309 non-null uint8\n",
      "family_type_middle    1309 non-null uint8\n",
      "family_type_sigle     1309 non-null uint8\n",
      "cabin_type_A          1309 non-null uint8\n",
      "cabin_type_B          1309 non-null uint8\n",
      "cabin_type_C          1309 non-null uint8\n",
      "cabin_type_D          1309 non-null uint8\n",
      "cabin_type_E          1309 non-null uint8\n",
      "cabin_type_F          1309 non-null uint8\n",
      "cabin_type_O          1309 non-null uint8\n",
      "cabin_type_n          1309 non-null uint8\n",
      "Fare_scaled           1309 non-null float64\n",
      "family_cnt_scaled     1309 non-null float64\n",
      "SibSp_scaled          1309 non-null float64\n",
      "Parch_scaled          1309 non-null float64\n",
      "dtypes: float64(6), int64(4), object(4), uint8(24)\n",
      "memory usage: 224.1+ KB\n"
     ]
    }
   ],
   "source": [
    "all_df.info()"
   ]
  },
  {
   "cell_type": "code",
   "execution_count": 198,
   "metadata": {},
   "outputs": [
    {
     "data": {
      "text/plain": [
       "0              NaN\n",
       "1              C85\n",
       "2              NaN\n",
       "3             C123\n",
       "4              NaN\n",
       "5              NaN\n",
       "6              E46\n",
       "7              NaN\n",
       "8              NaN\n",
       "9              NaN\n",
       "10              G6\n",
       "11            C103\n",
       "12             NaN\n",
       "13             NaN\n",
       "14             NaN\n",
       "15             NaN\n",
       "16             NaN\n",
       "17             NaN\n",
       "18             NaN\n",
       "19             NaN\n",
       "20             NaN\n",
       "21             D56\n",
       "22             NaN\n",
       "23              A6\n",
       "24             NaN\n",
       "25             NaN\n",
       "26             NaN\n",
       "27     C23 C25 C27\n",
       "28             NaN\n",
       "29             NaN\n",
       "          ...     \n",
       "388            NaN\n",
       "389            NaN\n",
       "390            B24\n",
       "391            D28\n",
       "392            NaN\n",
       "393            NaN\n",
       "394            NaN\n",
       "395            C31\n",
       "396            NaN\n",
       "397            B41\n",
       "398            NaN\n",
       "399            NaN\n",
       "400             C7\n",
       "401            NaN\n",
       "402            NaN\n",
       "403            NaN\n",
       "404            D40\n",
       "405            D38\n",
       "406            NaN\n",
       "407            C80\n",
       "408            NaN\n",
       "409            NaN\n",
       "410            NaN\n",
       "411            C78\n",
       "412            NaN\n",
       "413            NaN\n",
       "414           C105\n",
       "415            NaN\n",
       "416            NaN\n",
       "417            NaN\n",
       "Name: Cabin, Length: 1309, dtype: object"
      ]
     },
     "execution_count": 198,
     "metadata": {},
     "output_type": "execute_result"
    }
   ],
   "source": [
    "all_df.pop('Name')\n",
    "all_df.pop('Ticket')\n",
    "all_df.pop('Cabin')\n"
   ]
  },
  {
   "cell_type": "code",
   "execution_count": 203,
   "metadata": {},
   "outputs": [],
   "source": [
    "all_df.loc[all_df.Age<=12,'Age_type']='child'\n",
    "all_df.loc[all_df.Age.between(13,40),'Age_type']='adult'\n",
    "all_df.loc[all_df.Age>40,'Age_type']='old'"
   ]
  },
  {
   "cell_type": "code",
   "execution_count": 204,
   "metadata": {},
   "outputs": [
    {
     "name": "stdout",
     "output_type": "stream",
     "text": [
      "<class 'pandas.core.frame.DataFrame'>\n",
      "Int64Index: 1309 entries, 0 to 417\n",
      "Data columns (total 36 columns):\n",
      "PassengerId           1309 non-null int64\n",
      "Age                   1309 non-null float64\n",
      "SibSp                 1309 non-null int64\n",
      "Parch                 1309 non-null int64\n",
      "Fare                  1309 non-null float64\n",
      "trainortest           1309 non-null object\n",
      "family_cnt            1309 non-null int64\n",
      "Pclass_1              1309 non-null uint8\n",
      "Pclass_2              1309 non-null uint8\n",
      "Pclass_3              1309 non-null uint8\n",
      "Sex_female            1309 non-null uint8\n",
      "Sex_male              1309 non-null uint8\n",
      "Embarked_C            1309 non-null uint8\n",
      "Embarked_Q            1309 non-null uint8\n",
      "Embarked_S            1309 non-null uint8\n",
      "title_Master          1309 non-null uint8\n",
      "title_Miss            1309 non-null uint8\n",
      "title_Mr              1309 non-null uint8\n",
      "title_Mrs             1309 non-null uint8\n",
      "title_rare            1309 non-null uint8\n",
      "family_type_big       1309 non-null uint8\n",
      "family_type_middle    1309 non-null uint8\n",
      "family_type_sigle     1309 non-null uint8\n",
      "cabin_type_A          1309 non-null uint8\n",
      "cabin_type_B          1309 non-null uint8\n",
      "cabin_type_C          1309 non-null uint8\n",
      "cabin_type_D          1309 non-null uint8\n",
      "cabin_type_E          1309 non-null uint8\n",
      "cabin_type_F          1309 non-null uint8\n",
      "cabin_type_O          1309 non-null uint8\n",
      "cabin_type_n          1309 non-null uint8\n",
      "Fare_scaled           1309 non-null float64\n",
      "family_cnt_scaled     1309 non-null float64\n",
      "SibSp_scaled          1309 non-null float64\n",
      "Parch_scaled          1309 non-null float64\n",
      "Age_type              1309 non-null object\n",
      "dtypes: float64(6), int64(4), object(2), uint8(24)\n",
      "memory usage: 203.6+ KB\n"
     ]
    }
   ],
   "source": [
    "all_df.info()"
   ]
  },
  {
   "cell_type": "code",
   "execution_count": 206,
   "metadata": {},
   "outputs": [],
   "source": [
    "all_df=pd.get_dummies(all_df,columns=['Age_type'])"
   ]
  },
  {
   "cell_type": "code",
   "execution_count": 207,
   "metadata": {},
   "outputs": [
    {
     "name": "stdout",
     "output_type": "stream",
     "text": [
      "<class 'pandas.core.frame.DataFrame'>\n",
      "Int64Index: 1309 entries, 0 to 417\n",
      "Data columns (total 38 columns):\n",
      "PassengerId           1309 non-null int64\n",
      "Age                   1309 non-null float64\n",
      "SibSp                 1309 non-null int64\n",
      "Parch                 1309 non-null int64\n",
      "Fare                  1309 non-null float64\n",
      "trainortest           1309 non-null object\n",
      "family_cnt            1309 non-null int64\n",
      "Pclass_1              1309 non-null uint8\n",
      "Pclass_2              1309 non-null uint8\n",
      "Pclass_3              1309 non-null uint8\n",
      "Sex_female            1309 non-null uint8\n",
      "Sex_male              1309 non-null uint8\n",
      "Embarked_C            1309 non-null uint8\n",
      "Embarked_Q            1309 non-null uint8\n",
      "Embarked_S            1309 non-null uint8\n",
      "title_Master          1309 non-null uint8\n",
      "title_Miss            1309 non-null uint8\n",
      "title_Mr              1309 non-null uint8\n",
      "title_Mrs             1309 non-null uint8\n",
      "title_rare            1309 non-null uint8\n",
      "family_type_big       1309 non-null uint8\n",
      "family_type_middle    1309 non-null uint8\n",
      "family_type_sigle     1309 non-null uint8\n",
      "cabin_type_A          1309 non-null uint8\n",
      "cabin_type_B          1309 non-null uint8\n",
      "cabin_type_C          1309 non-null uint8\n",
      "cabin_type_D          1309 non-null uint8\n",
      "cabin_type_E          1309 non-null uint8\n",
      "cabin_type_F          1309 non-null uint8\n",
      "cabin_type_O          1309 non-null uint8\n",
      "cabin_type_n          1309 non-null uint8\n",
      "Fare_scaled           1309 non-null float64\n",
      "family_cnt_scaled     1309 non-null float64\n",
      "SibSp_scaled          1309 non-null float64\n",
      "Parch_scaled          1309 non-null float64\n",
      "Age_type_adult        1309 non-null uint8\n",
      "Age_type_child        1309 non-null uint8\n",
      "Age_type_old          1309 non-null uint8\n",
      "dtypes: float64(6), int64(4), object(1), uint8(27)\n",
      "memory usage: 197.2+ KB\n"
     ]
    }
   ],
   "source": [
    "all_df.info()"
   ]
  },
  {
   "cell_type": "code",
   "execution_count": 208,
   "metadata": {
    "collapsed": true
   },
   "outputs": [],
   "source": [
    "age_scale_param = scaler.fit(all_df[['Age']])\n",
    "all_df['Age_scaled'] = scaler.fit_transform(all_df[['Age']], age_scale_param)"
   ]
  },
  {
   "cell_type": "code",
   "execution_count": 209,
   "metadata": {},
   "outputs": [
    {
     "name": "stdout",
     "output_type": "stream",
     "text": [
      "<class 'pandas.core.frame.DataFrame'>\n",
      "Int64Index: 1309 entries, 0 to 417\n",
      "Data columns (total 39 columns):\n",
      "PassengerId           1309 non-null int64\n",
      "Age                   1309 non-null float64\n",
      "SibSp                 1309 non-null int64\n",
      "Parch                 1309 non-null int64\n",
      "Fare                  1309 non-null float64\n",
      "trainortest           1309 non-null object\n",
      "family_cnt            1309 non-null int64\n",
      "Pclass_1              1309 non-null uint8\n",
      "Pclass_2              1309 non-null uint8\n",
      "Pclass_3              1309 non-null uint8\n",
      "Sex_female            1309 non-null uint8\n",
      "Sex_male              1309 non-null uint8\n",
      "Embarked_C            1309 non-null uint8\n",
      "Embarked_Q            1309 non-null uint8\n",
      "Embarked_S            1309 non-null uint8\n",
      "title_Master          1309 non-null uint8\n",
      "title_Miss            1309 non-null uint8\n",
      "title_Mr              1309 non-null uint8\n",
      "title_Mrs             1309 non-null uint8\n",
      "title_rare            1309 non-null uint8\n",
      "family_type_big       1309 non-null uint8\n",
      "family_type_middle    1309 non-null uint8\n",
      "family_type_sigle     1309 non-null uint8\n",
      "cabin_type_A          1309 non-null uint8\n",
      "cabin_type_B          1309 non-null uint8\n",
      "cabin_type_C          1309 non-null uint8\n",
      "cabin_type_D          1309 non-null uint8\n",
      "cabin_type_E          1309 non-null uint8\n",
      "cabin_type_F          1309 non-null uint8\n",
      "cabin_type_O          1309 non-null uint8\n",
      "cabin_type_n          1309 non-null uint8\n",
      "Fare_scaled           1309 non-null float64\n",
      "family_cnt_scaled     1309 non-null float64\n",
      "SibSp_scaled          1309 non-null float64\n",
      "Parch_scaled          1309 non-null float64\n",
      "Age_type_adult        1309 non-null uint8\n",
      "Age_type_child        1309 non-null uint8\n",
      "Age_type_old          1309 non-null uint8\n",
      "Age_scaled            1309 non-null float64\n",
      "dtypes: float64(7), int64(4), object(1), uint8(27)\n",
      "memory usage: 207.5+ KB\n"
     ]
    }
   ],
   "source": [
    "all_df.info()"
   ]
  },
  {
   "cell_type": "code",
   "execution_count": 210,
   "metadata": {},
   "outputs": [
    {
     "data": {
      "text/plain": [
       "0        7.2500\n",
       "1       71.2833\n",
       "2        7.9250\n",
       "3       53.1000\n",
       "4        8.0500\n",
       "5        8.4583\n",
       "6       51.8625\n",
       "7       21.0750\n",
       "8       11.1333\n",
       "9       30.0708\n",
       "10      16.7000\n",
       "11      26.5500\n",
       "12       8.0500\n",
       "13      31.2750\n",
       "14       7.8542\n",
       "15      16.0000\n",
       "16      29.1250\n",
       "17      13.0000\n",
       "18      18.0000\n",
       "19       7.2250\n",
       "20      26.0000\n",
       "21      13.0000\n",
       "22       8.0292\n",
       "23      35.5000\n",
       "24      21.0750\n",
       "25      31.3875\n",
       "26       7.2250\n",
       "27     263.0000\n",
       "28       7.8792\n",
       "29       7.8958\n",
       "         ...   \n",
       "388      7.7500\n",
       "389     21.0750\n",
       "390     93.5000\n",
       "391     39.4000\n",
       "392     20.2500\n",
       "393     10.5000\n",
       "394     22.0250\n",
       "395     60.0000\n",
       "396      7.2500\n",
       "397     79.2000\n",
       "398      7.7750\n",
       "399      7.7333\n",
       "400    164.8667\n",
       "401     21.0000\n",
       "402     59.4000\n",
       "403     47.1000\n",
       "404     27.7208\n",
       "405     13.8625\n",
       "406     10.5000\n",
       "407    211.5000\n",
       "408      7.7208\n",
       "409     13.7750\n",
       "410      7.7500\n",
       "411     90.0000\n",
       "412      7.7750\n",
       "413      8.0500\n",
       "414    108.9000\n",
       "415      7.2500\n",
       "416      8.0500\n",
       "417     22.3583\n",
       "Name: Fare, Length: 1309, dtype: float64"
      ]
     },
     "execution_count": 210,
     "metadata": {},
     "output_type": "execute_result"
    }
   ],
   "source": [
    "all_df.pop('Age')\n",
    "all_df.pop('SibSp')\n",
    "all_df.pop('Parch')\n",
    "all_df.pop('Fare')"
   ]
  },
  {
   "cell_type": "code",
   "execution_count": 211,
   "metadata": {},
   "outputs": [
    {
     "name": "stdout",
     "output_type": "stream",
     "text": [
      "<class 'pandas.core.frame.DataFrame'>\n",
      "Int64Index: 1309 entries, 0 to 417\n",
      "Data columns (total 35 columns):\n",
      "PassengerId           1309 non-null int64\n",
      "trainortest           1309 non-null object\n",
      "family_cnt            1309 non-null int64\n",
      "Pclass_1              1309 non-null uint8\n",
      "Pclass_2              1309 non-null uint8\n",
      "Pclass_3              1309 non-null uint8\n",
      "Sex_female            1309 non-null uint8\n",
      "Sex_male              1309 non-null uint8\n",
      "Embarked_C            1309 non-null uint8\n",
      "Embarked_Q            1309 non-null uint8\n",
      "Embarked_S            1309 non-null uint8\n",
      "title_Master          1309 non-null uint8\n",
      "title_Miss            1309 non-null uint8\n",
      "title_Mr              1309 non-null uint8\n",
      "title_Mrs             1309 non-null uint8\n",
      "title_rare            1309 non-null uint8\n",
      "family_type_big       1309 non-null uint8\n",
      "family_type_middle    1309 non-null uint8\n",
      "family_type_sigle     1309 non-null uint8\n",
      "cabin_type_A          1309 non-null uint8\n",
      "cabin_type_B          1309 non-null uint8\n",
      "cabin_type_C          1309 non-null uint8\n",
      "cabin_type_D          1309 non-null uint8\n",
      "cabin_type_E          1309 non-null uint8\n",
      "cabin_type_F          1309 non-null uint8\n",
      "cabin_type_O          1309 non-null uint8\n",
      "cabin_type_n          1309 non-null uint8\n",
      "Fare_scaled           1309 non-null float64\n",
      "family_cnt_scaled     1309 non-null float64\n",
      "SibSp_scaled          1309 non-null float64\n",
      "Parch_scaled          1309 non-null float64\n",
      "Age_type_adult        1309 non-null uint8\n",
      "Age_type_child        1309 non-null uint8\n",
      "Age_type_old          1309 non-null uint8\n",
      "Age_scaled            1309 non-null float64\n",
      "dtypes: float64(5), int64(2), object(1), uint8(27)\n",
      "memory usage: 166.6+ KB\n"
     ]
    }
   ],
   "source": [
    "all_df.info()"
   ]
  },
  {
   "cell_type": "code",
   "execution_count": 212,
   "metadata": {
    "collapsed": true
   },
   "outputs": [],
   "source": [
    "train_data=all_df[all_df.trainortest=='train']"
   ]
  },
  {
   "cell_type": "code",
   "execution_count": 220,
   "metadata": {
    "collapsed": true
   },
   "outputs": [],
   "source": [
    "test_data=all_df[all_df.trainortest=='test']"
   ]
  },
  {
   "cell_type": "code",
   "execution_count": 222,
   "metadata": {},
   "outputs": [
    {
     "data": {
      "text/plain": [
       "0      train\n",
       "1      train\n",
       "2      train\n",
       "3      train\n",
       "4      train\n",
       "5      train\n",
       "6      train\n",
       "7      train\n",
       "8      train\n",
       "9      train\n",
       "10     train\n",
       "11     train\n",
       "12     train\n",
       "13     train\n",
       "14     train\n",
       "15     train\n",
       "16     train\n",
       "17     train\n",
       "18     train\n",
       "19     train\n",
       "20     train\n",
       "21     train\n",
       "22     train\n",
       "23     train\n",
       "24     train\n",
       "25     train\n",
       "26     train\n",
       "27     train\n",
       "28     train\n",
       "29     train\n",
       "       ...  \n",
       "861    train\n",
       "862    train\n",
       "863    train\n",
       "864    train\n",
       "865    train\n",
       "866    train\n",
       "867    train\n",
       "868    train\n",
       "869    train\n",
       "870    train\n",
       "871    train\n",
       "872    train\n",
       "873    train\n",
       "874    train\n",
       "875    train\n",
       "876    train\n",
       "877    train\n",
       "878    train\n",
       "879    train\n",
       "880    train\n",
       "881    train\n",
       "882    train\n",
       "883    train\n",
       "884    train\n",
       "885    train\n",
       "886    train\n",
       "887    train\n",
       "888    train\n",
       "889    train\n",
       "890    train\n",
       "Name: trainortest, Length: 891, dtype: object"
      ]
     },
     "execution_count": 222,
     "metadata": {},
     "output_type": "execute_result"
    }
   ],
   "source": [
    "test_data.pop('trainortest')\n",
    "train_data.pop('trainortest')"
   ]
  },
  {
   "cell_type": "code",
   "execution_count": 223,
   "metadata": {},
   "outputs": [
    {
     "name": "stdout",
     "output_type": "stream",
     "text": [
      "<class 'pandas.core.frame.DataFrame'>\n",
      "Int64Index: 418 entries, 0 to 417\n",
      "Data columns (total 34 columns):\n",
      "PassengerId           418 non-null int64\n",
      "family_cnt            418 non-null int64\n",
      "Pclass_1              418 non-null uint8\n",
      "Pclass_2              418 non-null uint8\n",
      "Pclass_3              418 non-null uint8\n",
      "Sex_female            418 non-null uint8\n",
      "Sex_male              418 non-null uint8\n",
      "Embarked_C            418 non-null uint8\n",
      "Embarked_Q            418 non-null uint8\n",
      "Embarked_S            418 non-null uint8\n",
      "title_Master          418 non-null uint8\n",
      "title_Miss            418 non-null uint8\n",
      "title_Mr              418 non-null uint8\n",
      "title_Mrs             418 non-null uint8\n",
      "title_rare            418 non-null uint8\n",
      "family_type_big       418 non-null uint8\n",
      "family_type_middle    418 non-null uint8\n",
      "family_type_sigle     418 non-null uint8\n",
      "cabin_type_A          418 non-null uint8\n",
      "cabin_type_B          418 non-null uint8\n",
      "cabin_type_C          418 non-null uint8\n",
      "cabin_type_D          418 non-null uint8\n",
      "cabin_type_E          418 non-null uint8\n",
      "cabin_type_F          418 non-null uint8\n",
      "cabin_type_O          418 non-null uint8\n",
      "cabin_type_n          418 non-null uint8\n",
      "Fare_scaled           418 non-null float64\n",
      "family_cnt_scaled     418 non-null float64\n",
      "SibSp_scaled          418 non-null float64\n",
      "Parch_scaled          418 non-null float64\n",
      "Age_type_adult        418 non-null uint8\n",
      "Age_type_child        418 non-null uint8\n",
      "Age_type_old          418 non-null uint8\n",
      "Age_scaled            418 non-null float64\n",
      "dtypes: float64(5), int64(2), uint8(27)\n",
      "memory usage: 37.1 KB\n"
     ]
    }
   ],
   "source": [
    "test_data.info()"
   ]
  },
  {
   "cell_type": "code",
   "execution_count": 224,
   "metadata": {},
   "outputs": [
    {
     "name": "stdout",
     "output_type": "stream",
     "text": [
      "<class 'pandas.core.frame.DataFrame'>\n",
      "Int64Index: 891 entries, 0 to 890\n",
      "Data columns (total 34 columns):\n",
      "PassengerId           891 non-null int64\n",
      "family_cnt            891 non-null int64\n",
      "Pclass_1              891 non-null uint8\n",
      "Pclass_2              891 non-null uint8\n",
      "Pclass_3              891 non-null uint8\n",
      "Sex_female            891 non-null uint8\n",
      "Sex_male              891 non-null uint8\n",
      "Embarked_C            891 non-null uint8\n",
      "Embarked_Q            891 non-null uint8\n",
      "Embarked_S            891 non-null uint8\n",
      "title_Master          891 non-null uint8\n",
      "title_Miss            891 non-null uint8\n",
      "title_Mr              891 non-null uint8\n",
      "title_Mrs             891 non-null uint8\n",
      "title_rare            891 non-null uint8\n",
      "family_type_big       891 non-null uint8\n",
      "family_type_middle    891 non-null uint8\n",
      "family_type_sigle     891 non-null uint8\n",
      "cabin_type_A          891 non-null uint8\n",
      "cabin_type_B          891 non-null uint8\n",
      "cabin_type_C          891 non-null uint8\n",
      "cabin_type_D          891 non-null uint8\n",
      "cabin_type_E          891 non-null uint8\n",
      "cabin_type_F          891 non-null uint8\n",
      "cabin_type_O          891 non-null uint8\n",
      "cabin_type_n          891 non-null uint8\n",
      "Fare_scaled           891 non-null float64\n",
      "family_cnt_scaled     891 non-null float64\n",
      "SibSp_scaled          891 non-null float64\n",
      "Parch_scaled          891 non-null float64\n",
      "Age_type_adult        891 non-null uint8\n",
      "Age_type_child        891 non-null uint8\n",
      "Age_type_old          891 non-null uint8\n",
      "Age_scaled            891 non-null float64\n",
      "dtypes: float64(5), int64(2), uint8(27)\n",
      "memory usage: 119.2 KB\n"
     ]
    }
   ],
   "source": [
    "train_data.info()"
   ]
  },
  {
   "cell_type": "code",
   "execution_count": null,
   "metadata": {
    "collapsed": true
   },
   "outputs": [],
   "source": [
    "train_data.to_csv('train_data.csv')\n"
   ]
  }
 ],
 "metadata": {
  "kernelspec": {
   "display_name": "Python 3",
   "language": "python",
   "name": "python3"
  },
  "language_info": {
   "codemirror_mode": {
    "name": "ipython",
    "version": 3
   },
   "file_extension": ".py",
   "mimetype": "text/x-python",
   "name": "python",
   "nbconvert_exporter": "python",
   "pygments_lexer": "ipython3",
   "version": "3.6.1"
  }
 },
 "nbformat": 4,
 "nbformat_minor": 2
}
