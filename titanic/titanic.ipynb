{
 "cells": [
  {
   "cell_type": "code",
   "execution_count": 2,
   "metadata": {
    "collapsed": true
   },
   "outputs": [],
   "source": [
    "import pandas as pd;\n",
    "import numpy as np;"
   ]
  },
  {
   "cell_type": "markdown",
   "metadata": {},
   "source": [
    "首先读入数据，观察数据，准备哪些特征需要重点提取。"
   ]
  },
  {
   "cell_type": "code",
   "execution_count": 16,
   "metadata": {
    "collapsed": true
   },
   "outputs": [],
   "source": [
    "train_df=pd.read_csv('./input_data/train.csv')\n",
    "test_df=pd.read_csv('./input_data/test.csv')\n",
    "train_df[\"trainortest\"]=\"train\" #添加一列区分训练集合还是测试集合\n",
    "test_df[\"trainortest\"]=\"test\"\n",
    "y_train = train_df.pop(\"Survived\")  #将train_df的标签列pop出来，后面做训练用\n",
    "all_df=pd.concat((train_df,test_df))"
   ]
  },
  {
   "cell_type": "code",
   "execution_count": 17,
   "metadata": {},
   "outputs": [
    {
     "name": "stdout",
     "output_type": "stream",
     "text": [
      "<class 'pandas.core.frame.DataFrame'>\n",
      "RangeIndex: 891 entries, 0 to 890\n",
      "Data columns (total 12 columns):\n",
      "PassengerId    891 non-null int64\n",
      "Pclass         891 non-null int64\n",
      "Name           891 non-null object\n",
      "Sex            891 non-null object\n",
      "Age            714 non-null float64\n",
      "SibSp          891 non-null int64\n",
      "Parch          891 non-null int64\n",
      "Ticket         891 non-null object\n",
      "Fare           891 non-null float64\n",
      "Cabin          204 non-null object\n",
      "Embarked       889 non-null object\n",
      "trainortest    891 non-null object\n",
      "dtypes: float64(2), int64(4), object(6)\n",
      "memory usage: 83.6+ KB\n"
     ]
    }
   ],
   "source": [
    "train_df.info()"
   ]
  },
  {
   "cell_type": "code",
   "execution_count": 18,
   "metadata": {},
   "outputs": [
    {
     "name": "stdout",
     "output_type": "stream",
     "text": [
      "<class 'pandas.core.frame.DataFrame'>\n",
      "RangeIndex: 418 entries, 0 to 417\n",
      "Data columns (total 12 columns):\n",
      "PassengerId    418 non-null int64\n",
      "Pclass         418 non-null int64\n",
      "Name           418 non-null object\n",
      "Sex            418 non-null object\n",
      "Age            332 non-null float64\n",
      "SibSp          418 non-null int64\n",
      "Parch          418 non-null int64\n",
      "Ticket         418 non-null object\n",
      "Fare           417 non-null float64\n",
      "Cabin          91 non-null object\n",
      "Embarked       418 non-null object\n",
      "trainortest    418 non-null object\n",
      "dtypes: float64(2), int64(4), object(6)\n",
      "memory usage: 39.3+ KB\n"
     ]
    }
   ],
   "source": [
    "test_df.info()"
   ]
  },
  {
   "cell_type": "code",
   "execution_count": 21,
   "metadata": {},
   "outputs": [
    {
     "name": "stdout",
     "output_type": "stream",
     "text": [
      "<class 'pandas.core.frame.DataFrame'>\n",
      "Int64Index: 1309 entries, 0 to 417\n",
      "Data columns (total 12 columns):\n",
      "PassengerId    1309 non-null int64\n",
      "Pclass         1309 non-null int64\n",
      "Name           1309 non-null object\n",
      "Sex            1309 non-null object\n",
      "Age            1046 non-null float64\n",
      "SibSp          1309 non-null int64\n",
      "Parch          1309 non-null int64\n",
      "Ticket         1309 non-null object\n",
      "Fare           1308 non-null float64\n",
      "Cabin          295 non-null object\n",
      "Embarked       1307 non-null object\n",
      "trainortest    1309 non-null object\n",
      "dtypes: float64(2), int64(4), object(6)\n",
      "memory usage: 132.9+ KB\n"
     ]
    }
   ],
   "source": [
    "all_df.info()"
   ]
  },
  {
   "cell_type": "code",
   "execution_count": 29,
   "metadata": {},
   "outputs": [
    {
     "data": {
      "text/plain": [
       "Index(['Age', 'Fare', 'Cabin', 'Embarked'], dtype='object')"
      ]
     },
     "execution_count": 29,
     "metadata": {},
     "output_type": "execute_result"
    }
   ],
   "source": [
    "all_df.columns[pd.isnull(all_df).sum()>0]"
   ]
  },
  {
   "cell_type": "code",
   "execution_count": 41,
   "metadata": {},
   "outputs": [
    {
     "data": {
      "text/plain": [
       "<bound method Series.sort_values of 1309    1\n",
       "449     1\n",
       "431     1\n",
       "432     1\n",
       "433     1\n",
       "434     1\n",
       "435     1\n",
       "436     1\n",
       "437     1\n",
       "438     1\n",
       "439     1\n",
       "440     1\n",
       "441     1\n",
       "442     1\n",
       "443     1\n",
       "444     1\n",
       "445     1\n",
       "446     1\n",
       "447     1\n",
       "430     1\n",
       "429     1\n",
       "428     1\n",
       "418     1\n",
       "411     1\n",
       "412     1\n",
       "413     1\n",
       "414     1\n",
       "415     1\n",
       "416     1\n",
       "417     1\n",
       "       ..\n",
       "890     1\n",
       "880     1\n",
       "891     1\n",
       "892     1\n",
       "893     1\n",
       "894     1\n",
       "895     1\n",
       "896     1\n",
       "897     1\n",
       "881     1\n",
       "879     1\n",
       "861     1\n",
       "869     1\n",
       "862     1\n",
       "863     1\n",
       "864     1\n",
       "865     1\n",
       "866     1\n",
       "867     1\n",
       "868     1\n",
       "870     1\n",
       "878     1\n",
       "871     1\n",
       "872     1\n",
       "873     1\n",
       "874     1\n",
       "875     1\n",
       "876     1\n",
       "877     1\n",
       "1       1\n",
       "Name: PassengerId, Length: 1309, dtype: int64>"
      ]
     },
     "execution_count": 41,
     "metadata": {},
     "output_type": "execute_result"
    }
   ],
   "source": [
    "all_df.PassengerId.value_counts().sort_values"
   ]
  },
  {
   "cell_type": "code",
   "execution_count": 42,
   "metadata": {},
   "outputs": [
    {
     "data": {
      "text/plain": [
       "3    709\n",
       "1    323\n",
       "2    277\n",
       "Name: Pclass, dtype: int64"
      ]
     },
     "execution_count": 42,
     "metadata": {},
     "output_type": "execute_result"
    }
   ],
   "source": [
    "all_df.Pclass.value_counts()"
   ]
  },
  {
   "cell_type": "code",
   "execution_count": 46,
   "metadata": {
    "collapsed": true
   },
   "outputs": [],
   "source": [
    "train_df=pd.read_csv('./input_data/train.csv')\n",
    "s0=train_df.Pclass[train_df.Survived == 0].value_counts()"
   ]
  },
  {
   "cell_type": "code",
   "execution_count": 47,
   "metadata": {
    "collapsed": true
   },
   "outputs": [],
   "source": [
    "s1=train_df.Pclass[train_df.Survived == 1].value_counts()"
   ]
  },
  {
   "cell_type": "code",
   "execution_count": 51,
   "metadata": {},
   "outputs": [
    {
     "data": {
      "image/png": "[encoded data removed]",
      "text/plain": [
       "<matplotlib.figure.Figure at 0xa0656d8>"
      ]
     },
     "metadata": {},
     "output_type": "display_data"
    }
   ],
   "source": [
    "import matplotlib \n",
    "import matplotlib.pyplot as plt\n",
    "from matplotlib.pylab import * \n",
    "mpl.rcParams['font.sans-serif'] = ['SimHei']  \n",
    "df=pd.DataFrame({u'获救':s1, u'未获救':s0})\n",
    "df.plot(kind='bar')\n",
    "plt.title(u\"各船票等级的获救情况\")\n",
    "plt.xlabel(u\"船票等级\") \n",
    "plt.ylabel(u\"人数\") \n",
    "plt.show()"
   ]
  },
  {
   "cell_type": "markdown",
   "metadata": {},
   "source": [
    "分析名字，提取称呼，根据称呼可以大致的判断性别年龄等。还可以提取姓氏"
   ]
  },
  {
   "cell_type": "code",
   "execution_count": 52,
   "metadata": {},
   "outputs": [
    {
     "data": {
      "text/plain": [
       "0                              Braund, Mr. Owen Harris\n",
       "1    Cumings, Mrs. John Bradley (Florence Briggs Th...\n",
       "2                               Heikkinen, Miss. Laina\n",
       "3         Futrelle, Mrs. Jacques Heath (Lily May Peel)\n",
       "4                             Allen, Mr. William Henry\n",
       "5                                     Moran, Mr. James\n",
       "6                              McCarthy, Mr. Timothy J\n",
       "7                       Palsson, Master. Gosta Leonard\n",
       "8    Johnson, Mrs. Oscar W (Elisabeth Vilhelmina Berg)\n",
       "9                  Nasser, Mrs. Nicholas (Adele Achem)\n",
       "Name: Name, dtype: object"
      ]
     },
     "execution_count": 52,
     "metadata": {},
     "output_type": "execute_result"
    }
   ],
   "source": [
    "all_df.Name.head(10)"
   ]
  },
  {
   "cell_type": "code",
   "execution_count": 96,
   "metadata": {
    "collapsed": true
   },
   "outputs": [],
   "source": [
    "import re\n",
    "import numpy as np\n",
    "regx = re.compile('(.*, )|(\\\\..*)')          \n",
    "title=[]\n",
    "for name in all_df.Name.values:\n",
    "    title.append(re.sub(regx,'',name))\n",
    "all_df['title']=title"
   ]
  },
  {
   "cell_type": "code",
   "execution_count": 86,
   "metadata": {},
   "outputs": [
    {
     "data": {
      "text/plain": [
       "Mr              757\n",
       "Miss            260\n",
       "Mrs             197\n",
       "Master           61\n",
       "Rev               8\n",
       "Dr                8\n",
       "Col               4\n",
       "Mlle              2\n",
       "Major             2\n",
       "Ms                2\n",
       "the Countess      1\n",
       "Sir               1\n",
       "Don               1\n",
       "Mme               1\n",
       "Capt              1\n",
       "Jonkheer          1\n",
       "Lady              1\n",
       "Dona              1\n",
       "Name: title, dtype: int64"
      ]
     },
     "execution_count": 86,
     "metadata": {},
     "output_type": "execute_result"
    }
   ],
   "source": [
    "all_df.title.value_counts()"
   ]
  },
  {
   "cell_type": "code",
   "execution_count": 97,
   "metadata": {
    "collapsed": true
   },
   "outputs": [],
   "source": [
    "all_df.loc[all_df.title=='Mlle','title']='Miss'\n",
    "all_df.loc[all_df.title=='Ms','title']='Miss'\n",
    "all_df.loc[all_df.title=='Mme','title']='Mrs'"
   ]
  },
  {
   "cell_type": "code",
   "execution_count": 98,
   "metadata": {},
   "outputs": [
    {
     "data": {
      "text/plain": [
       "Mr              757\n",
       "Miss            264\n",
       "Mrs             198\n",
       "Master           61\n",
       "Dr                8\n",
       "Rev               8\n",
       "Col               4\n",
       "Major             2\n",
       "Sir               1\n",
       "the Countess      1\n",
       "Dona              1\n",
       "Don               1\n",
       "Capt              1\n",
       "Jonkheer          1\n",
       "Lady              1\n",
       "Name: title, dtype: int64"
      ]
     },
     "execution_count": 98,
     "metadata": {},
     "output_type": "execute_result"
    }
   ],
   "source": [
    "all_df.title.value_counts()"
   ]
  },
  {
   "cell_type": "code",
   "execution_count": 100,
   "metadata": {
    "collapsed": true
   },
   "outputs": [],
   "source": [
    "common=['Mr','Miss','Mrs','Master']\n",
    "all_df.loc[~all_df.title.isin(common) ,'title']='rare'"
   ]
  },
  {
   "cell_type": "code",
   "execution_count": 101,
   "metadata": {},
   "outputs": [
    {
     "data": {
      "text/plain": [
       "Mr        757\n",
       "Miss      264\n",
       "Mrs       198\n",
       "Master     61\n",
       "rare       29\n",
       "Name: title, dtype: int64"
      ]
     },
     "execution_count": 101,
     "metadata": {},
     "output_type": "execute_result"
    }
   ],
   "source": [
    "all_df.title.value_counts()"
   ]
  },
  {
   "cell_type": "code",
   "execution_count": 104,
   "metadata": {},
   "outputs": [
    {
     "data": {
      "image/png": "[encoded data removed]",
      "text/plain": [
       "<matplotlib.figure.Figure at 0xa1579b0>"
      ]
     },
     "metadata": {},
     "output_type": "display_data"
    }
   ],
   "source": [
    "s0=train_df.Sex[train_df.Survived == 0].value_counts()\n",
    "s1=train_df.Sex[train_df.Survived == 1].value_counts()\n",
    "df=pd.DataFrame({u'获救':s1, u'未获救':s0})\n",
    "df.plot(kind='bar')\n",
    "plt.title(u\"性别获救情况\")\n",
    "plt.xlabel(u\"性别\") \n",
    "plt.ylabel(u\"人数\") \n",
    "plt.show()"
   ]
  },
  {
   "cell_type": "code",
   "execution_count": 109,
   "metadata": {},
   "outputs": [
    {
     "data": {
      "image/png": "[encoded data removed]",
      "text/plain": [
       "<matplotlib.figure.Figure at 0xbdba0f0>"
      ]
     },
     "metadata": {},
     "output_type": "display_data"
    }
   ],
   "source": [
    "all_df.Age.plot(kind='kde')\n",
    "matplotlib.rcParams['axes.unicode_minus']=False\n",
    "plt.show()"
   ]
  },
  {
   "cell_type": "code",
   "execution_count": 113,
   "metadata": {},
   "outputs": [
    {
     "data": {
      "text/plain": [
       "0    891\n",
       "1    319\n",
       "2     42\n",
       "4     22\n",
       "3     20\n",
       "8      9\n",
       "5      6\n",
       "Name: SibSp, dtype: int64"
      ]
     },
     "execution_count": 113,
     "metadata": {},
     "output_type": "execute_result"
    }
   ],
   "source": [
    "all_df.SibSp.value_counts()"
   ]
  },
  {
   "cell_type": "code",
   "execution_count": 114,
   "metadata": {},
   "outputs": [
    {
     "data": {
      "text/plain": [
       "0    1002\n",
       "1     170\n",
       "2     113\n",
       "3       8\n",
       "5       6\n",
       "4       6\n",
       "9       2\n",
       "6       2\n",
       "Name: Parch, dtype: int64"
      ]
     },
     "execution_count": 114,
     "metadata": {},
     "output_type": "execute_result"
    }
   ],
   "source": [
    "all_df.Parch.value_counts()"
   ]
  },
  {
   "cell_type": "code",
   "execution_count": 115,
   "metadata": {
    "collapsed": true
   },
   "outputs": [],
   "source": [
    "all_df['family_cnt']=all_df['Parch']+all_df['SibSp']+1"
   ]
  },
  {
   "cell_type": "code",
   "execution_count": 119,
   "metadata": {},
   "outputs": [
    {
     "data": {
      "text/plain": [
       "1     790\n",
       "2     235\n",
       "3     159\n",
       "4      43\n",
       "6      25\n",
       "5      22\n",
       "7      16\n",
       "11     11\n",
       "8       8\n",
       "Name: family_cnt, dtype: int64"
      ]
     },
     "execution_count": 119,
     "metadata": {},
     "output_type": "execute_result"
    }
   ],
   "source": [
    "all_df.family_cnt.value_counts()"
   ]
  },
  {
   "cell_type": "code",
   "execution_count": 121,
   "metadata": {
    "collapsed": true
   },
   "outputs": [],
   "source": [
    "all_df.loc[all_df.family_cnt==1,'family_type']='sigle'\n",
    "all_df.loc[all_df.family_cnt.isin([2,3]),'family_type']='middle'\n",
    "all_df.loc[all_df.family_cnt>=4,'family_type']='big'"
   ]
  },
  {
   "cell_type": "code",
   "execution_count": 122,
   "metadata": {},
   "outputs": [
    {
     "data": {
      "text/plain": [
       "sigle     790\n",
       "middle    394\n",
       "big       125\n",
       "Name: family_type, dtype: int64"
      ]
     },
     "execution_count": 122,
     "metadata": {},
     "output_type": "execute_result"
    }
   ],
   "source": [
    "all_df.family_type.value_counts()"
   ]
  },
  {
   "cell_type": "code",
   "execution_count": 123,
   "metadata": {
    "collapsed": true
   },
   "outputs": [],
   "source": [
    "train_df['family_cnt']=train_df['Parch']+train_df['SibSp']+1\n",
    "train_df.loc[train_df.family_cnt==1,'family_type']='sigle'\n",
    "train_df.loc[train_df.family_cnt.isin([2,3]),'family_type']='middle'\n",
    "train_df.loc[train_df.family_cnt>=4,'family_type']='big'"
   ]
  },
  {
   "cell_type": "code",
   "execution_count": 124,
   "metadata": {},
   "outputs": [
    {
     "data": {
      "image/png": "[encoded data removed]",
      "text/plain": [
       "<matplotlib.figure.Figure at 0xbe78630>"
      ]
     },
     "metadata": {},
     "output_type": "display_data"
    }
   ],
   "source": [
    "s0=train_df.family_type[train_df.Survived == 0].value_counts()\n",
    "s1=train_df.family_type[train_df.Survived == 1].value_counts()\n",
    "df=pd.DataFrame({u'获救':s1, u'未获救':s0})\n",
    "df.plot(kind='bar')\n",
    "plt.title(u\"家庭规模获救情况\")\n",
    "plt.xlabel(u\"家庭规模\") \n",
    "plt.ylabel(u\"人数\") \n",
    "plt.show()"
   ]
  },
  {
   "cell_type": "code",
   "execution_count": 133,
   "metadata": {},
   "outputs": [
    {
     "data": {
      "text/plain": [
       "CA. 2343              11\n",
       "CA 2144                8\n",
       "1601                   8\n",
       "3101295                7\n",
       "347077                 7\n",
       "347082                 7\n",
       "PC 17608               7\n",
       "S.O.C. 14879           7\n",
       "347088                 6\n",
       "19950                  6\n",
       "382652                 6\n",
       "113781                 6\n",
       "349909                 5\n",
       "PC 17757               5\n",
       "220845                 5\n",
       "4133                   5\n",
       "16966                  5\n",
       "W./C. 6608             5\n",
       "113503                 5\n",
       "C.A. 2315              4\n",
       "C.A. 34651             4\n",
       "230136                 4\n",
       "LINE                   4\n",
       "12749                  4\n",
       "SC/Paris 2123          4\n",
       "113760                 4\n",
       "PC 17760               4\n",
       "24160                  4\n",
       "PC 17483               4\n",
       "2666                   4\n",
       "                      ..\n",
       "A. 2. 39186            1\n",
       "349253                 1\n",
       "347065                 1\n",
       "7538                   1\n",
       "14313                  1\n",
       "350404                 1\n",
       "368783                 1\n",
       "350036                 1\n",
       "211536                 1\n",
       "SOTON/O.Q. 3101306     1\n",
       "347469                 1\n",
       "11771                  1\n",
       "345771                 1\n",
       "PC 17607               1\n",
       "364500                 1\n",
       "237249                 1\n",
       "347086                 1\n",
       "2698                   1\n",
       "112379                 1\n",
       "SC/PARIS 2146          1\n",
       "239059                 1\n",
       "345778                 1\n",
       "SOTON/OQ 3101317       1\n",
       "349251                 1\n",
       "28213                  1\n",
       "112051                 1\n",
       "370370                 1\n",
       "347073                 1\n",
       "19988                  1\n",
       "345781                 1\n",
       "Name: Ticket, Length: 929, dtype: int64"
      ]
     },
     "execution_count": 133,
     "metadata": {},
     "output_type": "execute_result"
    }
   ],
   "source": [
    "all_df.Ticket.value_counts()"
   ]
  },
  {
   "cell_type": "code",
   "execution_count": 136,
   "metadata": {},
   "outputs": [
    {
     "data": {
      "image/png": "[encoded data removed]",
      "text/plain": [
       "<matplotlib.figure.Figure at 0x8c7de10>"
      ]
     },
     "metadata": {},
     "output_type": "display_data"
    }
   ],
   "source": [
    "all_df.Fare.plot('kde')\n",
    "plt.show()"
   ]
  },
  {
   "cell_type": "code",
   "execution_count": 137,
   "metadata": {},
   "outputs": [
    {
     "data": {
      "text/html": [
       "<div>\n",
       "<style>\n",
       "    .dataframe thead tr:only-child th {\n",
       "        text-align: right;\n",
       "    }\n",
       "\n",
       "    .dataframe thead th {\n",
       "        text-align: left;\n",
       "    }\n",
       "\n",
       "    .dataframe tbody tr th {\n",
       "        vertical-align: top;\n",
       "    }\n",
       "</style>\n",
       "<table border=\"1\" class=\"dataframe\">\n",
       "  <thead>\n",
       "    <tr style=\"text-align: right;\">\n",
       "      <th></th>\n",
       "      <th>PassengerId</th>\n",
       "      <th>Pclass</th>\n",
       "      <th>Age</th>\n",
       "      <th>SibSp</th>\n",
       "      <th>Parch</th>\n",
       "      <th>Fare</th>\n",
       "      <th>family_cnt</th>\n",
       "    </tr>\n",
       "  </thead>\n",
       "  <tbody>\n",
       "    <tr>\n",
       "      <th>count</th>\n",
       "      <td>1309.000000</td>\n",
       "      <td>1309.000000</td>\n",
       "      <td>1046.000000</td>\n",
       "      <td>1309.000000</td>\n",
       "      <td>1309.000000</td>\n",
       "      <td>1308.000000</td>\n",
       "      <td>1309.000000</td>\n",
       "    </tr>\n",
       "    <tr>\n",
       "      <th>mean</th>\n",
       "      <td>655.000000</td>\n",
       "      <td>2.294882</td>\n",
       "      <td>29.881138</td>\n",
       "      <td>0.498854</td>\n",
       "      <td>0.385027</td>\n",
       "      <td>33.295479</td>\n",
       "      <td>1.883881</td>\n",
       "    </tr>\n",
       "    <tr>\n",
       "      <th>std</th>\n",
       "      <td>378.020061</td>\n",
       "      <td>0.837836</td>\n",
       "      <td>14.413493</td>\n",
       "      <td>1.041658</td>\n",
       "      <td>0.865560</td>\n",
       "      <td>51.758668</td>\n",
       "      <td>1.583639</td>\n",
       "    </tr>\n",
       "    <tr>\n",
       "      <th>min</th>\n",
       "      <td>1.000000</td>\n",
       "      <td>1.000000</td>\n",
       "      <td>0.170000</td>\n",
       "      <td>0.000000</td>\n",
       "      <td>0.000000</td>\n",
       "      <td>0.000000</td>\n",
       "      <td>1.000000</td>\n",
       "    </tr>\n",
       "    <tr>\n",
       "      <th>25%</th>\n",
       "      <td>328.000000</td>\n",
       "      <td>2.000000</td>\n",
       "      <td>21.000000</td>\n",
       "      <td>0.000000</td>\n",
       "      <td>0.000000</td>\n",
       "      <td>7.895800</td>\n",
       "      <td>1.000000</td>\n",
       "    </tr>\n",
       "    <tr>\n",
       "      <th>50%</th>\n",
       "      <td>655.000000</td>\n",
       "      <td>3.000000</td>\n",
       "      <td>28.000000</td>\n",
       "      <td>0.000000</td>\n",
       "      <td>0.000000</td>\n",
       "      <td>14.454200</td>\n",
       "      <td>1.000000</td>\n",
       "    </tr>\n",
       "    <tr>\n",
       "      <th>75%</th>\n",
       "      <td>982.000000</td>\n",
       "      <td>3.000000</td>\n",
       "      <td>39.000000</td>\n",
       "      <td>1.000000</td>\n",
       "      <td>0.000000</td>\n",
       "      <td>31.275000</td>\n",
       "      <td>2.000000</td>\n",
       "    </tr>\n",
       "    <tr>\n",
       "      <th>max</th>\n",
       "      <td>1309.000000</td>\n",
       "      <td>3.000000</td>\n",
       "      <td>80.000000</td>\n",
       "      <td>8.000000</td>\n",
       "      <td>9.000000</td>\n",
       "      <td>512.329200</td>\n",
       "      <td>11.000000</td>\n",
       "    </tr>\n",
       "  </tbody>\n",
       "</table>\n",
       "</div>"
      ],
      "text/plain": [
       "       PassengerId       Pclass          Age        SibSp        Parch  \\\n",
       "count  1309.000000  1309.000000  1046.000000  1309.000000  1309.000000   \n",
       "mean    655.000000     2.294882    29.881138     0.498854     0.385027   \n",
       "std     378.020061     0.837836    14.413493     1.041658     0.865560   \n",
       "min       1.000000     1.000000     0.170000     0.000000     0.000000   \n",
       "25%     328.000000     2.000000    21.000000     0.000000     0.000000   \n",
       "50%     655.000000     3.000000    28.000000     0.000000     0.000000   \n",
       "75%     982.000000     3.000000    39.000000     1.000000     0.000000   \n",
       "max    1309.000000     3.000000    80.000000     8.000000     9.000000   \n",
       "\n",
       "              Fare   family_cnt  \n",
       "count  1308.000000  1309.000000  \n",
       "mean     33.295479     1.883881  \n",
       "std      51.758668     1.583639  \n",
       "min       0.000000     1.000000  \n",
       "25%       7.895800     1.000000  \n",
       "50%      14.454200     1.000000  \n",
       "75%      31.275000     2.000000  \n",
       "max     512.329200    11.000000  "
      ]
     },
     "execution_count": 137,
     "metadata": {},
     "output_type": "execute_result"
    }
   ],
   "source": [
    "all_df.describe()"
   ]
  },
  {
   "cell_type": "code",
   "execution_count": 139,
   "metadata": {
    "collapsed": true
   },
   "outputs": [],
   "source": [
    "all_df.loc[all_df.Fare.isnull(),'Fare']=14.4542"
   ]
  },
  {
   "cell_type": "code",
   "execution_count": 151,
   "metadata": {
    "collapsed": true
   },
   "outputs": [],
   "source": [
    "cabin_type=[]\n",
    "for tmp_cabin in all_df.Cabin.values:\n",
    "    cabin_type.append(str(tmp_cabin)[0])\n",
    "all_df['cabin_type']=cabin_type"
   ]
  },
  {
   "cell_type": "code",
   "execution_count": 152,
   "metadata": {},
   "outputs": [
    {
     "data": {
      "text/plain": [
       "n    1014\n",
       "C      94\n",
       "B      65\n",
       "D      46\n",
       "E      41\n",
       "A      22\n",
       "F      21\n",
       "G       5\n",
       "T       1\n",
       "Name: cabin_type, dtype: int64"
      ]
     },
     "execution_count": 152,
     "metadata": {},
     "output_type": "execute_result"
    }
   ],
   "source": [
    "all_df.cabin_type.value_counts()"
   ]
  },
  {
   "cell_type": "code",
   "execution_count": 153,
   "metadata": {
    "collapsed": true
   },
   "outputs": [],
   "source": [
    "all_df.loc[all_df.cabin_type=='G','cabin_type']='O'\n",
    "all_df.loc[all_df.cabin_type=='T','cabin_type']='O'"
   ]
  },
  {
   "cell_type": "code",
   "execution_count": 154,
   "metadata": {},
   "outputs": [
    {
     "data": {
      "text/plain": [
       "n    1014\n",
       "C      94\n",
       "B      65\n",
       "D      46\n",
       "E      41\n",
       "A      22\n",
       "F      21\n",
       "O       6\n",
       "Name: cabin_type, dtype: int64"
      ]
     },
     "execution_count": 154,
     "metadata": {},
     "output_type": "execute_result"
    }
   ],
   "source": [
    "all_df.cabin_type.value_counts()"
   ]
  },
  {
   "cell_type": "code",
   "execution_count": 155,
   "metadata": {
    "collapsed": true
   },
   "outputs": [],
   "source": [
    "train_cabin_type=[]\n",
    "for tmp_cabin in train_df.Cabin.values:\n",
    "    train_cabin_type.append(str(tmp_cabin)[0])\n",
    "train_df['cabin_type']=train_cabin_type\n",
    "train_df.loc[train_df.cabin_type=='G','cabin_type']='O'\n",
    "train_df.loc[train_df.cabin_type=='T','cabin_type']='O'"
   ]
  },
  {
   "cell_type": "code",
   "execution_count": 157,
   "metadata": {},
   "outputs": [
    {
     "data": {
      "image/png": "[encoded data removed]",
      "text/plain": [
       "<matplotlib.figure.Figure at 0xa1d6240>"
      ]
     },
     "metadata": {},
     "output_type": "display_data"
    }
   ],
   "source": [
    "s0=train_df.cabin_type[train_df.Survived == 0].value_counts()\n",
    "s1=train_df.cabin_type[train_df.Survived == 1].value_counts()\n",
    "df=pd.DataFrame({u'获救':s1, u'未获救':s0})\n",
    "df.plot(kind='bar')\n",
    "plt.title(u\"客舱号码类型获救情况\")\n",
    "plt.xlabel(u\"客舱号码类型\") \n",
    "plt.ylabel(u\"人数\") \n",
    "plt.show()"
   ]
  },
  {
   "cell_type": "code",
   "execution_count": 158,
   "metadata": {},
   "outputs": [
    {
     "name": "stdout",
     "output_type": "stream",
     "text": [
      "<class 'pandas.core.frame.DataFrame'>\n",
      "Int64Index: 1309 entries, 0 to 417\n",
      "Data columns (total 16 columns):\n",
      "PassengerId    1309 non-null int64\n",
      "Pclass         1309 non-null int64\n",
      "Name           1309 non-null object\n",
      "Sex            1309 non-null object\n",
      "Age            1046 non-null float64\n",
      "SibSp          1309 non-null int64\n",
      "Parch          1309 non-null int64\n",
      "Ticket         1309 non-null object\n",
      "Fare           1309 non-null float64\n",
      "Cabin          295 non-null object\n",
      "Embarked       1307 non-null object\n",
      "trainortest    1309 non-null object\n",
      "title          1309 non-null object\n",
      "family_cnt     1309 non-null int64\n",
      "family_type    1309 non-null object\n",
      "cabin_type     1309 non-null object\n",
      "dtypes: float64(2), int64(5), object(9)\n",
      "memory usage: 213.9+ KB\n"
     ]
    }
   ],
   "source": [
    "all_df.info()"
   ]
  },
  {
   "cell_type": "code",
   "execution_count": 159,
   "metadata": {},
   "outputs": [
    {
     "data": {
      "text/plain": [
       "S    914\n",
       "C    270\n",
       "Q    123\n",
       "Name: Embarked, dtype: int64"
      ]
     },
     "execution_count": 159,
     "metadata": {},
     "output_type": "execute_result"
    }
   ],
   "source": [
    "all_df.Embarked.value_counts()"
   ]
  },
  {
   "cell_type": "code",
   "execution_count": 160,
   "metadata": {
    "collapsed": true
   },
   "outputs": [],
   "source": [
    "all_df.loc[all_df.Embarked.isnull(),'Embarked']='S'"
   ]
  },
  {
   "cell_type": "code",
   "execution_count": 161,
   "metadata": {},
   "outputs": [
    {
     "name": "stdout",
     "output_type": "stream",
     "text": [
      "<class 'pandas.core.frame.DataFrame'>\n",
      "Int64Index: 1309 entries, 0 to 417\n",
      "Data columns (total 16 columns):\n",
      "PassengerId    1309 non-null int64\n",
      "Pclass         1309 non-null int64\n",
      "Name           1309 non-null object\n",
      "Sex            1309 non-null object\n",
      "Age            1046 non-null float64\n",
      "SibSp          1309 non-null int64\n",
      "Parch          1309 non-null int64\n",
      "Ticket         1309 non-null object\n",
      "Fare           1309 non-null float64\n",
      "Cabin          295 non-null object\n",
      "Embarked       1309 non-null object\n",
      "trainortest    1309 non-null object\n",
      "title          1309 non-null object\n",
      "family_cnt     1309 non-null int64\n",
      "family_type    1309 non-null object\n",
      "cabin_type     1309 non-null object\n",
      "dtypes: float64(2), int64(5), object(9)\n",
      "memory usage: 213.9+ KB\n"
     ]
    }
   ],
   "source": [
    "all_df.info()"
   ]
  },
  {
   "cell_type": "code",
   "execution_count": 162,
   "metadata": {},
   "outputs": [
    {
     "data": {
      "image/png": "[encoded data removed]",
      "text/plain": [
       "<matplotlib.figure.Figure at 0xbd9fe48>"
      ]
     },
     "metadata": {},
     "output_type": "display_data"
    }
   ],
   "source": [
    "s0=train_df.Embarked[train_df.Survived == 0].value_counts()\n",
    "s1=train_df.Embarked[train_df.Survived == 1].value_counts()\n",
    "df=pd.DataFrame({u'获救':s1, u'未获救':s0})\n",
    "df.plot(kind='bar')\n",
    "plt.title(u\"登录港口获救情况\")\n",
    "plt.xlabel(u\"登录港口类型\") \n",
    "plt.ylabel(u\"人数\") \n",
    "plt.show()"
   ]
  },
  {
   "cell_type": "code",
   "execution_count": 178,
   "metadata": {},
   "outputs": [
    {
     "name": "stdout",
     "output_type": "stream",
     "text": [
      "<class 'pandas.core.frame.DataFrame'>\n",
      "Int64Index: 1309 entries, 0 to 417\n",
      "Data columns (total 16 columns):\n",
      "PassengerId    1309 non-null int64\n",
      "Pclass         1309 non-null int64\n",
      "Name           1309 non-null object\n",
      "Sex            1309 non-null object\n",
      "Age            1046 non-null float64\n",
      "SibSp          1309 non-null int64\n",
      "Parch          1309 non-null int64\n",
      "Ticket         1309 non-null object\n",
      "Fare           1309 non-null float64\n",
      "Cabin          295 non-null object\n",
      "Embarked       1309 non-null object\n",
      "trainortest    1309 non-null object\n",
      "title          1309 non-null object\n",
      "family_cnt     1309 non-null int64\n",
      "family_type    1309 non-null object\n",
      "cabin_type     1309 non-null object\n",
      "dtypes: float64(2), int64(5), object(9)\n",
      "memory usage: 213.9+ KB\n"
     ]
    }
   ],
   "source": [
    "all_df.info()"
   ]
  },
  {
   "cell_type": "code",
   "execution_count": 179,
   "metadata": {
    "collapsed": true
   },
   "outputs": [],
   "source": [
    "all_df=pd.get_dummies(all_df,columns=['Pclass','Sex','Embarked','title','family_type','cabin_type'])"
   ]
  },
  {
   "cell_type": "code",
   "execution_count": 182,
   "metadata": {},
   "outputs": [
    {
     "name": "stdout",
     "output_type": "stream",
     "text": [
      "<class 'pandas.core.frame.DataFrame'>\n",
      "Int64Index: 1309 entries, 0 to 417\n",
      "Data columns (total 34 columns):\n",
      "PassengerId           1309 non-null int64\n",
      "Name                  1309 non-null object\n",
      "Age                   1046 non-null float64\n",
      "SibSp                 1309 non-null int64\n",
      "Parch                 1309 non-null int64\n",
      "Ticket                1309 non-null object\n",
      "Fare                  1309 non-null float64\n",
      "Cabin                 295 non-null object\n",
      "trainortest           1309 non-null object\n",
      "family_cnt            1309 non-null int64\n",
      "Pclass_1              1309 non-null uint8\n",
      "Pclass_2              1309 non-null uint8\n",
      "Pclass_3              1309 non-null uint8\n",
      "Sex_female            1309 non-null uint8\n",
      "Sex_male              1309 non-null uint8\n",
      "Embarked_C            1309 non-null uint8\n",
      "Embarked_Q            1309 non-null uint8\n",
      "Embarked_S            1309 non-null uint8\n",
      "title_Master          1309 non-null uint8\n",
      "title_Miss            1309 non-null uint8\n",
      "title_Mr              1309 non-null uint8\n",
      "title_Mrs             1309 non-null uint8\n",
      "title_rare            1309 non-null uint8\n",
      "family_type_big       1309 non-null uint8\n",
      "family_type_middle    1309 non-null uint8\n",
      "family_type_sigle     1309 non-null uint8\n",
      "cabin_type_A          1309 non-null uint8\n",
      "cabin_type_B          1309 non-null uint8\n",
      "cabin_type_C          1309 non-null uint8\n",
      "cabin_type_D          1309 non-null uint8\n",
      "cabin_type_E          1309 non-null uint8\n",
      "cabin_type_F          1309 non-null uint8\n",
      "cabin_type_O          1309 non-null uint8\n",
      "cabin_type_n          1309 non-null uint8\n",
      "dtypes: float64(2), int64(4), object(4), uint8(24)\n",
      "memory usage: 183.2+ KB\n"
     ]
    }
   ],
   "source": [
    "all_df.info()"
   ]
  },
  {
   "cell_type": "code",
   "execution_count": 185,
   "metadata": {
    "collapsed": true
   },
   "outputs": [],
   "source": [
    "import sklearn.preprocessing as preprocessing\n",
    "scaler = preprocessing.StandardScaler()\n",
    "age_scale_param = scaler.fit(all_df[['Fare']])\n",
    "all_df['Fare_scaled'] = scaler.fit_transform(all_df[['Fare']], age_scale_param)\n",
    "\n",
    "age_scale_param = scaler.fit(all_df[['family_cnt']])\n",
    "all_df['family_cnt_scaled'] = scaler.fit_transform(all_df[['family_cnt']], age_scale_param)\n",
    "\n",
    "age_scale_param = scaler.fit(all_df[['SibSp']])\n",
    "all_df['SibSp_scaled'] = scaler.fit_transform(all_df[['SibSp']], age_scale_param)\n",
    "\n",
    "age_scale_param = scaler.fit(all_df[['Parch']])\n",
    "all_df['Parch_scaled'] = scaler.fit_transform(all_df[['Parch']], age_scale_param)\n",
    "\n"
   ]
  },
  {
   "cell_type": "code",
   "execution_count": 190,
   "metadata": {},
   "outputs": [
    {
     "data": {
      "text/plain": [
       "Index(['PassengerId', 'Name', 'Age', 'SibSp', 'Parch', 'Ticket', 'Fare',\n",
       "       'Cabin', 'trainortest', 'family_cnt', 'Pclass_1', 'Pclass_2',\n",
       "       'Pclass_3', 'Sex_female', 'Sex_male', 'Embarked_C', 'Embarked_Q',\n",
       "       'Embarked_S', 'title_Master', 'title_Miss', 'title_Mr', 'title_Mrs',\n",
       "       'title_rare', 'family_type_big', 'family_type_middle',\n",
       "       'family_type_sigle', 'cabin_type_A', 'cabin_type_B', 'cabin_type_C',\n",
       "       'cabin_type_D', 'cabin_type_E', 'cabin_type_F', 'cabin_type_O',\n",
       "       'cabin_type_n', 'Fare_scaled', 'family_cnt_scaled', 'SibSp_scaled',\n",
       "       'Parch_scaled'],\n",
       "      dtype='object')"
      ]
     },
     "execution_count": 190,
     "metadata": {},
     "output_type": "execute_result"
    }
   ],
   "source": [
    "all_df.columns"
   ]
  },
  {
   "cell_type": "code",
   "execution_count": 191,
   "metadata": {
    "collapsed": true
   },
   "outputs": [],
   "source": [
    "age_factor=[ 'Pclass_1', 'Pclass_2',\n",
    "       'Pclass_3', 'Sex_female', 'Sex_male', 'Embarked_C', 'Embarked_Q',\n",
    "       'Embarked_S', 'title_Master', 'title_Miss', 'title_Mr', 'title_Mrs',\n",
    "       'title_rare', 'family_type_big', 'family_type_middle',\n",
    "       'family_type_sigle', 'cabin_type_A', 'cabin_type_B', 'cabin_type_C',\n",
    "       'cabin_type_D', 'cabin_type_E', 'cabin_type_F', 'cabin_type_O',\n",
    "       'cabin_type_n', 'Fare_scaled', 'family_cnt_scaled', 'SibSp_scaled',\n",
    "       'Parch_scaled']\n",
    "agenull_test=all_df.loc[all_df.Age.isnull(),age_factor]\n",
    "agenotnull_train=all_df.loc[~all_df.Age.isnull(),age_factor]\n",
    "agenotnull_label=all_df.loc[~all_df.Age.isnull(),'Age']"
   ]
  },
  {
   "cell_type": "code",
   "execution_count": 192,
   "metadata": {},
   "outputs": [
    {
     "data": {
      "text/plain": [
       "RandomForestRegressor(bootstrap=True, criterion='mse', max_depth=None,\n",
       "           max_features='auto', max_leaf_nodes=None,\n",
       "           min_impurity_split=1e-07, min_samples_leaf=1,\n",
       "           min_samples_split=2, min_weight_fraction_leaf=0.0,\n",
       "           n_estimators=2000, n_jobs=-1, oob_score=False, random_state=0,\n",
       "           verbose=0, warm_start=False)"
      ]
     },
     "execution_count": 192,
     "metadata": {},
     "output_type": "execute_result"
    }
   ],
   "source": [
    "from sklearn.ensemble import RandomForestRegressor \n",
    "rfr = RandomForestRegressor(random_state=0, n_estimators=2000, n_jobs=-1)\n",
    "rfr.fit(agenotnull_train.values,agenotnull_label.values)"
   ]
  },
  {
   "cell_type": "code",
   "execution_count": 193,
   "metadata": {
    "collapsed": true
   },
   "outputs": [],
   "source": [
    "age_pre=rfr.predict(agenull_test.values)"
   ]
  },
  {
   "cell_type": "code",
   "execution_count": 196,
   "metadata": {
    "collapsed": true
   },
   "outputs": [],
   "source": [
    "all_df.loc[all_df.Age.isnull(),'Age']=age_pre"
   ]
  },
  {
   "cell_type": "code",
   "execution_count": 197,
   "metadata": {},
   "outputs": [
    {
     "name": "stdout",
     "output_type": "stream",
     "text": [
      "<class 'pandas.core.frame.DataFrame'>\n",
      "Int64Index: 1309 entries, 0 to 417\n",
      "Data columns (total 38 columns):\n",
      "PassengerId           1309 non-null int64\n",
      "Name                  1309 non-null object\n",
      "Age                   1309 non-null float64\n",
      "SibSp                 1309 non-null int64\n",
      "Parch                 1309 non-null int64\n",
      "Ticket                1309 non-null object\n",
      "Fare                  1309 non-null float64\n",
      "Cabin                 295 non-null object\n",
      "trainortest           1309 non-null object\n",
      "family_cnt            1309 non-null int64\n",
      "Pclass_1              1309 non-null uint8\n",
      "Pclass_2              1309 non-null uint8\n",
      "Pclass_3              1309 non-null uint8\n",
      "Sex_female            1309 non-null uint8\n",
      "Sex_male              1309 non-null uint8\n",
      "Embarked_C            1309 non-null uint8\n",
      "Embarked_Q            1309 non-null uint8\n",
      "Embarked_S            1309 non-null uint8\n",
      "title_Master          1309 non-null uint8\n",
      "title_Miss            1309 non-null uint8\n",
      "title_Mr              1309 non-null uint8\n",
      "title_Mrs             1309 non-null uint8\n",
      "title_rare            1309 non-null uint8\n",
      "family_type_big       1309 non-null uint8\n",
      "family_type_middle    1309 non-null uint8\n",
      "family_type_sigle     1309 non-null uint8\n",
      "cabin_type_A          1309 non-null uint8\n",
      "cabin_type_B          1309 non-null uint8\n",
      "cabin_type_C          1309 non-null uint8\n",
      "cabin_type_D          1309 non-null uint8\n",
      "cabin_type_E          1309 non-null uint8\n",
      "cabin_type_F          1309 non-null uint8\n",
      "cabin_type_O          1309 non-null uint8\n",
      "cabin_type_n          1309 non-null uint8\n",
      "Fare_scaled           1309 non-null float64\n",
      "family_cnt_scaled     1309 non-null float64\n",
      "SibSp_scaled          1309 non-null float64\n",
      "Parch_scaled          1309 non-null float64\n",
      "dtypes: float64(6), int64(4), object(4), uint8(24)\n",
      "memory usage: 224.1+ KB\n"
     ]
    }
   ],
   "source": [
    "all_df.info()"
   ]
  },
  {
   "cell_type": "code",
   "execution_count": 198,
   "metadata": {},
   "outputs": [
    {
     "data": {
      "text/plain": [
       "0              NaN\n",
       "1              C85\n",
       "2              NaN\n",
       "3             C123\n",
       "4              NaN\n",
       "5              NaN\n",
       "6              E46\n",
       "7              NaN\n",
       "8              NaN\n",
       "9              NaN\n",
       "10              G6\n",
       "11            C103\n",
       "12             NaN\n",
       "13             NaN\n",
       "14             NaN\n",
       "15             NaN\n",
       "16             NaN\n",
       "17             NaN\n",
       "18             NaN\n",
       "19             NaN\n",
       "20             NaN\n",
       "21             D56\n",
       "22             NaN\n",
       "23              A6\n",
       "24             NaN\n",
       "25             NaN\n",
       "26             NaN\n",
       "27     C23 C25 C27\n",
       "28             NaN\n",
       "29             NaN\n",
       "          ...     \n",
       "388            NaN\n",
       "389            NaN\n",
       "390            B24\n",
       "391            D28\n",
       "392            NaN\n",
       "393            NaN\n",
       "394            NaN\n",
       "395            C31\n",
       "396            NaN\n",
       "397            B41\n",
       "398            NaN\n",
       "399            NaN\n",
       "400             C7\n",
       "401            NaN\n",
       "402            NaN\n",
       "403            NaN\n",
       "404            D40\n",
       "405            D38\n",
       "406            NaN\n",
       "407            C80\n",
       "408            NaN\n",
       "409            NaN\n",
       "410            NaN\n",
       "411            C78\n",
       "412            NaN\n",
       "413            NaN\n",
       "414           C105\n",
       "415            NaN\n",
       "416            NaN\n",
       "417            NaN\n",
       "Name: Cabin, Length: 1309, dtype: object"
      ]
     },
     "execution_count": 198,
     "metadata": {},
     "output_type": "execute_result"
    }
   ],
   "source": [
    "all_df.pop('Name')\n",
    "all_df.pop('Ticket')\n",
    "all_df.pop('Cabin')\n"
   ]
  },
  {
   "cell_type": "code",
   "execution_count": 203,
   "metadata": {
    "collapsed": true
   },
   "outputs": [],
   "source": [
    "all_df.loc[all_df.Age<=12,'Age_type']='child'\n",
    "all_df.loc[all_df.Age.between(13,40),'Age_type']='adult'\n",
    "all_df.loc[all_df.Age>40,'Age_type']='old'"
   ]
  },
  {
   "cell_type": "code",
   "execution_count": 204,
   "metadata": {},
   "outputs": [
    {
     "name": "stdout",
     "output_type": "stream",
     "text": [
      "<class 'pandas.core.frame.DataFrame'>\n",
      "Int64Index: 1309 entries, 0 to 417\n",
      "Data columns (total 36 columns):\n",
      "PassengerId           1309 non-null int64\n",
      "Age                   1309 non-null float64\n",
      "SibSp                 1309 non-null int64\n",
      "Parch                 1309 non-null int64\n",
      "Fare                  1309 non-null float64\n",
      "trainortest           1309 non-null object\n",
      "family_cnt            1309 non-null int64\n",
      "Pclass_1              1309 non-null uint8\n",
      "Pclass_2              1309 non-null uint8\n",
      "Pclass_3              1309 non-null uint8\n",
      "Sex_female            1309 non-null uint8\n",
      "Sex_male              1309 non-null uint8\n",
      "Embarked_C            1309 non-null uint8\n",
      "Embarked_Q            1309 non-null uint8\n",
      "Embarked_S            1309 non-null uint8\n",
      "title_Master          1309 non-null uint8\n",
      "title_Miss            1309 non-null uint8\n",
      "title_Mr              1309 non-null uint8\n",
      "title_Mrs             1309 non-null uint8\n",
      "title_rare            1309 non-null uint8\n",
      "family_type_big       1309 non-null uint8\n",
      "family_type_middle    1309 non-null uint8\n",
      "family_type_sigle     1309 non-null uint8\n",
      "cabin_type_A          1309 non-null uint8\n",
      "cabin_type_B          1309 non-null uint8\n",
      "cabin_type_C          1309 non-null uint8\n",
      "cabin_type_D          1309 non-null uint8\n",
      "cabin_type_E          1309 non-null uint8\n",
      "cabin_type_F          1309 non-null uint8\n",
      "cabin_type_O          1309 non-null uint8\n",
      "cabin_type_n          1309 non-null uint8\n",
      "Fare_scaled           1309 non-null float64\n",
      "family_cnt_scaled     1309 non-null float64\n",
      "SibSp_scaled          1309 non-null float64\n",
      "Parch_scaled          1309 non-null float64\n",
      "Age_type              1309 non-null object\n",
      "dtypes: float64(6), int64(4), object(2), uint8(24)\n",
      "memory usage: 203.6+ KB\n"
     ]
    }
   ],
   "source": [
    "all_df.info()"
   ]
  },
  {
   "cell_type": "code",
   "execution_count": 206,
   "metadata": {
    "collapsed": true
   },
   "outputs": [],
   "source": [
    "all_df=pd.get_dummies(all_df,columns=['Age_type'])"
   ]
  },
  {
   "cell_type": "code",
   "execution_count": 207,
   "metadata": {},
   "outputs": [
    {
     "name": "stdout",
     "output_type": "stream",
     "text": [
      "<class 'pandas.core.frame.DataFrame'>\n",
      "Int64Index: 1309 entries, 0 to 417\n",
      "Data columns (total 38 columns):\n",
      "PassengerId           1309 non-null int64\n",
      "Age                   1309 non-null float64\n",
      "SibSp                 1309 non-null int64\n",
      "Parch                 1309 non-null int64\n",
      "Fare                  1309 non-null float64\n",
      "trainortest           1309 non-null object\n",
      "family_cnt            1309 non-null int64\n",
      "Pclass_1              1309 non-null uint8\n",
      "Pclass_2              1309 non-null uint8\n",
      "Pclass_3              1309 non-null uint8\n",
      "Sex_female            1309 non-null uint8\n",
      "Sex_male              1309 non-null uint8\n",
      "Embarked_C            1309 non-null uint8\n",
      "Embarked_Q            1309 non-null uint8\n",
      "Embarked_S            1309 non-null uint8\n",
      "title_Master          1309 non-null uint8\n",
      "title_Miss            1309 non-null uint8\n",
      "title_Mr              1309 non-null uint8\n",
      "title_Mrs             1309 non-null uint8\n",
      "title_rare            1309 non-null uint8\n",
      "family_type_big       1309 non-null uint8\n",
      "family_type_middle    1309 non-null uint8\n",
      "family_type_sigle     1309 non-null uint8\n",
      "cabin_type_A          1309 non-null uint8\n",
      "cabin_type_B          1309 non-null uint8\n",
      "cabin_type_C          1309 non-null uint8\n",
      "cabin_type_D          1309 non-null uint8\n",
      "cabin_type_E          1309 non-null uint8\n",
      "cabin_type_F          1309 non-null uint8\n",
      "cabin_type_O          1309 non-null uint8\n",
      "cabin_type_n          1309 non-null uint8\n",
      "Fare_scaled           1309 non-null float64\n",
      "family_cnt_scaled     1309 non-null float64\n",
      "SibSp_scaled          1309 non-null float64\n",
      "Parch_scaled          1309 non-null float64\n",
      "Age_type_adult        1309 non-null uint8\n",
      "Age_type_child        1309 non-null uint8\n",
      "Age_type_old          1309 non-null uint8\n",
      "dtypes: float64(6), int64(4), object(1), uint8(27)\n",
      "memory usage: 197.2+ KB\n"
     ]
    }
   ],
   "source": [
    "all_df.info()"
   ]
  },
  {
   "cell_type": "code",
   "execution_count": 208,
   "metadata": {
    "collapsed": true
   },
   "outputs": [],
   "source": [
    "age_scale_param = scaler.fit(all_df[['Age']])\n",
    "all_df['Age_scaled'] = scaler.fit_transform(all_df[['Age']], age_scale_param)"
   ]
  },
  {
   "cell_type": "code",
   "execution_count": 209,
   "metadata": {},
   "outputs": [
    {
     "name": "stdout",
     "output_type": "stream",
     "text": [
      "<class 'pandas.core.frame.DataFrame'>\n",
      "Int64Index: 1309 entries, 0 to 417\n",
      "Data columns (total 39 columns):\n",
      "PassengerId           1309 non-null int64\n",
      "Age                   1309 non-null float64\n",
      "SibSp                 1309 non-null int64\n",
      "Parch                 1309 non-null int64\n",
      "Fare                  1309 non-null float64\n",
      "trainortest           1309 non-null object\n",
      "family_cnt            1309 non-null int64\n",
      "Pclass_1              1309 non-null uint8\n",
      "Pclass_2              1309 non-null uint8\n",
      "Pclass_3              1309 non-null uint8\n",
      "Sex_female            1309 non-null uint8\n",
      "Sex_male              1309 non-null uint8\n",
      "Embarked_C            1309 non-null uint8\n",
      "Embarked_Q            1309 non-null uint8\n",
      "Embarked_S            1309 non-null uint8\n",
      "title_Master          1309 non-null uint8\n",
      "title_Miss            1309 non-null uint8\n",
      "title_Mr              1309 non-null uint8\n",
      "title_Mrs             1309 non-null uint8\n",
      "title_rare            1309 non-null uint8\n",
      "family_type_big       1309 non-null uint8\n",
      "family_type_middle    1309 non-null uint8\n",
      "family_type_sigle     1309 non-null uint8\n",
      "cabin_type_A          1309 non-null uint8\n",
      "cabin_type_B          1309 non-null uint8\n",
      "cabin_type_C          1309 non-null uint8\n",
      "cabin_type_D          1309 non-null uint8\n",
      "cabin_type_E          1309 non-null uint8\n",
      "cabin_type_F          1309 non-null uint8\n",
      "cabin_type_O          1309 non-null uint8\n",
      "cabin_type_n          1309 non-null uint8\n",
      "Fare_scaled           1309 non-null float64\n",
      "family_cnt_scaled     1309 non-null float64\n",
      "SibSp_scaled          1309 non-null float64\n",
      "Parch_scaled          1309 non-null float64\n",
      "Age_type_adult        1309 non-null uint8\n",
      "Age_type_child        1309 non-null uint8\n",
      "Age_type_old          1309 non-null uint8\n",
      "Age_scaled            1309 non-null float64\n",
      "dtypes: float64(7), int64(4), object(1), uint8(27)\n",
      "memory usage: 207.5+ KB\n"
     ]
    }
   ],
   "source": [
    "all_df.info()"
   ]
  },
  {
   "cell_type": "code",
   "execution_count": 210,
   "metadata": {},
   "outputs": [
    {
     "data": {
      "text/plain": [
       "0        7.2500\n",
       "1       71.2833\n",
       "2        7.9250\n",
       "3       53.1000\n",
       "4        8.0500\n",
       "5        8.4583\n",
       "6       51.8625\n",
       "7       21.0750\n",
       "8       11.1333\n",
       "9       30.0708\n",
       "10      16.7000\n",
       "11      26.5500\n",
       "12       8.0500\n",
       "13      31.2750\n",
       "14       7.8542\n",
       "15      16.0000\n",
       "16      29.1250\n",
       "17      13.0000\n",
       "18      18.0000\n",
       "19       7.2250\n",
       "20      26.0000\n",
       "21      13.0000\n",
       "22       8.0292\n",
       "23      35.5000\n",
       "24      21.0750\n",
       "25      31.3875\n",
       "26       7.2250\n",
       "27     263.0000\n",
       "28       7.8792\n",
       "29       7.8958\n",
       "         ...   \n",
       "388      7.7500\n",
       "389     21.0750\n",
       "390     93.5000\n",
       "391     39.4000\n",
       "392     20.2500\n",
       "393     10.5000\n",
       "394     22.0250\n",
       "395     60.0000\n",
       "396      7.2500\n",
       "397     79.2000\n",
       "398      7.7750\n",
       "399      7.7333\n",
       "400    164.8667\n",
       "401     21.0000\n",
       "402     59.4000\n",
       "403     47.1000\n",
       "404     27.7208\n",
       "405     13.8625\n",
       "406     10.5000\n",
       "407    211.5000\n",
       "408      7.7208\n",
       "409     13.7750\n",
       "410      7.7500\n",
       "411     90.0000\n",
       "412      7.7750\n",
       "413      8.0500\n",
       "414    108.9000\n",
       "415      7.2500\n",
       "416      8.0500\n",
       "417     22.3583\n",
       "Name: Fare, Length: 1309, dtype: float64"
      ]
     },
     "execution_count": 210,
     "metadata": {},
     "output_type": "execute_result"
    }
   ],
   "source": [
    "all_df.pop('Age')\n",
    "all_df.pop('SibSp')\n",
    "all_df.pop('Parch')\n",
    "all_df.pop('Fare')"
   ]
  },
  {
   "cell_type": "code",
   "execution_count": 211,
   "metadata": {},
   "outputs": [
    {
     "name": "stdout",
     "output_type": "stream",
     "text": [
      "<class 'pandas.core.frame.DataFrame'>\n",
      "Int64Index: 1309 entries, 0 to 417\n",
      "Data columns (total 35 columns):\n",
      "PassengerId           1309 non-null int64\n",
      "trainortest           1309 non-null object\n",
      "family_cnt            1309 non-null int64\n",
      "Pclass_1              1309 non-null uint8\n",
      "Pclass_2              1309 non-null uint8\n",
      "Pclass_3              1309 non-null uint8\n",
      "Sex_female            1309 non-null uint8\n",
      "Sex_male              1309 non-null uint8\n",
      "Embarked_C            1309 non-null uint8\n",
      "Embarked_Q            1309 non-null uint8\n",
      "Embarked_S            1309 non-null uint8\n",
      "title_Master          1309 non-null uint8\n",
      "title_Miss            1309 non-null uint8\n",
      "title_Mr              1309 non-null uint8\n",
      "title_Mrs             1309 non-null uint8\n",
      "title_rare            1309 non-null uint8\n",
      "family_type_big       1309 non-null uint8\n",
      "family_type_middle    1309 non-null uint8\n",
      "family_type_sigle     1309 non-null uint8\n",
      "cabin_type_A          1309 non-null uint8\n",
      "cabin_type_B          1309 non-null uint8\n",
      "cabin_type_C          1309 non-null uint8\n",
      "cabin_type_D          1309 non-null uint8\n",
      "cabin_type_E          1309 non-null uint8\n",
      "cabin_type_F          1309 non-null uint8\n",
      "cabin_type_O          1309 non-null uint8\n",
      "cabin_type_n          1309 non-null uint8\n",
      "Fare_scaled           1309 non-null float64\n",
      "family_cnt_scaled     1309 non-null float64\n",
      "SibSp_scaled          1309 non-null float64\n",
      "Parch_scaled          1309 non-null float64\n",
      "Age_type_adult        1309 non-null uint8\n",
      "Age_type_child        1309 non-null uint8\n",
      "Age_type_old          1309 non-null uint8\n",
      "Age_scaled            1309 non-null float64\n",
      "dtypes: float64(5), int64(2), object(1), uint8(27)\n",
      "memory usage: 166.6+ KB\n"
     ]
    }
   ],
   "source": [
    "all_df.info()"
   ]
  },
  {
   "cell_type": "code",
   "execution_count": 212,
   "metadata": {
    "collapsed": true
   },
   "outputs": [],
   "source": [
    "train_data=all_df[all_df.trainortest=='train']"
   ]
  },
  {
   "cell_type": "code",
   "execution_count": 220,
   "metadata": {
    "collapsed": true
   },
   "outputs": [],
   "source": [
    "test_data=all_df[all_df.trainortest=='test']"
   ]
  },
  {
   "cell_type": "code",
   "execution_count": 222,
   "metadata": {},
   "outputs": [
    {
     "data": {
      "text/plain": [
       "0      train\n",
       "1      train\n",
       "2      train\n",
       "3      train\n",
       "4      train\n",
       "5      train\n",
       "6      train\n",
       "7      train\n",
       "8      train\n",
       "9      train\n",
       "10     train\n",
       "11     train\n",
       "12     train\n",
       "13     train\n",
       "14     train\n",
       "15     train\n",
       "16     train\n",
       "17     train\n",
       "18     train\n",
       "19     train\n",
       "20     train\n",
       "21     train\n",
       "22     train\n",
       "23     train\n",
       "24     train\n",
       "25     train\n",
       "26     train\n",
       "27     train\n",
       "28     train\n",
       "29     train\n",
       "       ...  \n",
       "861    train\n",
       "862    train\n",
       "863    train\n",
       "864    train\n",
       "865    train\n",
       "866    train\n",
       "867    train\n",
       "868    train\n",
       "869    train\n",
       "870    train\n",
       "871    train\n",
       "872    train\n",
       "873    train\n",
       "874    train\n",
       "875    train\n",
       "876    train\n",
       "877    train\n",
       "878    train\n",
       "879    train\n",
       "880    train\n",
       "881    train\n",
       "882    train\n",
       "883    train\n",
       "884    train\n",
       "885    train\n",
       "886    train\n",
       "887    train\n",
       "888    train\n",
       "889    train\n",
       "890    train\n",
       "Name: trainortest, Length: 891, dtype: object"
      ]
     },
     "execution_count": 222,
     "metadata": {},
     "output_type": "execute_result"
    }
   ],
   "source": [
    "test_data.pop('trainortest')\n",
    "train_data.pop('trainortest')"
   ]
  },
  {
   "cell_type": "code",
   "execution_count": 223,
   "metadata": {},
   "outputs": [
    {
     "name": "stdout",
     "output_type": "stream",
     "text": [
      "<class 'pandas.core.frame.DataFrame'>\n",
      "Int64Index: 418 entries, 0 to 417\n",
      "Data columns (total 34 columns):\n",
      "PassengerId           418 non-null int64\n",
      "family_cnt            418 non-null int64\n",
      "Pclass_1              418 non-null uint8\n",
      "Pclass_2              418 non-null uint8\n",
      "Pclass_3              418 non-null uint8\n",
      "Sex_female            418 non-null uint8\n",
      "Sex_male              418 non-null uint8\n",
      "Embarked_C            418 non-null uint8\n",
      "Embarked_Q            418 non-null uint8\n",
      "Embarked_S            418 non-null uint8\n",
      "title_Master          418 non-null uint8\n",
      "title_Miss            418 non-null uint8\n",
      "title_Mr              418 non-null uint8\n",
      "title_Mrs             418 non-null uint8\n",
      "title_rare            418 non-null uint8\n",
      "family_type_big       418 non-null uint8\n",
      "family_type_middle    418 non-null uint8\n",
      "family_type_sigle     418 non-null uint8\n",
      "cabin_type_A          418 non-null uint8\n",
      "cabin_type_B          418 non-null uint8\n",
      "cabin_type_C          418 non-null uint8\n",
      "cabin_type_D          418 non-null uint8\n",
      "cabin_type_E          418 non-null uint8\n",
      "cabin_type_F          418 non-null uint8\n",
      "cabin_type_O          418 non-null uint8\n",
      "cabin_type_n          418 non-null uint8\n",
      "Fare_scaled           418 non-null float64\n",
      "family_cnt_scaled     418 non-null float64\n",
      "SibSp_scaled          418 non-null float64\n",
      "Parch_scaled          418 non-null float64\n",
      "Age_type_adult        418 non-null uint8\n",
      "Age_type_child        418 non-null uint8\n",
      "Age_type_old          418 non-null uint8\n",
      "Age_scaled            418 non-null float64\n",
      "dtypes: float64(5), int64(2), uint8(27)\n",
      "memory usage: 37.1 KB\n"
     ]
    }
   ],
   "source": [
    "test_data.info()"
   ]
  },
  {
   "cell_type": "code",
   "execution_count": 224,
   "metadata": {},
   "outputs": [
    {
     "name": "stdout",
     "output_type": "stream",
     "text": [
      "<class 'pandas.core.frame.DataFrame'>\n",
      "Int64Index: 891 entries, 0 to 890\n",
      "Data columns (total 34 columns):\n",
      "PassengerId           891 non-null int64\n",
      "family_cnt            891 non-null int64\n",
      "Pclass_1              891 non-null uint8\n",
      "Pclass_2              891 non-null uint8\n",
      "Pclass_3              891 non-null uint8\n",
      "Sex_female            891 non-null uint8\n",
      "Sex_male              891 non-null uint8\n",
      "Embarked_C            891 non-null uint8\n",
      "Embarked_Q            891 non-null uint8\n",
      "Embarked_S            891 non-null uint8\n",
      "title_Master          891 non-null uint8\n",
      "title_Miss            891 non-null uint8\n",
      "title_Mr              891 non-null uint8\n",
      "title_Mrs             891 non-null uint8\n",
      "title_rare            891 non-null uint8\n",
      "family_type_big       891 non-null uint8\n",
      "family_type_middle    891 non-null uint8\n",
      "family_type_sigle     891 non-null uint8\n",
      "cabin_type_A          891 non-null uint8\n",
      "cabin_type_B          891 non-null uint8\n",
      "cabin_type_C          891 non-null uint8\n",
      "cabin_type_D          891 non-null uint8\n",
      "cabin_type_E          891 non-null uint8\n",
      "cabin_type_F          891 non-null uint8\n",
      "cabin_type_O          891 non-null uint8\n",
      "cabin_type_n          891 non-null uint8\n",
      "Fare_scaled           891 non-null float64\n",
      "family_cnt_scaled     891 non-null float64\n",
      "SibSp_scaled          891 non-null float64\n",
      "Parch_scaled          891 non-null float64\n",
      "Age_type_adult        891 non-null uint8\n",
      "Age_type_child        891 non-null uint8\n",
      "Age_type_old          891 non-null uint8\n",
      "Age_scaled            891 non-null float64\n",
      "dtypes: float64(5), int64(2), uint8(27)\n",
      "memory usage: 119.2 KB\n"
     ]
    }
   ],
   "source": [
    "train_data.info()"
   ]
  },
  {
   "cell_type": "code",
   "execution_count": 225,
   "metadata": {
    "collapsed": true
   },
   "outputs": [],
   "source": [
    "train_data.to_csv('feature_train_data.csv')\n",
    "test_data.to_csv('feature_test_data.csv')"
   ]
  },
  {
   "cell_type": "code",
   "execution_count": 227,
   "metadata": {
    "collapsed": true
   },
   "outputs": [],
   "source": [
    "train_lable=y_train;"
   ]
  },
  {
   "cell_type": "code",
   "execution_count": 228,
   "metadata": {
    "collapsed": true
   },
   "outputs": [],
   "source": [
    "train_data.pop('PassengerId')\n",
    "X=train_data.values\n",
    "y=train_lable.values"
   ]
  },
  {
   "cell_type": "markdown",
   "metadata": {},
   "source": [
    "采用逻辑回归进行训练，使用gridsearchcv进行交叉验证选取最优的超参数。"
   ]
  },
  {
   "cell_type": "code",
   "execution_count": 231,
   "metadata": {},
   "outputs": [
    {
     "name": "stderr",
     "output_type": "stream",
     "text": [
      "C:\\ProgramData\\Anaconda3\\lib\\site-packages\\sklearn\\metrics\\classification.py:1113: UndefinedMetricWarning: Precision is ill-defined and being set to 0.0 due to no predicted samples.\n",
      "  'precision', 'predicted', average, warn_for)\n",
      "C:\\ProgramData\\Anaconda3\\lib\\site-packages\\sklearn\\metrics\\classification.py:1113: UndefinedMetricWarning: Precision is ill-defined and being set to 0.0 due to no predicted samples.\n",
      "  'precision', 'predicted', average, warn_for)\n",
      "C:\\ProgramData\\Anaconda3\\lib\\site-packages\\sklearn\\metrics\\classification.py:1113: UndefinedMetricWarning: Precision is ill-defined and being set to 0.0 due to no predicted samples.\n",
      "  'precision', 'predicted', average, warn_for)\n",
      "C:\\ProgramData\\Anaconda3\\lib\\site-packages\\sklearn\\metrics\\classification.py:1113: UndefinedMetricWarning: Precision is ill-defined and being set to 0.0 due to no predicted samples.\n",
      "  'precision', 'predicted', average, warn_for)\n",
      "C:\\ProgramData\\Anaconda3\\lib\\site-packages\\sklearn\\metrics\\classification.py:1113: UndefinedMetricWarning: Precision is ill-defined and being set to 0.0 due to no predicted samples.\n",
      "  'precision', 'predicted', average, warn_for)\n",
      "C:\\ProgramData\\Anaconda3\\lib\\site-packages\\sklearn\\metrics\\classification.py:1113: UndefinedMetricWarning: Precision is ill-defined and being set to 0.0 due to no predicted samples.\n",
      "  'precision', 'predicted', average, warn_for)\n",
      "C:\\ProgramData\\Anaconda3\\lib\\site-packages\\sklearn\\metrics\\classification.py:1113: UndefinedMetricWarning: Precision is ill-defined and being set to 0.0 due to no predicted samples.\n",
      "  'precision', 'predicted', average, warn_for)\n",
      "C:\\ProgramData\\Anaconda3\\lib\\site-packages\\sklearn\\metrics\\classification.py:1113: UndefinedMetricWarning: Precision is ill-defined and being set to 0.0 due to no predicted samples.\n",
      "  'precision', 'predicted', average, warn_for)\n",
      "C:\\ProgramData\\Anaconda3\\lib\\site-packages\\sklearn\\metrics\\classification.py:1113: UndefinedMetricWarning: Precision is ill-defined and being set to 0.0 due to no predicted samples.\n",
      "  'precision', 'predicted', average, warn_for)\n",
      "C:\\ProgramData\\Anaconda3\\lib\\site-packages\\sklearn\\metrics\\classification.py:1113: UndefinedMetricWarning: Precision is ill-defined and being set to 0.0 due to no predicted samples.\n",
      "  'precision', 'predicted', average, warn_for)\n",
      "C:\\ProgramData\\Anaconda3\\lib\\site-packages\\sklearn\\model_selection\\_search.py:667: DeprecationWarning: The grid_scores_ attribute was deprecated in version 0.18 in favor of the more elaborate cv_results_ attribute. The grid_scores_ attribute will not be available from 0.20\n",
      "  DeprecationWarning)\n"
     ]
    },
    {
     "data": {
      "text/plain": [
       "([mean: 0.00000, std: 0.00000, params: {'C': 0.01, 'penalty': 'l1'},\n",
       "  mean: 0.81159, std: 0.02096, params: {'C': 0.01, 'penalty': 'l2'},\n",
       "  mean: 0.77377, std: 0.03100, params: {'C': 0.1, 'penalty': 'l1'},\n",
       "  mean: 0.79635, std: 0.03310, params: {'C': 0.1, 'penalty': 'l2'},\n",
       "  mean: 0.79281, std: 0.02796, params: {'C': 1, 'penalty': 'l1'},\n",
       "  mean: 0.78955, std: 0.03281, params: {'C': 1, 'penalty': 'l2'},\n",
       "  mean: 0.77970, std: 0.03184, params: {'C': 10, 'penalty': 'l1'},\n",
       "  mean: 0.77423, std: 0.02876, params: {'C': 10, 'penalty': 'l2'},\n",
       "  mean: 0.77423, std: 0.02876, params: {'C': 20, 'penalty': 'l1'},\n",
       "  mean: 0.77423, std: 0.02876, params: {'C': 20, 'penalty': 'l2'}],\n",
       " {'C': 0.01, 'penalty': 'l2'},\n",
       " 0.81158501485339252)"
      ]
     },
     "execution_count": 231,
     "metadata": {},
     "output_type": "execute_result"
    }
   ],
   "source": [
    "from sklearn import linear_model\n",
    "from sklearn.model_selection import GridSearchCV\n",
    "from sklearn import linear_model\n",
    "parameters = {'penalty': ('l1', 'l2'),\n",
    "                  'C': [0.01,0.1,1,10,20]\n",
    "                  }\n",
    "estimator = linear_model.LogisticRegression(C=1.0, penalty='l1', tol=1e-6)\n",
    "gsearch = GridSearchCV(estimator, param_grid=parameters, scoring='precision', cv=10)\n",
    "gsearch.fit(X=X,y=y )\n",
    "gsearch.grid_scores_, gsearch.best_params_, gsearch.best_score_"
   ]
  },
  {
   "cell_type": "code",
   "execution_count": 232,
   "metadata": {
    "collapsed": true
   },
   "outputs": [],
   "source": [
    "clf_lr=linear_model.LogisticRegression(C=0.01, penalty='l2', tol=1e-6)"
   ]
  },
  {
   "cell_type": "markdown",
   "metadata": {},
   "source": [
    "我们采用这个LR模型提交试试"
   ]
  },
  {
   "cell_type": "code",
   "execution_count": 234,
   "metadata": {},
   "outputs": [
    {
     "data": {
      "text/plain": [
       "LogisticRegression(C=0.01, class_weight=None, dual=False, fit_intercept=True,\n",
       "          intercept_scaling=1, max_iter=100, multi_class='ovr', n_jobs=1,\n",
       "          penalty='l2', random_state=None, solver='liblinear', tol=1e-06,\n",
       "          verbose=0, warm_start=False)"
      ]
     },
     "execution_count": 234,
     "metadata": {},
     "output_type": "execute_result"
    }
   ],
   "source": [
    "clf_lr.fit(X=X,y=y)"
   ]
  },
  {
   "cell_type": "code",
   "execution_count": 239,
   "metadata": {},
   "outputs": [
    {
     "name": "stderr",
     "output_type": "stream",
     "text": [
      "C:\\ProgramData\\Anaconda3\\lib\\site-packages\\sklearn\\cross_validation.py:44: DeprecationWarning: This module was deprecated in version 0.18 in favor of the model_selection module into which all the refactored classes and functions are moved. Also note that the interface of the new CV iterators are different from that of this module. This module will be removed in 0.20.\n",
      "  \"This module will be removed in 0.20.\", DeprecationWarning)\n",
      "C:\\ProgramData\\Anaconda3\\lib\\site-packages\\sklearn\\learning_curve.py:23: DeprecationWarning: This module was deprecated in version 0.18 in favor of the model_selection module into which all the functions are moved. This module will be removed in 0.20\n",
      "  DeprecationWarning)\n"
     ]
    }
   ],
   "source": [
    "from sklearn.learning_curve import learning_curve\n",
    "def plot_learning_curve(estimator, title, X, y, ylim=None, cv=10, n_jobs=1,\n",
    "                        train_sizes=np.linspace(.05, 1., 20), verbose=0, plot=True):\n",
    "    \"\"\"\n",
    "    画出data在某模型上的learning curve.\n",
    "    参数解释\n",
    "    ----------\n",
    "    estimator : 你用的分类器。\n",
    "    title : 表格的标题。\n",
    "    X : 输入的feature，numpy类型\n",
    "    y : 输入的target vector\n",
    "    ylim : tuple格式的(ymin, ymax), 设定图像中纵坐标的最低点和最高点\n",
    "    cv : 做cross-validation的时候，数据分成的份数，其中一份作为cv集，其余n-1份作为training(默认为3份)\n",
    "    n_jobs : 并行的的任务数(默认1)\n",
    "    \"\"\"\n",
    "\n",
    "    train_sizes, train_scores, test_scores = learning_curve(\n",
    "        estimator, X, y, cv=cv, n_jobs=n_jobs, train_sizes=train_sizes, verbose=verbose)\n",
    "\n",
    "    train_scores_mean = np.mean(train_scores, axis=1)\n",
    "    train_scores_std = np.std(train_scores, axis=1)\n",
    "    test_scores_mean = np.mean(test_scores, axis=1)\n",
    "    test_scores_std = np.std(test_scores, axis=1)\n",
    "\n",
    "    if plot:\n",
    "        plt.figure()\n",
    "        plt.title(title)\n",
    "        if ylim is not None:\n",
    "            plt.ylim(*ylim)\n",
    "        plt.xlabel(u\"训练样本数\")\n",
    "        plt.ylabel(u\"得分\")\n",
    "        plt.gca().invert_yaxis()\n",
    "        plt.grid()\n",
    "\n",
    "        plt.fill_between(train_sizes, train_scores_mean - train_scores_std, train_scores_mean + train_scores_std,\n",
    "                         alpha=0.1, color=\"b\")\n",
    "        plt.fill_between(train_sizes, test_scores_mean - test_scores_std, test_scores_mean + test_scores_std,\n",
    "                         alpha=0.1, color=\"r\")\n",
    "        plt.plot(train_sizes, train_scores_mean, 'o-', color=\"b\", label=u\"训练集上得分\")\n",
    "        plt.plot(train_sizes, test_scores_mean, 'o-', color=\"r\", label=u\"交叉验证集上得分\")\n",
    "\n",
    "        plt.legend(loc=\"best\")\n",
    "\n",
    "        plt.draw()\n",
    "        plt.gca().invert_yaxis()\n",
    "        plt.show()\n",
    "\n",
    "    midpoint = ((train_scores_mean[-1] + train_scores_std[-1]) + (test_scores_mean[-1] - test_scores_std[-1])) / 2\n",
    "    diff = (train_scores_mean[-1] + train_scores_std[-1]) - (test_scores_mean[-1] - test_scores_std[-1])\n",
    "    return midpoint, diff"
   ]
  },
  {
   "cell_type": "code",
   "execution_count": 240,
   "metadata": {
    "scrolled": false
   },
   "outputs": [
    {
     "data": {
      "image/png": "[encoded data removed]",
      "text/plain": [
       "<matplotlib.figure.Figure at 0x676b5f8>"
      ]
     },
     "metadata": {},
     "output_type": "display_data"
    },
    {
     "data": {
      "text/plain": [
       "(0.80303615884393875, 0.035808365831382027)"
      ]
     },
     "execution_count": 240,
     "metadata": {},
     "output_type": "execute_result"
    }
   ],
   "source": [
    "plot_learning_curve(estimator=clf_lr,title=\"lr_learning_curve\",X=X,y=y)"
   ]
  },
  {
   "cell_type": "markdown",
   "metadata": {},
   "source": [
    "测试集合上得到数据"
   ]
  },
  {
   "cell_type": "code",
   "execution_count": 242,
   "metadata": {
    "collapsed": true
   },
   "outputs": [],
   "source": [
    "PassengerId=test_data.pop('PassengerId')"
   ]
  },
  {
   "cell_type": "code",
   "execution_count": 245,
   "metadata": {
    "collapsed": true
   },
   "outputs": [],
   "source": [
    "test_rs=clf_lr.predict(test_data.values)"
   ]
  },
  {
   "cell_type": "code",
   "execution_count": 247,
   "metadata": {
    "collapsed": true
   },
   "outputs": [],
   "source": [
    "lr_rs=pd.DataFrame({'PassengerId':PassengerId,'Survived':test_rs})"
   ]
  },
  {
   "cell_type": "code",
   "execution_count": 255,
   "metadata": {
    "collapsed": true
   },
   "outputs": [],
   "source": [
    "lr_rs.to_csv(\"lr_rs.csv\",index=False)"
   ]
  },
  {
   "cell_type": "code",
   "execution_count": 259,
   "metadata": {
    "collapsed": true
   },
   "outputs": [],
   "source": [
    "lr_feature_score=pd.DataFrame({\"columns\":list(train_data.columns), \"coef\":list(clf_lr.coef_.T)})"
   ]
  },
  {
   "cell_type": "code",
   "execution_count": 262,
   "metadata": {
    "scrolled": true
   },
   "outputs": [
    {
     "data": {
      "text/html": [
       "<div>\n",
       "<style>\n",
       "    .dataframe thead tr:only-child th {\n",
       "        text-align: right;\n",
       "    }\n",
       "\n",
       "    .dataframe thead th {\n",
       "        text-align: left;\n",
       "    }\n",
       "\n",
       "    .dataframe tbody tr th {\n",
       "        vertical-align: top;\n",
       "    }\n",
       "</style>\n",
       "<table border=\"1\" class=\"dataframe\">\n",
       "  <thead>\n",
       "    <tr style=\"text-align: right;\">\n",
       "      <th></th>\n",
       "      <th>coef</th>\n",
       "      <th>columns</th>\n",
       "    </tr>\n",
       "  </thead>\n",
       "  <tbody>\n",
       "    <tr>\n",
       "      <th>4</th>\n",
       "      <td>[0.420093687348]</td>\n",
       "      <td>Sex_female</td>\n",
       "    </tr>\n",
       "    <tr>\n",
       "      <th>25</th>\n",
       "      <td>[0.224050770909]</td>\n",
       "      <td>Fare_scaled</td>\n",
       "    </tr>\n",
       "    <tr>\n",
       "      <th>12</th>\n",
       "      <td>[0.223104635312]</td>\n",
       "      <td>title_Mrs</td>\n",
       "    </tr>\n",
       "    <tr>\n",
       "      <th>1</th>\n",
       "      <td>[0.206794484314]</td>\n",
       "      <td>Pclass_1</td>\n",
       "    </tr>\n",
       "    <tr>\n",
       "      <th>10</th>\n",
       "      <td>[0.186238704015]</td>\n",
       "      <td>title_Miss</td>\n",
       "    </tr>\n",
       "    <tr>\n",
       "      <th>15</th>\n",
       "      <td>[0.170948306416]</td>\n",
       "      <td>family_type_middle</td>\n",
       "    </tr>\n",
       "    <tr>\n",
       "      <th>6</th>\n",
       "      <td>[0.099257251227]</td>\n",
       "      <td>Embarked_C</td>\n",
       "    </tr>\n",
       "    <tr>\n",
       "      <th>2</th>\n",
       "      <td>[0.0968012524349]</td>\n",
       "      <td>Pclass_2</td>\n",
       "    </tr>\n",
       "    <tr>\n",
       "      <th>9</th>\n",
       "      <td>[0.0882712647055]</td>\n",
       "      <td>title_Master</td>\n",
       "    </tr>\n",
       "    <tr>\n",
       "      <th>21</th>\n",
       "      <td>[0.075845401743]</td>\n",
       "      <td>cabin_type_E</td>\n",
       "    </tr>\n",
       "    <tr>\n",
       "      <th>30</th>\n",
       "      <td>[0.0755377162992]</td>\n",
       "      <td>Age_type_child</td>\n",
       "    </tr>\n",
       "    <tr>\n",
       "      <th>20</th>\n",
       "      <td>[0.0651279769999]</td>\n",
       "      <td>cabin_type_D</td>\n",
       "    </tr>\n",
       "    <tr>\n",
       "      <th>18</th>\n",
       "      <td>[0.05451729885]</td>\n",
       "      <td>cabin_type_B</td>\n",
       "    </tr>\n",
       "    <tr>\n",
       "      <th>19</th>\n",
       "      <td>[0.0212069905562]</td>\n",
       "      <td>cabin_type_C</td>\n",
       "    </tr>\n",
       "    <tr>\n",
       "      <th>22</th>\n",
       "      <td>[0.0198801016356]</td>\n",
       "      <td>cabin_type_F</td>\n",
       "    </tr>\n",
       "    <tr>\n",
       "      <th>7</th>\n",
       "      <td>[0.0162222061541]</td>\n",
       "      <td>Embarked_Q</td>\n",
       "    </tr>\n",
       "    <tr>\n",
       "      <th>28</th>\n",
       "      <td>[0.0143610010664]</td>\n",
       "      <td>Parch_scaled</td>\n",
       "    </tr>\n",
       "    <tr>\n",
       "      <th>17</th>\n",
       "      <td>[0.0135301637731]</td>\n",
       "      <td>cabin_type_A</td>\n",
       "    </tr>\n",
       "    <tr>\n",
       "      <th>23</th>\n",
       "      <td>[-0.00783222327005]</td>\n",
       "      <td>cabin_type_O</td>\n",
       "    </tr>\n",
       "    <tr>\n",
       "      <th>29</th>\n",
       "      <td>[-0.00953581293452]</td>\n",
       "      <td>Age_type_adult</td>\n",
       "    </tr>\n",
       "    <tr>\n",
       "      <th>13</th>\n",
       "      <td>[-0.0134533012386]</td>\n",
       "      <td>title_rare</td>\n",
       "    </tr>\n",
       "    <tr>\n",
       "      <th>31</th>\n",
       "      <td>[-0.0213598724374]</td>\n",
       "      <td>Age_type_old</td>\n",
       "    </tr>\n",
       "    <tr>\n",
       "      <th>0</th>\n",
       "      <td>[-0.0343234524311]</td>\n",
       "      <td>family_cnt</td>\n",
       "    </tr>\n",
       "    <tr>\n",
       "      <th>14</th>\n",
       "      <td>[-0.0384637021767]</td>\n",
       "      <td>family_type_big</td>\n",
       "    </tr>\n",
       "    <tr>\n",
       "      <th>8</th>\n",
       "      <td>[-0.0708374264539]</td>\n",
       "      <td>Embarked_S</td>\n",
       "    </tr>\n",
       "    <tr>\n",
       "      <th>26</th>\n",
       "      <td>[-0.0748080669703]</td>\n",
       "      <td>family_cnt_scaled</td>\n",
       "    </tr>\n",
       "    <tr>\n",
       "      <th>16</th>\n",
       "      <td>[-0.0878425733116]</td>\n",
       "      <td>family_type_sigle</td>\n",
       "    </tr>\n",
       "    <tr>\n",
       "      <th>27</th>\n",
       "      <td>[-0.125664317652]</td>\n",
       "      <td>SibSp_scaled</td>\n",
       "    </tr>\n",
       "    <tr>\n",
       "      <th>32</th>\n",
       "      <td>[-0.15242115539]</td>\n",
       "      <td>Age_scaled</td>\n",
       "    </tr>\n",
       "    <tr>\n",
       "      <th>24</th>\n",
       "      <td>[-0.19763367936]</td>\n",
       "      <td>cabin_type_n</td>\n",
       "    </tr>\n",
       "    <tr>\n",
       "      <th>3</th>\n",
       "      <td>[-0.258953705822]</td>\n",
       "      <td>Pclass_3</td>\n",
       "    </tr>\n",
       "    <tr>\n",
       "      <th>5</th>\n",
       "      <td>[-0.375451656421]</td>\n",
       "      <td>Sex_male</td>\n",
       "    </tr>\n",
       "    <tr>\n",
       "      <th>11</th>\n",
       "      <td>[-0.439519271867]</td>\n",
       "      <td>title_Mr</td>\n",
       "    </tr>\n",
       "  </tbody>\n",
       "</table>\n",
       "</div>"
      ],
      "text/plain": [
       "                   coef             columns\n",
       "4      [0.420093687348]          Sex_female\n",
       "25     [0.224050770909]         Fare_scaled\n",
       "12     [0.223104635312]           title_Mrs\n",
       "1      [0.206794484314]            Pclass_1\n",
       "10     [0.186238704015]          title_Miss\n",
       "15     [0.170948306416]  family_type_middle\n",
       "6      [0.099257251227]          Embarked_C\n",
       "2     [0.0968012524349]            Pclass_2\n",
       "9     [0.0882712647055]        title_Master\n",
       "21     [0.075845401743]        cabin_type_E\n",
       "30    [0.0755377162992]      Age_type_child\n",
       "20    [0.0651279769999]        cabin_type_D\n",
       "18      [0.05451729885]        cabin_type_B\n",
       "19    [0.0212069905562]        cabin_type_C\n",
       "22    [0.0198801016356]        cabin_type_F\n",
       "7     [0.0162222061541]          Embarked_Q\n",
       "28    [0.0143610010664]        Parch_scaled\n",
       "17    [0.0135301637731]        cabin_type_A\n",
       "23  [-0.00783222327005]        cabin_type_O\n",
       "29  [-0.00953581293452]      Age_type_adult\n",
       "13   [-0.0134533012386]          title_rare\n",
       "31   [-0.0213598724374]        Age_type_old\n",
       "0    [-0.0343234524311]          family_cnt\n",
       "14   [-0.0384637021767]     family_type_big\n",
       "8    [-0.0708374264539]          Embarked_S\n",
       "26   [-0.0748080669703]   family_cnt_scaled\n",
       "16   [-0.0878425733116]   family_type_sigle\n",
       "27    [-0.125664317652]        SibSp_scaled\n",
       "32     [-0.15242115539]          Age_scaled\n",
       "24     [-0.19763367936]        cabin_type_n\n",
       "3     [-0.258953705822]            Pclass_3\n",
       "5     [-0.375451656421]            Sex_male\n",
       "11    [-0.439519271867]            title_Mr"
      ]
     },
     "execution_count": 262,
     "metadata": {},
     "output_type": "execute_result"
    }
   ],
   "source": [
    "lr_feature_score.sort_values(by='coef',ascending=False)"
   ]
  },
  {
   "cell_type": "code",
   "execution_count": 275,
   "metadata": {
    "collapsed": true
   },
   "outputs": [],
   "source": [
    "import numpy as np\n",
    "\n",
    "import sklearn.linear_model as lm\n",
    "from sklearn import metrics, preprocessing\n",
    "\n",
    "\n",
    "class greedyFeatureSelection(object):\n",
    "\n",
    "    def __init__(self, data, labels, scale=1, verbose=0):\n",
    "        if scale == 1:\n",
    "            self._data = preprocessing.scale(np.array(data))\n",
    "        else:\n",
    "            self._data = np.array(data)\n",
    "        self._labels = labels\n",
    "        self._verbose = verbose\n",
    "\n",
    "    def evaluateScore(self, X, y):\n",
    "        model = lm.LogisticRegression()\n",
    "        model.fit(X, y)\n",
    "        predictions = model.predict_proba(X)[:, 1]\n",
    "        auc = metrics.roc_auc_score(y, predictions)\n",
    "        return auc\n",
    "\n",
    "    def selectionLoop(self, X, y):\n",
    "        score_history = []\n",
    "        good_features = set([])\n",
    "        num_features = X.shape[1]\n",
    "        while len(score_history) < 2 or score_history[-1][0] > score_history[-2][0]:\n",
    "            scores = []\n",
    "            for feature in range(num_features):\n",
    "                if feature not in good_features:\n",
    "                    selected_features = list(good_features) + [feature]\n",
    "                    Xts = np.column_stack(X[:, j] for j in selected_features)\n",
    "\n",
    "                    score = self.evaluateScore(Xts, y)\n",
    "                    scores.append((score, feature))\n",
    "\n",
    "                    if self._verbose:\n",
    "                        print (\"Current AUC:\",np.mean(score))\n",
    "\n",
    "            good_features.add(sorted(scores)[-1][1])\n",
    "            score_history.append(sorted(scores)[-1])\n",
    "            if self._verbose:\n",
    "                print (\"Current Features : \", sorted(list(good_features)))\n",
    "\n",
    "        # Remove last added feature\n",
    "        good_features.remove(score_history[-1][1])\n",
    "        good_features = sorted(list(good_features))\n",
    "        if self._verbose:\n",
    "            print (\"Selected Features : \", good_features)\n",
    "\n",
    "        return good_features\n",
    "\n",
    "    def transform(self, X):\n",
    "        X = self._data\n",
    "        y = self._labels\n",
    "        good_features = self.selectionLoop(X, y)\n",
    "        return X[:, good_features]"
   ]
  },
  {
   "cell_type": "code",
   "execution_count": 283,
   "metadata": {
    "collapsed": true
   },
   "outputs": [],
   "source": [
    "gfs=greedyFeatureSelection(data=X,labels=y)\n",
    "good=gfs.selectionLoop(X=X,y=y)\n",
    "trf=gfs.transform()"
   ]
  },
  {
   "cell_type": "code",
   "execution_count": 292,
   "metadata": {
    "collapsed": true
   },
   "outputs": [],
   "source": [
    "forest = RandomForestClassifier(oob_score=True, n_estimators=10000)\n",
    "forest.fit(X, y)\n",
    "feature_importance = forest.feature_importances_\n",
    "feature_importance = 100.0 * (feature_importance / feature_importance.max())"
   ]
  },
  {
   "cell_type": "code",
   "execution_count": 297,
   "metadata": {
    "scrolled": true
   },
   "outputs": [
    {
     "data": {
      "text/html": [
       "<div>\n",
       "<style>\n",
       "    .dataframe thead tr:only-child th {\n",
       "        text-align: right;\n",
       "    }\n",
       "\n",
       "    .dataframe thead th {\n",
       "        text-align: left;\n",
       "    }\n",
       "\n",
       "    .dataframe tbody tr th {\n",
       "        vertical-align: top;\n",
       "    }\n",
       "</style>\n",
       "<table border=\"1\" class=\"dataframe\">\n",
       "  <thead>\n",
       "    <tr style=\"text-align: right;\">\n",
       "      <th></th>\n",
       "      <th>feature_name</th>\n",
       "      <th>score</th>\n",
       "    </tr>\n",
       "  </thead>\n",
       "  <tbody>\n",
       "    <tr>\n",
       "      <th>32</th>\n",
       "      <td>Age_scaled</td>\n",
       "      <td>100.000000</td>\n",
       "    </tr>\n",
       "    <tr>\n",
       "      <th>25</th>\n",
       "      <td>Fare_scaled</td>\n",
       "      <td>91.554190</td>\n",
       "    </tr>\n",
       "    <tr>\n",
       "      <th>11</th>\n",
       "      <td>title_Mr</td>\n",
       "      <td>44.394218</td>\n",
       "    </tr>\n",
       "    <tr>\n",
       "      <th>5</th>\n",
       "      <td>Sex_male</td>\n",
       "      <td>42.778761</td>\n",
       "    </tr>\n",
       "    <tr>\n",
       "      <th>4</th>\n",
       "      <td>Sex_female</td>\n",
       "      <td>40.575609</td>\n",
       "    </tr>\n",
       "    <tr>\n",
       "      <th>3</th>\n",
       "      <td>Pclass_3</td>\n",
       "      <td>19.209450</td>\n",
       "    </tr>\n",
       "    <tr>\n",
       "      <th>0</th>\n",
       "      <td>family_cnt</td>\n",
       "      <td>14.188168</td>\n",
       "    </tr>\n",
       "    <tr>\n",
       "      <th>26</th>\n",
       "      <td>family_cnt_scaled</td>\n",
       "      <td>14.146809</td>\n",
       "    </tr>\n",
       "    <tr>\n",
       "      <th>24</th>\n",
       "      <td>cabin_type_n</td>\n",
       "      <td>13.935168</td>\n",
       "    </tr>\n",
       "    <tr>\n",
       "      <th>10</th>\n",
       "      <td>title_Miss</td>\n",
       "      <td>13.408248</td>\n",
       "    </tr>\n",
       "    <tr>\n",
       "      <th>12</th>\n",
       "      <td>title_Mrs</td>\n",
       "      <td>12.453054</td>\n",
       "    </tr>\n",
       "    <tr>\n",
       "      <th>27</th>\n",
       "      <td>SibSp_scaled</td>\n",
       "      <td>10.520381</td>\n",
       "    </tr>\n",
       "    <tr>\n",
       "      <th>1</th>\n",
       "      <td>Pclass_1</td>\n",
       "      <td>9.440575</td>\n",
       "    </tr>\n",
       "    <tr>\n",
       "      <th>28</th>\n",
       "      <td>Parch_scaled</td>\n",
       "      <td>7.064881</td>\n",
       "    </tr>\n",
       "    <tr>\n",
       "      <th>8</th>\n",
       "      <td>Embarked_S</td>\n",
       "      <td>6.924135</td>\n",
       "    </tr>\n",
       "    <tr>\n",
       "      <th>2</th>\n",
       "      <td>Pclass_2</td>\n",
       "      <td>6.747608</td>\n",
       "    </tr>\n",
       "    <tr>\n",
       "      <th>6</th>\n",
       "      <td>Embarked_C</td>\n",
       "      <td>5.853288</td>\n",
       "    </tr>\n",
       "    <tr>\n",
       "      <th>29</th>\n",
       "      <td>Age_type_adult</td>\n",
       "      <td>5.743714</td>\n",
       "    </tr>\n",
       "    <tr>\n",
       "      <th>15</th>\n",
       "      <td>family_type_middle</td>\n",
       "      <td>5.529101</td>\n",
       "    </tr>\n",
       "    <tr>\n",
       "      <th>30</th>\n",
       "      <td>Age_type_child</td>\n",
       "      <td>5.079839</td>\n",
       "    </tr>\n",
       "    <tr>\n",
       "      <th>21</th>\n",
       "      <td>cabin_type_E</td>\n",
       "      <td>4.946836</td>\n",
       "    </tr>\n",
       "    <tr>\n",
       "      <th>31</th>\n",
       "      <td>Age_type_old</td>\n",
       "      <td>4.936323</td>\n",
       "    </tr>\n",
       "    <tr>\n",
       "      <th>9</th>\n",
       "      <td>title_Master</td>\n",
       "      <td>3.901807</td>\n",
       "    </tr>\n",
       "    <tr>\n",
       "      <th>7</th>\n",
       "      <td>Embarked_Q</td>\n",
       "      <td>3.796956</td>\n",
       "    </tr>\n",
       "    <tr>\n",
       "      <th>14</th>\n",
       "      <td>family_type_big</td>\n",
       "      <td>3.538759</td>\n",
       "    </tr>\n",
       "    <tr>\n",
       "      <th>19</th>\n",
       "      <td>cabin_type_C</td>\n",
       "      <td>3.472942</td>\n",
       "    </tr>\n",
       "    <tr>\n",
       "      <th>18</th>\n",
       "      <td>cabin_type_B</td>\n",
       "      <td>3.170859</td>\n",
       "    </tr>\n",
       "    <tr>\n",
       "      <th>16</th>\n",
       "      <td>family_type_sigle</td>\n",
       "      <td>3.144092</td>\n",
       "    </tr>\n",
       "    <tr>\n",
       "      <th>20</th>\n",
       "      <td>cabin_type_D</td>\n",
       "      <td>3.026454</td>\n",
       "    </tr>\n",
       "    <tr>\n",
       "      <th>13</th>\n",
       "      <td>title_rare</td>\n",
       "      <td>2.732465</td>\n",
       "    </tr>\n",
       "    <tr>\n",
       "      <th>17</th>\n",
       "      <td>cabin_type_A</td>\n",
       "      <td>1.486878</td>\n",
       "    </tr>\n",
       "    <tr>\n",
       "      <th>23</th>\n",
       "      <td>cabin_type_O</td>\n",
       "      <td>0.756501</td>\n",
       "    </tr>\n",
       "    <tr>\n",
       "      <th>22</th>\n",
       "      <td>cabin_type_F</td>\n",
       "      <td>0.642552</td>\n",
       "    </tr>\n",
       "  </tbody>\n",
       "</table>\n",
       "</div>"
      ],
      "text/plain": [
       "          feature_name       score\n",
       "32          Age_scaled  100.000000\n",
       "25         Fare_scaled   91.554190\n",
       "11            title_Mr   44.394218\n",
       "5             Sex_male   42.778761\n",
       "4           Sex_female   40.575609\n",
       "3             Pclass_3   19.209450\n",
       "0           family_cnt   14.188168\n",
       "26   family_cnt_scaled   14.146809\n",
       "24        cabin_type_n   13.935168\n",
       "10          title_Miss   13.408248\n",
       "12           title_Mrs   12.453054\n",
       "27        SibSp_scaled   10.520381\n",
       "1             Pclass_1    9.440575\n",
       "28        Parch_scaled    7.064881\n",
       "8           Embarked_S    6.924135\n",
       "2             Pclass_2    6.747608\n",
       "6           Embarked_C    5.853288\n",
       "29      Age_type_adult    5.743714\n",
       "15  family_type_middle    5.529101\n",
       "30      Age_type_child    5.079839\n",
       "21        cabin_type_E    4.946836\n",
       "31        Age_type_old    4.936323\n",
       "9         title_Master    3.901807\n",
       "7           Embarked_Q    3.796956\n",
       "14     family_type_big    3.538759\n",
       "19        cabin_type_C    3.472942\n",
       "18        cabin_type_B    3.170859\n",
       "16   family_type_sigle    3.144092\n",
       "20        cabin_type_D    3.026454\n",
       "13          title_rare    2.732465\n",
       "17        cabin_type_A    1.486878\n",
       "23        cabin_type_O    0.756501\n",
       "22        cabin_type_F    0.642552"
      ]
     },
     "execution_count": 297,
     "metadata": {},
     "output_type": "execute_result"
    }
   ],
   "source": [
    "feature_importance_sort=pd.DataFrame({\"feature_name\":train_data.columns,\"score\":feature_importance})\n",
    "feature_importance_sort.sort_values(by=\"score\",ascending=False)"
   ]
  },
  {
   "cell_type": "code",
   "execution_count": 298,
   "metadata": {
    "scrolled": true
   },
   "outputs": [
    {
     "name": "stderr",
     "output_type": "stream",
     "text": [
      "C:\\ProgramData\\Anaconda3\\lib\\site-packages\\ipykernel_launcher.py:1: SettingWithCopyWarning: \n",
      "A value is trying to be set on a copy of a slice from a DataFrame.\n",
      "Try using .loc[row_indexer,col_indexer] = value instead\n",
      "\n",
      "See the caveats in the documentation: http://pandas.pydata.org/pandas-docs/stable/indexing.html#indexing-view-versus-copy\n",
      "  \"\"\"Entry point for launching an IPython kernel.\n",
      "C:\\ProgramData\\Anaconda3\\lib\\site-packages\\ipykernel_launcher.py:2: SettingWithCopyWarning: \n",
      "A value is trying to be set on a copy of a slice from a DataFrame.\n",
      "Try using .loc[row_indexer,col_indexer] = value instead\n",
      "\n",
      "See the caveats in the documentation: http://pandas.pydata.org/pandas-docs/stable/indexing.html#indexing-view-versus-copy\n",
      "  \n",
      "C:\\ProgramData\\Anaconda3\\lib\\site-packages\\ipykernel_launcher.py:3: SettingWithCopyWarning: \n",
      "A value is trying to be set on a copy of a slice from a DataFrame.\n",
      "Try using .loc[row_indexer,col_indexer] = value instead\n",
      "\n",
      "See the caveats in the documentation: http://pandas.pydata.org/pandas-docs/stable/indexing.html#indexing-view-versus-copy\n",
      "  This is separate from the ipykernel package so we can avoid doing imports until\n",
      "C:\\ProgramData\\Anaconda3\\lib\\site-packages\\ipykernel_launcher.py:4: SettingWithCopyWarning: \n",
      "A value is trying to be set on a copy of a slice from a DataFrame.\n",
      "Try using .loc[row_indexer,col_indexer] = value instead\n",
      "\n",
      "See the caveats in the documentation: http://pandas.pydata.org/pandas-docs/stable/indexing.html#indexing-view-versus-copy\n",
      "  after removing the cwd from sys.path.\n",
      "C:\\ProgramData\\Anaconda3\\lib\\site-packages\\ipykernel_launcher.py:6: SettingWithCopyWarning: \n",
      "A value is trying to be set on a copy of a slice from a DataFrame.\n",
      "Try using .loc[row_indexer,col_indexer] = value instead\n",
      "\n",
      "See the caveats in the documentation: http://pandas.pydata.org/pandas-docs/stable/indexing.html#indexing-view-versus-copy\n",
      "  \n",
      "C:\\ProgramData\\Anaconda3\\lib\\site-packages\\ipykernel_launcher.py:7: SettingWithCopyWarning: \n",
      "A value is trying to be set on a copy of a slice from a DataFrame.\n",
      "Try using .loc[row_indexer,col_indexer] = value instead\n",
      "\n",
      "See the caveats in the documentation: http://pandas.pydata.org/pandas-docs/stable/indexing.html#indexing-view-versus-copy\n",
      "  import sys\n",
      "C:\\ProgramData\\Anaconda3\\lib\\site-packages\\ipykernel_launcher.py:8: SettingWithCopyWarning: \n",
      "A value is trying to be set on a copy of a slice from a DataFrame.\n",
      "Try using .loc[row_indexer,col_indexer] = value instead\n",
      "\n",
      "See the caveats in the documentation: http://pandas.pydata.org/pandas-docs/stable/indexing.html#indexing-view-versus-copy\n",
      "  \n",
      "C:\\ProgramData\\Anaconda3\\lib\\site-packages\\ipykernel_launcher.py:10: SettingWithCopyWarning: \n",
      "A value is trying to be set on a copy of a slice from a DataFrame.\n",
      "Try using .loc[row_indexer,col_indexer] = value instead\n",
      "\n",
      "See the caveats in the documentation: http://pandas.pydata.org/pandas-docs/stable/indexing.html#indexing-view-versus-copy\n",
      "  # Remove the CWD from sys.path while we load stuff.\n",
      "C:\\ProgramData\\Anaconda3\\lib\\site-packages\\ipykernel_launcher.py:11: SettingWithCopyWarning: \n",
      "A value is trying to be set on a copy of a slice from a DataFrame.\n",
      "Try using .loc[row_indexer,col_indexer] = value instead\n",
      "\n",
      "See the caveats in the documentation: http://pandas.pydata.org/pandas-docs/stable/indexing.html#indexing-view-versus-copy\n",
      "  # This is added back by InteractiveShellApp.init_path()\n"
     ]
    }
   ],
   "source": [
    "train_data[\"Age_Fare\"]=train_data[\"Age_scaled\"]*train_data[\"Fare_scaled\"]\n",
    "train_data[\"Age_title\"]=train_data[\"Age_scaled\"]*train_data[\"title_Mr\"]\n",
    "train_data[\"Age_male\"]=train_data[\"Age_scaled\"]*train_data[\"Sex_male\"]\n",
    "train_data[\"Age_female\"]=train_data[\"Age_scaled\"]*train_data[\"Sex_female\"]\n",
    "\n",
    "train_data[\"Fare_title\"]=train_data[\"Fare_scaled\"]*train_data[\"title_Mr\"]\n",
    "train_data[\"Fare_male\"]=train_data[\"Fare_scaled\"]*train_data[\"Sex_male\"]\n",
    "train_data[\"Fare_female\"]=train_data[\"Fare_scaled\"]*train_data[\"Sex_female\"]\n",
    "\n",
    "train_data[\"title_male\"]=train_data[\"title_Mr\"]*train_data[\"Sex_male\"]\n",
    "train_data[\"title_female\"]=train_data[\"title_Mr\"]*train_data[\"Sex_female\"]\n"
   ]
  },
  {
   "cell_type": "code",
   "execution_count": 301,
   "metadata": {
    "scrolled": false
   },
   "outputs": [
    {
     "name": "stderr",
     "output_type": "stream",
     "text": [
      "C:\\ProgramData\\Anaconda3\\lib\\site-packages\\ipykernel_launcher.py:1: SettingWithCopyWarning: \n",
      "A value is trying to be set on a copy of a slice from a DataFrame.\n",
      "Try using .loc[row_indexer,col_indexer] = value instead\n",
      "\n",
      "See the caveats in the documentation: http://pandas.pydata.org/pandas-docs/stable/indexing.html#indexing-view-versus-copy\n",
      "  \"\"\"Entry point for launching an IPython kernel.\n",
      "C:\\ProgramData\\Anaconda3\\lib\\site-packages\\ipykernel_launcher.py:2: SettingWithCopyWarning: \n",
      "A value is trying to be set on a copy of a slice from a DataFrame.\n",
      "Try using .loc[row_indexer,col_indexer] = value instead\n",
      "\n",
      "See the caveats in the documentation: http://pandas.pydata.org/pandas-docs/stable/indexing.html#indexing-view-versus-copy\n",
      "  \n",
      "C:\\ProgramData\\Anaconda3\\lib\\site-packages\\ipykernel_launcher.py:3: SettingWithCopyWarning: \n",
      "A value is trying to be set on a copy of a slice from a DataFrame.\n",
      "Try using .loc[row_indexer,col_indexer] = value instead\n",
      "\n",
      "See the caveats in the documentation: http://pandas.pydata.org/pandas-docs/stable/indexing.html#indexing-view-versus-copy\n",
      "  This is separate from the ipykernel package so we can avoid doing imports until\n",
      "C:\\ProgramData\\Anaconda3\\lib\\site-packages\\ipykernel_launcher.py:4: SettingWithCopyWarning: \n",
      "A value is trying to be set on a copy of a slice from a DataFrame.\n",
      "Try using .loc[row_indexer,col_indexer] = value instead\n",
      "\n",
      "See the caveats in the documentation: http://pandas.pydata.org/pandas-docs/stable/indexing.html#indexing-view-versus-copy\n",
      "  after removing the cwd from sys.path.\n",
      "C:\\ProgramData\\Anaconda3\\lib\\site-packages\\ipykernel_launcher.py:6: SettingWithCopyWarning: \n",
      "A value is trying to be set on a copy of a slice from a DataFrame.\n",
      "Try using .loc[row_indexer,col_indexer] = value instead\n",
      "\n",
      "See the caveats in the documentation: http://pandas.pydata.org/pandas-docs/stable/indexing.html#indexing-view-versus-copy\n",
      "  \n",
      "C:\\ProgramData\\Anaconda3\\lib\\site-packages\\ipykernel_launcher.py:7: SettingWithCopyWarning: \n",
      "A value is trying to be set on a copy of a slice from a DataFrame.\n",
      "Try using .loc[row_indexer,col_indexer] = value instead\n",
      "\n",
      "See the caveats in the documentation: http://pandas.pydata.org/pandas-docs/stable/indexing.html#indexing-view-versus-copy\n",
      "  import sys\n",
      "C:\\ProgramData\\Anaconda3\\lib\\site-packages\\ipykernel_launcher.py:8: SettingWithCopyWarning: \n",
      "A value is trying to be set on a copy of a slice from a DataFrame.\n",
      "Try using .loc[row_indexer,col_indexer] = value instead\n",
      "\n",
      "See the caveats in the documentation: http://pandas.pydata.org/pandas-docs/stable/indexing.html#indexing-view-versus-copy\n",
      "  \n",
      "C:\\ProgramData\\Anaconda3\\lib\\site-packages\\ipykernel_launcher.py:10: SettingWithCopyWarning: \n",
      "A value is trying to be set on a copy of a slice from a DataFrame.\n",
      "Try using .loc[row_indexer,col_indexer] = value instead\n",
      "\n",
      "See the caveats in the documentation: http://pandas.pydata.org/pandas-docs/stable/indexing.html#indexing-view-versus-copy\n",
      "  # Remove the CWD from sys.path while we load stuff.\n",
      "C:\\ProgramData\\Anaconda3\\lib\\site-packages\\ipykernel_launcher.py:11: SettingWithCopyWarning: \n",
      "A value is trying to be set on a copy of a slice from a DataFrame.\n",
      "Try using .loc[row_indexer,col_indexer] = value instead\n",
      "\n",
      "See the caveats in the documentation: http://pandas.pydata.org/pandas-docs/stable/indexing.html#indexing-view-versus-copy\n",
      "  # This is added back by InteractiveShellApp.init_path()\n"
     ]
    }
   ],
   "source": [
    "test_data[\"Age_Fare\"]=test_data[\"Age_scaled\"]*test_data[\"Fare_scaled\"]\n",
    "test_data[\"Age_title\"]=test_data[\"Age_scaled\"]*test_data[\"title_Mr\"]\n",
    "test_data[\"Age_male\"]=test_data[\"Age_scaled\"]*test_data[\"Sex_male\"]\n",
    "test_data[\"Age_female\"]=test_data[\"Age_scaled\"]*test_data[\"Sex_female\"]\n",
    "\n",
    "test_data[\"Fare_title\"]=test_data[\"Fare_scaled\"]*test_data[\"title_Mr\"]\n",
    "test_data[\"Fare_male\"]=test_data[\"Fare_scaled\"]*test_data[\"Sex_male\"]\n",
    "test_data[\"Fare_female\"]=test_data[\"Fare_scaled\"]*test_data[\"Sex_female\"]\n",
    "\n",
    "test_data[\"title_male\"]=test_data[\"title_Mr\"]*test_data[\"Sex_male\"]\n",
    "test_data[\"title_female\"]=test_data[\"title_Mr\"]*test_data[\"Sex_female\"]"
   ]
  },
  {
   "cell_type": "code",
   "execution_count": 311,
   "metadata": {},
   "outputs": [
    {
     "name": "stdout",
     "output_type": "stream",
     "text": [
      "<class 'pandas.core.frame.DataFrame'>\n",
      "Int64Index: 891 entries, 0 to 890\n",
      "Data columns (total 42 columns):\n",
      "family_cnt            891 non-null int64\n",
      "Pclass_1              891 non-null uint8\n",
      "Pclass_2              891 non-null uint8\n",
      "Pclass_3              891 non-null uint8\n",
      "Sex_female            891 non-null uint8\n",
      "Sex_male              891 non-null uint8\n",
      "Embarked_C            891 non-null uint8\n",
      "Embarked_Q            891 non-null uint8\n",
      "Embarked_S            891 non-null uint8\n",
      "title_Master          891 non-null uint8\n",
      "title_Miss            891 non-null uint8\n",
      "title_Mr              891 non-null uint8\n",
      "title_Mrs             891 non-null uint8\n",
      "title_rare            891 non-null uint8\n",
      "family_type_big       891 non-null uint8\n",
      "family_type_middle    891 non-null uint8\n",
      "family_type_sigle     891 non-null uint8\n",
      "cabin_type_A          891 non-null uint8\n",
      "cabin_type_B          891 non-null uint8\n",
      "cabin_type_C          891 non-null uint8\n",
      "cabin_type_D          891 non-null uint8\n",
      "cabin_type_E          891 non-null uint8\n",
      "cabin_type_F          891 non-null uint8\n",
      "cabin_type_O          891 non-null uint8\n",
      "cabin_type_n          891 non-null uint8\n",
      "Fare_scaled           891 non-null float64\n",
      "family_cnt_scaled     891 non-null float64\n",
      "SibSp_scaled          891 non-null float64\n",
      "Parch_scaled          891 non-null float64\n",
      "Age_type_adult        891 non-null uint8\n",
      "Age_type_child        891 non-null uint8\n",
      "Age_type_old          891 non-null uint8\n",
      "Age_scaled            891 non-null float64\n",
      "Age_Fare              891 non-null float64\n",
      "Age_title             891 non-null float64\n",
      "Age_male              891 non-null float64\n",
      "Age_female            891 non-null float64\n",
      "Fare_title            891 non-null float64\n",
      "Fare_male             891 non-null float64\n",
      "Fare_female           891 non-null float64\n",
      "title_male            891 non-null uint8\n",
      "title_female          891 non-null uint8\n",
      "dtypes: float64(12), int64(1), uint8(29)\n",
      "memory usage: 162.7 KB\n"
     ]
    }
   ],
   "source": [
    "train_data.info()"
   ]
  },
  {
   "cell_type": "code",
   "execution_count": 309,
   "metadata": {
    "scrolled": true
   },
   "outputs": [
    {
     "data": {
      "text/plain": [
       "([mean: 0.79264, std: 0.03851, params: {'C': 0.01, 'penalty': 'l1'},\n",
       "  mean: 0.86763, std: 0.02710, params: {'C': 0.01, 'penalty': 'l2'},\n",
       "  mean: 0.86613, std: 0.02806, params: {'C': 0.1, 'penalty': 'l1'},\n",
       "  mean: 0.87388, std: 0.03114, params: {'C': 0.1, 'penalty': 'l2'},\n",
       "  mean: 0.87075, std: 0.03669, params: {'C': 1, 'penalty': 'l1'},\n",
       "  mean: 0.86985, std: 0.03484, params: {'C': 1, 'penalty': 'l2'},\n",
       "  mean: 0.86613, std: 0.03838, params: {'C': 10, 'penalty': 'l1'},\n",
       "  mean: 0.86661, std: 0.03712, params: {'C': 10, 'penalty': 'l2'},\n",
       "  mean: 0.86533, std: 0.03814, params: {'C': 20, 'penalty': 'l1'},\n",
       "  mean: 0.86554, std: 0.03767, params: {'C': 20, 'penalty': 'l2'}],\n",
       " {'C': 0.1, 'penalty': 'l2'},\n",
       " 0.87387763140717512)"
      ]
     },
     "execution_count": 309,
     "metadata": {},
     "output_type": "execute_result"
    }
   ],
   "source": [
    "X=train_data.values\n",
    "parameters = {'penalty': ('l1', 'l2'),\n",
    "                  'C': [0.01,0.1,1,10,20]\n",
    "                  }\n",
    "estimator = linear_model.LogisticRegression(C=1.0, penalty='l1', tol=1e-6)\n",
    "gsearch = GridSearchCV(estimator, param_grid=parameters, scoring='roc_auc', cv=10)\n",
    "gsearch.fit(X=X,y=y )\n",
    "gsearch.grid_scores_, gsearch.best_params_, gsearch.best_score_"
   ]
  },
  {
   "cell_type": "code",
   "execution_count": 310,
   "metadata": {},
   "outputs": [
    {
     "data": {
      "image/png": "[encoded data removed]",
      "text/plain": [
       "<matplotlib.figure.Figure at 0xcd16da0>"
      ]
     },
     "metadata": {},
     "output_type": "display_data"
    },
    {
     "data": {
      "text/plain": [
       "(0.81935145235717033, 0.044009837260641449)"
      ]
     },
     "execution_count": 310,
     "metadata": {},
     "output_type": "execute_result"
    }
   ],
   "source": [
    "clf_lr=linear_model.LogisticRegression(C=0.1, penalty='l2', tol=1e-6)\n",
    "plot_learning_curve(estimator=clf_lr,title=\"lr_learning_curve\",X=X,y=y)"
   ]
  },
  {
   "cell_type": "markdown",
   "metadata": {},
   "source": [
    "LR的bagging 方法"
   ]
  },
  {
   "cell_type": "code",
   "execution_count": 314,
   "metadata": {},
   "outputs": [
    {
     "data": {
      "text/plain": [
       "BaggingClassifier(base_estimator=LogisticRegression(C=0.1, class_weight=None, dual=False, fit_intercept=True,\n",
       "          intercept_scaling=1, max_iter=100, multi_class='ovr', n_jobs=1,\n",
       "          penalty='l2', random_state=None, solver='liblinear', tol=1e-06,\n",
       "          verbose=0, warm_start=False),\n",
       "         bootstrap=True, bootstrap_features=True, max_features=1.0,\n",
       "         max_samples=0.8, n_estimators=20, n_jobs=-1, oob_score=True,\n",
       "         random_state=None, verbose=0, warm_start=False)"
      ]
     },
     "execution_count": 314,
     "metadata": {},
     "output_type": "execute_result"
    }
   ],
   "source": [
    "from sklearn.ensemble import BaggingClassifier\n",
    "bagging_clf = BaggingClassifier(clf_lr, n_estimators=20, \n",
    "                                max_samples=0.8, max_features=1.0, \n",
    "                                bootstrap=True, bootstrap_features=True,\n",
    "                                n_jobs=-1,oob_score=True)\n",
    "bagging_clf.fit(X, y)\n"
   ]
  },
  {
   "cell_type": "code",
   "execution_count": 316,
   "metadata": {
    "scrolled": true
   },
   "outputs": [
    {
     "data": {
      "text/plain": [
       "0.82603815937149272"
      ]
     },
     "execution_count": 316,
     "metadata": {},
     "output_type": "execute_result"
    }
   ],
   "source": [
    "bagging_clf.oob_score_"
   ]
  },
  {
   "cell_type": "code",
   "execution_count": 321,
   "metadata": {
    "collapsed": true
   },
   "outputs": [],
   "source": [
    "bagging_rs=pd.DataFrame({'PassengerId':PassengerId,'Survived':bagging_clf.predict(test_data.values)})"
   ]
  },
  {
   "cell_type": "code",
   "execution_count": 324,
   "metadata": {
    "collapsed": true
   },
   "outputs": [],
   "source": [
    "bagging_rs.to_csv(\"bagging_rs.csv\",index=False)"
   ]
  },
  {
   "cell_type": "code",
   "execution_count": 332,
   "metadata": {},
   "outputs": [
    {
     "data": {
      "text/plain": [
       "([mean: 0.87195, std: 0.04432, params: {'max_depth': 5, 'max_features': 'log2', 'min_samples_leaf': 1, 'min_samples_split': 5, 'n_estimators': 100},\n",
       "  mean: 0.87366, std: 0.04348, params: {'max_depth': 5, 'max_features': 'sqrt', 'min_samples_leaf': 1, 'min_samples_split': 5, 'n_estimators': 100},\n",
       "  mean: 0.87340, std: 0.05078, params: {'max_depth': 5, 'max_features': None, 'min_samples_leaf': 1, 'min_samples_split': 5, 'n_estimators': 100}],\n",
       " {'max_depth': 5,\n",
       "  'max_features': 'sqrt',\n",
       "  'min_samples_leaf': 1,\n",
       "  'min_samples_split': 5,\n",
       "  'n_estimators': 100},\n",
       " 0.87365737211911387)"
      ]
     },
     "execution_count": 332,
     "metadata": {},
     "output_type": "execute_result"
    }
   ],
   "source": [
    "from sklearn.ensemble import RandomForestClassifier\n",
    "from tqdm import *\n",
    "parameters = {  \n",
    "    \"n_estimators\": [100],  \n",
    "    \"max_depth\":[5],\n",
    "    \"min_samples_leaf\": [1],  \n",
    "    \"min_samples_split\": [5],\n",
    "    \"max_features\":[\"sqrt\"]\n",
    "}\n",
    "estimator = RandomForestClassifier(random_state=0, n_estimators=2000, n_jobs=-1)\n",
    "gsearch = GridSearchCV(estimator, param_grid=parameters, scoring='roc_auc', cv=10)\n",
    "gsearch.fit(X=X,y=y)\n",
    "gsearch.grid_scores_, gsearch.best_params_, gsearch.best_score_"
   ]
  },
  {
   "cell_type": "code",
   "execution_count": 335,
   "metadata": {},
   "outputs": [
    {
     "data": {
      "image/png": "[encoded data removed]",
      "text/plain": [
       "<matplotlib.figure.Figure at 0xa0e67b8>"
      ]
     },
     "metadata": {},
     "output_type": "display_data"
    },
    {
     "data": {
      "text/plain": [
       "(0.82866107128933764, 0.044677730712279984)"
      ]
     },
     "execution_count": 335,
     "metadata": {},
     "output_type": "execute_result"
    }
   ],
   "source": [
    "clf_rf=RandomForestClassifier(random_state=0, n_estimators=100,max_depth=5, min_samples_leaf=1,min_samples_split=5,max_features='sqrt',n_jobs=-1)\n",
    "clf_rf.fit(X=X,y=y)\n",
    "plot_learning_curve(estimator=clf_rf,title=\"rf_learning_curve\",X=X,y=y)"
   ]
  },
  {
   "cell_type": "code",
   "execution_count": 336,
   "metadata": {
    "collapsed": true
   },
   "outputs": [],
   "source": [
    "rf_rs=pd.DataFrame({'PassengerId':PassengerId,'Survived':clf_rf.predict(test_data.values)})"
   ]
  },
  {
   "cell_type": "code",
   "execution_count": 337,
   "metadata": {
    "collapsed": true
   },
   "outputs": [],
   "source": [
    "rf_rs.to_csv(\"rf_rs.csv\",index=False)"
   ]
  },
  {
   "cell_type": "markdown",
   "metadata": {},
   "source": [
    "使用svc进行分类"
   ]
  },
  {
   "cell_type": "code",
   "execution_count": 348,
   "metadata": {},
   "outputs": [
    {
     "data": {
      "text/plain": [
       "([mean: 0.83917, std: 0.05299, params: {'C': 0.1, 'kernel': 'linear'},\n",
       "  mean: 0.85793, std: 0.04089, params: {'C': 0.1, 'kernel': 'poly'},\n",
       "  mean: 0.86115, std: 0.03390, params: {'C': 0.1, 'kernel': 'rbf'},\n",
       "  mean: 0.83703, std: 0.04733, params: {'C': 1, 'kernel': 'linear'},\n",
       "  mean: 0.86873, std: 0.04025, params: {'C': 1, 'kernel': 'poly'},\n",
       "  mean: 0.85824, std: 0.04141, params: {'C': 1, 'kernel': 'rbf'},\n",
       "  mean: 0.83657, std: 0.04912, params: {'C': 2, 'kernel': 'linear'},\n",
       "  mean: 0.87379, std: 0.04005, params: {'C': 2, 'kernel': 'poly'},\n",
       "  mean: 0.85496, std: 0.04887, params: {'C': 2, 'kernel': 'rbf'},\n",
       "  mean: 0.83953, std: 0.04821, params: {'C': 5, 'kernel': 'linear'},\n",
       "  mean: 0.86846, std: 0.03754, params: {'C': 5, 'kernel': 'poly'},\n",
       "  mean: 0.85888, std: 0.05138, params: {'C': 5, 'kernel': 'rbf'},\n",
       "  mean: 0.83820, std: 0.04995, params: {'C': 10, 'kernel': 'linear'},\n",
       "  mean: 0.86491, std: 0.03802, params: {'C': 10, 'kernel': 'poly'},\n",
       "  mean: 0.86001, std: 0.05584, params: {'C': 10, 'kernel': 'rbf'}],\n",
       " {'C': 2, 'kernel': 'poly'},\n",
       " 0.87379270768720818)"
      ]
     },
     "execution_count": 348,
     "metadata": {},
     "output_type": "execute_result"
    }
   ],
   "source": [
    "from sklearn.svm import SVC\n",
    "parameters = {  \n",
    "\"C\":[0.1,1,2,5,10],\n",
    "\"kernel\":['linear','poly','rbf'],\n",
    "}\n",
    "estimator = SVC()\n",
    "gsearch = GridSearchCV(estimator, param_grid=parameters, scoring='roc_auc', cv=10)\n",
    "gsearch.fit(X=X,y=y)\n",
    "gsearch.grid_scores_, gsearch.best_params_, gsearch.best_score_"
   ]
  },
  {
   "cell_type": "code",
   "execution_count": 364,
   "metadata": {},
   "outputs": [
    {
     "data": {
      "image/png": "[encoded data removed]",
      "text/plain": [
       "<matplotlib.figure.Figure at 0xc5f1128>"
      ]
     },
     "metadata": {},
     "output_type": "display_data"
    },
    {
     "data": {
      "text/plain": [
       "(0.82231859177162503, 0.042482333208211376)"
      ]
     },
     "execution_count": 364,
     "metadata": {},
     "output_type": "execute_result"
    }
   ],
   "source": [
    "clf_svc=SVC(C=2,kernel=\"poly\")\n",
    "plot_learning_curve(estimator=clf_svc,title=\"svc_learning_curve\",X=X,y=y)"
   ]
  },
  {
   "cell_type": "code",
   "execution_count": 366,
   "metadata": {
    "collapsed": true
   },
   "outputs": [],
   "source": [
    "clf_svc.fit(X,y)\n",
    "svc_rs=pd.DataFrame({'PassengerId':PassengerId,'Survived':clf_svc.predict(test_data.values)})"
   ]
  },
  {
   "cell_type": "code",
   "execution_count": 368,
   "metadata": {
    "collapsed": true
   },
   "outputs": [],
   "source": [
    "svc_rs.to_csv(\"svc_rs.csv\",index=False)"
   ]
  },
  {
   "cell_type": "markdown",
   "metadata": {},
   "source": [
    "最后进行模型融合\n",
    "太累了，我这里就直接用投票方法了，如果有时间可以试试blending的方法。"
   ]
  },
  {
   "cell_type": "code",
   "execution_count": 411,
   "metadata": {
    "collapsed": true
   },
   "outputs": [],
   "source": [
    "all_rs=pd.concat([svc_rs,bagging_rs,rf_rs], axis=1, join='inner')"
   ]
  },
  {
   "cell_type": "code",
   "execution_count": 412,
   "metadata": {
    "collapsed": true
   },
   "outputs": [],
   "source": [
    "all_rs[\"rs_vote\"]=all_rs.iloc[:,[1]]+all_rs.iloc[:,[3]]+all_rs.iloc[:,[5]]"
   ]
  },
  {
   "cell_type": "code",
   "execution_count": 414,
   "metadata": {},
   "outputs": [
    {
     "name": "stdout",
     "output_type": "stream",
     "text": [
      "<class 'pandas.core.frame.DataFrame'>\n",
      "Int64Index: 418 entries, 0 to 417\n",
      "Data columns (total 7 columns):\n",
      "PassengerId    418 non-null int64\n",
      "Survived       418 non-null int64\n",
      "PassengerId    418 non-null int64\n",
      "Survived       418 non-null int64\n",
      "PassengerId    418 non-null int64\n",
      "Survived       418 non-null int64\n",
      "rs_vote        418 non-null int64\n",
      "dtypes: int64(7)\n",
      "memory usage: 46.1 KB\n"
     ]
    },
    {
     "data": {
      "text/plain": [
       "Index(['PassengerId', 'Survived', 'PassengerId', 'Survived', 'PassengerId',\n",
       "       'Survived', 'rs_vote'],\n",
       "      dtype='object')"
      ]
     },
     "execution_count": 414,
     "metadata": {},
     "output_type": "execute_result"
    }
   ],
   "source": [
    "\n",
    "all_rs.info()\n",
    "all_rs.columns"
   ]
  },
  {
   "cell_type": "code",
   "execution_count": 415,
   "metadata": {
    "collapsed": true
   },
   "outputs": [],
   "source": [
    "all_rs.columns = ['PassengerId', 'Survived_svc', 'PassengerId_01', 'Survived_lr', 'PassengerId_02',\n",
    "       'Survived_rf', 'rs_vote']"
   ]
  },
  {
   "cell_type": "code",
   "execution_count": 417,
   "metadata": {},
   "outputs": [
    {
     "data": {
      "text/plain": [
       "0       892\n",
       "1       893\n",
       "2       894\n",
       "3       895\n",
       "4       896\n",
       "5       897\n",
       "6       898\n",
       "7       899\n",
       "8       900\n",
       "9       901\n",
       "10      902\n",
       "11      903\n",
       "12      904\n",
       "13      905\n",
       "14      906\n",
       "15      907\n",
       "16      908\n",
       "17      909\n",
       "18      910\n",
       "19      911\n",
       "20      912\n",
       "21      913\n",
       "22      914\n",
       "23      915\n",
       "24      916\n",
       "25      917\n",
       "26      918\n",
       "27      919\n",
       "28      920\n",
       "29      921\n",
       "       ... \n",
       "388    1280\n",
       "389    1281\n",
       "390    1282\n",
       "391    1283\n",
       "392    1284\n",
       "393    1285\n",
       "394    1286\n",
       "395    1287\n",
       "396    1288\n",
       "397    1289\n",
       "398    1290\n",
       "399    1291\n",
       "400    1292\n",
       "401    1293\n",
       "402    1294\n",
       "403    1295\n",
       "404    1296\n",
       "405    1297\n",
       "406    1298\n",
       "407    1299\n",
       "408    1300\n",
       "409    1301\n",
       "410    1302\n",
       "411    1303\n",
       "412    1304\n",
       "413    1305\n",
       "414    1306\n",
       "415    1307\n",
       "416    1308\n",
       "417    1309\n",
       "Name: PassengerId_02, Length: 418, dtype: int64"
      ]
     },
     "execution_count": 417,
     "metadata": {},
     "output_type": "execute_result"
    }
   ],
   "source": [
    "all_rs.pop(\"PassengerId_01\")\n",
    "all_rs.pop(\"PassengerId_02\")"
   ]
  },
  {
   "cell_type": "code",
   "execution_count": 419,
   "metadata": {},
   "outputs": [
    {
     "data": {
      "text/html": [
       "<div>\n",
       "<style>\n",
       "    .dataframe thead tr:only-child th {\n",
       "        text-align: right;\n",
       "    }\n",
       "\n",
       "    .dataframe thead th {\n",
       "        text-align: left;\n",
       "    }\n",
       "\n",
       "    .dataframe tbody tr th {\n",
       "        vertical-align: top;\n",
       "    }\n",
       "</style>\n",
       "<table border=\"1\" class=\"dataframe\">\n",
       "  <thead>\n",
       "    <tr style=\"text-align: right;\">\n",
       "      <th></th>\n",
       "      <th>PassengerId</th>\n",
       "      <th>Survived_svc</th>\n",
       "      <th>Survived_lr</th>\n",
       "      <th>Survived_rf</th>\n",
       "      <th>rs_vote</th>\n",
       "    </tr>\n",
       "  </thead>\n",
       "  <tbody>\n",
       "    <tr>\n",
       "      <th>75</th>\n",
       "      <td>967</td>\n",
       "      <td>0</td>\n",
       "      <td>1</td>\n",
       "      <td>0</td>\n",
       "      <td>1</td>\n",
       "    </tr>\n",
       "    <tr>\n",
       "      <th>142</th>\n",
       "      <td>1034</td>\n",
       "      <td>1</td>\n",
       "      <td>0</td>\n",
       "      <td>0</td>\n",
       "      <td>1</td>\n",
       "    </tr>\n",
       "    <tr>\n",
       "      <th>293</th>\n",
       "      <td>1185</td>\n",
       "      <td>0</td>\n",
       "      <td>0</td>\n",
       "      <td>1</td>\n",
       "      <td>1</td>\n",
       "    </tr>\n",
       "  </tbody>\n",
       "</table>\n",
       "</div>"
      ],
      "text/plain": [
       "     PassengerId  Survived_svc  Survived_lr  Survived_rf  rs_vote\n",
       "75           967             0            1            0        1\n",
       "142         1034             1            0            0        1\n",
       "293         1185             0            0            1        1"
      ]
     },
     "execution_count": 419,
     "metadata": {},
     "output_type": "execute_result"
    }
   ],
   "source": [
    "all_rs.loc[all_rs.rs_vote==1]"
   ]
  },
  {
   "cell_type": "code",
   "execution_count": 421,
   "metadata": {},
   "outputs": [
    {
     "data": {
      "text/html": [
       "<div>\n",
       "<style>\n",
       "    .dataframe thead tr:only-child th {\n",
       "        text-align: right;\n",
       "    }\n",
       "\n",
       "    .dataframe thead th {\n",
       "        text-align: left;\n",
       "    }\n",
       "\n",
       "    .dataframe tbody tr th {\n",
       "        vertical-align: top;\n",
       "    }\n",
       "</style>\n",
       "<table border=\"1\" class=\"dataframe\">\n",
       "  <thead>\n",
       "    <tr style=\"text-align: right;\">\n",
       "      <th></th>\n",
       "      <th>PassengerId</th>\n",
       "      <th>Survived_svc</th>\n",
       "      <th>Survived_lr</th>\n",
       "      <th>Survived_rf</th>\n",
       "      <th>rs_vote</th>\n",
       "    </tr>\n",
       "  </thead>\n",
       "  <tbody>\n",
       "    <tr>\n",
       "      <th>32</th>\n",
       "      <td>924</td>\n",
       "      <td>1</td>\n",
       "      <td>0</td>\n",
       "      <td>1</td>\n",
       "      <td>2</td>\n",
       "    </tr>\n",
       "    <tr>\n",
       "      <th>33</th>\n",
       "      <td>925</td>\n",
       "      <td>1</td>\n",
       "      <td>0</td>\n",
       "      <td>1</td>\n",
       "      <td>2</td>\n",
       "    </tr>\n",
       "    <tr>\n",
       "      <th>52</th>\n",
       "      <td>944</td>\n",
       "      <td>1</td>\n",
       "      <td>0</td>\n",
       "      <td>1</td>\n",
       "      <td>2</td>\n",
       "    </tr>\n",
       "    <tr>\n",
       "      <th>244</th>\n",
       "      <td>1136</td>\n",
       "      <td>1</td>\n",
       "      <td>0</td>\n",
       "      <td>1</td>\n",
       "      <td>2</td>\n",
       "    </tr>\n",
       "    <tr>\n",
       "      <th>354</th>\n",
       "      <td>1246</td>\n",
       "      <td>1</td>\n",
       "      <td>0</td>\n",
       "      <td>1</td>\n",
       "      <td>2</td>\n",
       "    </tr>\n",
       "    <tr>\n",
       "      <th>376</th>\n",
       "      <td>1268</td>\n",
       "      <td>1</td>\n",
       "      <td>0</td>\n",
       "      <td>1</td>\n",
       "      <td>2</td>\n",
       "    </tr>\n",
       "    <tr>\n",
       "      <th>392</th>\n",
       "      <td>1284</td>\n",
       "      <td>1</td>\n",
       "      <td>0</td>\n",
       "      <td>1</td>\n",
       "      <td>2</td>\n",
       "    </tr>\n",
       "  </tbody>\n",
       "</table>\n",
       "</div>"
      ],
      "text/plain": [
       "     PassengerId  Survived_svc  Survived_lr  Survived_rf  rs_vote\n",
       "32           924             1            0            1        2\n",
       "33           925             1            0            1        2\n",
       "52           944             1            0            1        2\n",
       "244         1136             1            0            1        2\n",
       "354         1246             1            0            1        2\n",
       "376         1268             1            0            1        2\n",
       "392         1284             1            0            1        2"
      ]
     },
     "execution_count": 421,
     "metadata": {},
     "output_type": "execute_result"
    }
   ],
   "source": [
    "all_rs.loc[all_rs.rs_vote==2]"
   ]
  },
  {
   "cell_type": "markdown",
   "metadata": {},
   "source": [
    "将三个模型拿去回炉下。采用线性的blending 操作。"
   ]
  },
  {
   "cell_type": "code",
   "execution_count": 422,
   "metadata": {
    "collapsed": true
   },
   "outputs": [],
   "source": [
    "bagging_clf_rs=bagging_clf.predict(X)\n",
    "clf_svc_rs=clf_svc.predict(X)\n",
    "clf_rf_rs=clf_rf.predict(X)"
   ]
  },
  {
   "cell_type": "code",
   "execution_count": 424,
   "metadata": {
    "collapsed": true
   },
   "outputs": [],
   "source": [
    "X_blend=pd.DataFrame({\"bagging_clf_rs\":bagging_clf_rs,\"clf_svc_rs\":clf_svc_rs,\"clf_rf_rs\":clf_rf_rs})"
   ]
  },
  {
   "cell_type": "code",
   "execution_count": 435,
   "metadata": {},
   "outputs": [
    {
     "data": {
      "text/html": [
       "<div>\n",
       "<style>\n",
       "    .dataframe thead tr:only-child th {\n",
       "        text-align: right;\n",
       "    }\n",
       "\n",
       "    .dataframe thead th {\n",
       "        text-align: left;\n",
       "    }\n",
       "\n",
       "    .dataframe tbody tr th {\n",
       "        vertical-align: top;\n",
       "    }\n",
       "</style>\n",
       "<table border=\"1\" class=\"dataframe\">\n",
       "  <thead>\n",
       "    <tr style=\"text-align: right;\">\n",
       "      <th></th>\n",
       "      <th>bagging_clf_rs</th>\n",
       "      <th>clf_rf_rs</th>\n",
       "      <th>clf_svc_rs</th>\n",
       "    </tr>\n",
       "  </thead>\n",
       "  <tbody>\n",
       "    <tr>\n",
       "      <th>0</th>\n",
       "      <td>0</td>\n",
       "      <td>0</td>\n",
       "      <td>0</td>\n",
       "    </tr>\n",
       "    <tr>\n",
       "      <th>1</th>\n",
       "      <td>1</td>\n",
       "      <td>1</td>\n",
       "      <td>1</td>\n",
       "    </tr>\n",
       "    <tr>\n",
       "      <th>2</th>\n",
       "      <td>1</td>\n",
       "      <td>1</td>\n",
       "      <td>1</td>\n",
       "    </tr>\n",
       "    <tr>\n",
       "      <th>3</th>\n",
       "      <td>1</td>\n",
       "      <td>1</td>\n",
       "      <td>1</td>\n",
       "    </tr>\n",
       "    <tr>\n",
       "      <th>4</th>\n",
       "      <td>0</td>\n",
       "      <td>0</td>\n",
       "      <td>0</td>\n",
       "    </tr>\n",
       "  </tbody>\n",
       "</table>\n",
       "</div>"
      ],
      "text/plain": [
       "   bagging_clf_rs  clf_rf_rs  clf_svc_rs\n",
       "0               0          0           0\n",
       "1               1          1           1\n",
       "2               1          1           1\n",
       "3               1          1           1\n",
       "4               0          0           0"
      ]
     },
     "execution_count": 435,
     "metadata": {},
     "output_type": "execute_result"
    }
   ],
   "source": [
    "X_blend.head()"
   ]
  },
  {
   "cell_type": "markdown",
   "metadata": {},
   "source": [
    "再使用逻辑回归搞一把"
   ]
  },
  {
   "cell_type": "code",
   "execution_count": 429,
   "metadata": {},
   "outputs": [
    {
     "data": {
      "text/plain": [
       "([mean: 0.50000, std: 0.00000, params: {'C': 0.01, 'penalty': 'l1'},\n",
       "  mean: 0.83175, std: 0.04040, params: {'C': 0.01, 'penalty': 'l2'},\n",
       "  mean: 0.83176, std: 0.03912, params: {'C': 0.1, 'penalty': 'l1'},\n",
       "  mean: 0.83175, std: 0.04040, params: {'C': 0.1, 'penalty': 'l2'},\n",
       "  mean: 0.83277, std: 0.04075, params: {'C': 1, 'penalty': 'l1'},\n",
       "  mean: 0.83343, std: 0.04041, params: {'C': 1, 'penalty': 'l2'},\n",
       "  mean: 0.83429, std: 0.04052, params: {'C': 10, 'penalty': 'l1'},\n",
       "  mean: 0.83365, std: 0.04040, params: {'C': 10, 'penalty': 'l2'},\n",
       "  mean: 0.83429, std: 0.04052, params: {'C': 20, 'penalty': 'l1'},\n",
       "  mean: 0.83429, std: 0.04052, params: {'C': 20, 'penalty': 'l2'}],\n",
       " {'C': 10, 'penalty': 'l1'},\n",
       " 0.8342881337368695)"
      ]
     },
     "execution_count": 429,
     "metadata": {},
     "output_type": "execute_result"
    }
   ],
   "source": [
    "X=X_blend.values\n",
    "parameters = {'penalty': ('l1', 'l2'),\n",
    "                  'C': [0.01,0.1,1,10,20]\n",
    "                  }\n",
    "estimator = linear_model.LogisticRegression(C=1.0, penalty='l1', tol=1e-6)\n",
    "gsearch = GridSearchCV(estimator, param_grid=parameters, scoring='roc_auc', cv=10)\n",
    "gsearch.fit(X=X,y=y )\n",
    "gsearch.grid_scores_, gsearch.best_params_, gsearch.best_score_"
   ]
  },
  {
   "cell_type": "code",
   "execution_count": 430,
   "metadata": {},
   "outputs": [
    {
     "data": {
      "text/plain": [
       "LogisticRegression(C=10, class_weight=None, dual=False, fit_intercept=True,\n",
       "          intercept_scaling=1, max_iter=100, multi_class='ovr', n_jobs=1,\n",
       "          penalty='l1', random_state=None, solver='liblinear', tol=1e-06,\n",
       "          verbose=0, warm_start=False)"
      ]
     },
     "execution_count": 430,
     "metadata": {},
     "output_type": "execute_result"
    }
   ],
   "source": [
    "blend_lg=linear_model.LogisticRegression(C=10, penalty='l1', tol=1e-6)\n",
    "blend_lg.fit(X_blend.values,y)"
   ]
  },
  {
   "cell_type": "code",
   "execution_count": 431,
   "metadata": {},
   "outputs": [
    {
     "data": {
      "text/plain": [
       "Index(['PassengerId', 'Survived_svc', 'Survived_lr', 'Survived_rf', 'rs_vote'], dtype='object')"
      ]
     },
     "execution_count": 431,
     "metadata": {},
     "output_type": "execute_result"
    }
   ],
   "source": [
    "all_rs.columns"
   ]
  },
  {
   "cell_type": "code",
   "execution_count": 439,
   "metadata": {
    "collapsed": true
   },
   "outputs": [],
   "source": [
    "all_rs[\"blend_rs\"]=blend_lg.predict(all_rs.loc[:,[ 'Survived_lr','Survived_rf','Survived_svc']].values)"
   ]
  },
  {
   "cell_type": "code",
   "execution_count": 444,
   "metadata": {},
   "outputs": [
    {
     "data": {
      "text/html": [
       "<div>\n",
       "<style>\n",
       "    .dataframe thead tr:only-child th {\n",
       "        text-align: right;\n",
       "    }\n",
       "\n",
       "    .dataframe thead th {\n",
       "        text-align: left;\n",
       "    }\n",
       "\n",
       "    .dataframe tbody tr th {\n",
       "        vertical-align: top;\n",
       "    }\n",
       "</style>\n",
       "<table border=\"1\" class=\"dataframe\">\n",
       "  <thead>\n",
       "    <tr style=\"text-align: right;\">\n",
       "      <th></th>\n",
       "      <th>PassengerId</th>\n",
       "      <th>Survived_svc</th>\n",
       "      <th>Survived_lr</th>\n",
       "      <th>Survived_rf</th>\n",
       "      <th>rs_vote</th>\n",
       "      <th>blend_rs</th>\n",
       "    </tr>\n",
       "  </thead>\n",
       "  <tbody>\n",
       "    <tr>\n",
       "      <th>32</th>\n",
       "      <td>924</td>\n",
       "      <td>1</td>\n",
       "      <td>0</td>\n",
       "      <td>1</td>\n",
       "      <td>2</td>\n",
       "      <td>1</td>\n",
       "    </tr>\n",
       "    <tr>\n",
       "      <th>33</th>\n",
       "      <td>925</td>\n",
       "      <td>1</td>\n",
       "      <td>0</td>\n",
       "      <td>1</td>\n",
       "      <td>2</td>\n",
       "      <td>1</td>\n",
       "    </tr>\n",
       "    <tr>\n",
       "      <th>52</th>\n",
       "      <td>944</td>\n",
       "      <td>1</td>\n",
       "      <td>0</td>\n",
       "      <td>1</td>\n",
       "      <td>2</td>\n",
       "      <td>1</td>\n",
       "    </tr>\n",
       "    <tr>\n",
       "      <th>244</th>\n",
       "      <td>1136</td>\n",
       "      <td>1</td>\n",
       "      <td>0</td>\n",
       "      <td>1</td>\n",
       "      <td>2</td>\n",
       "      <td>1</td>\n",
       "    </tr>\n",
       "    <tr>\n",
       "      <th>354</th>\n",
       "      <td>1246</td>\n",
       "      <td>1</td>\n",
       "      <td>0</td>\n",
       "      <td>1</td>\n",
       "      <td>2</td>\n",
       "      <td>1</td>\n",
       "    </tr>\n",
       "    <tr>\n",
       "      <th>376</th>\n",
       "      <td>1268</td>\n",
       "      <td>1</td>\n",
       "      <td>0</td>\n",
       "      <td>1</td>\n",
       "      <td>2</td>\n",
       "      <td>1</td>\n",
       "    </tr>\n",
       "    <tr>\n",
       "      <th>392</th>\n",
       "      <td>1284</td>\n",
       "      <td>1</td>\n",
       "      <td>0</td>\n",
       "      <td>1</td>\n",
       "      <td>2</td>\n",
       "      <td>1</td>\n",
       "    </tr>\n",
       "  </tbody>\n",
       "</table>\n",
       "</div>"
      ],
      "text/plain": [
       "     PassengerId  Survived_svc  Survived_lr  Survived_rf  rs_vote  blend_rs\n",
       "32           924             1            0            1        2         1\n",
       "33           925             1            0            1        2         1\n",
       "52           944             1            0            1        2         1\n",
       "244         1136             1            0            1        2         1\n",
       "354         1246             1            0            1        2         1\n",
       "376         1268             1            0            1        2         1\n",
       "392         1284             1            0            1        2         1"
      ]
     },
     "execution_count": 444,
     "metadata": {},
     "output_type": "execute_result"
    }
   ],
   "source": [
    "all_rs.loc[all_rs.rs_vote==2]"
   ]
  },
  {
   "cell_type": "code",
   "execution_count": 445,
   "metadata": {},
   "outputs": [
    {
     "data": {
      "text/html": [
       "<div>\n",
       "<style>\n",
       "    .dataframe thead tr:only-child th {\n",
       "        text-align: right;\n",
       "    }\n",
       "\n",
       "    .dataframe thead th {\n",
       "        text-align: left;\n",
       "    }\n",
       "\n",
       "    .dataframe tbody tr th {\n",
       "        vertical-align: top;\n",
       "    }\n",
       "</style>\n",
       "<table border=\"1\" class=\"dataframe\">\n",
       "  <thead>\n",
       "    <tr style=\"text-align: right;\">\n",
       "      <th></th>\n",
       "      <th>PassengerId</th>\n",
       "      <th>Survived_svc</th>\n",
       "      <th>Survived_lr</th>\n",
       "      <th>Survived_rf</th>\n",
       "      <th>rs_vote</th>\n",
       "      <th>blend_rs</th>\n",
       "    </tr>\n",
       "  </thead>\n",
       "  <tbody>\n",
       "    <tr>\n",
       "      <th>75</th>\n",
       "      <td>967</td>\n",
       "      <td>0</td>\n",
       "      <td>1</td>\n",
       "      <td>0</td>\n",
       "      <td>1</td>\n",
       "      <td>0</td>\n",
       "    </tr>\n",
       "    <tr>\n",
       "      <th>142</th>\n",
       "      <td>1034</td>\n",
       "      <td>1</td>\n",
       "      <td>0</td>\n",
       "      <td>0</td>\n",
       "      <td>1</td>\n",
       "      <td>0</td>\n",
       "    </tr>\n",
       "    <tr>\n",
       "      <th>293</th>\n",
       "      <td>1185</td>\n",
       "      <td>0</td>\n",
       "      <td>0</td>\n",
       "      <td>1</td>\n",
       "      <td>1</td>\n",
       "      <td>1</td>\n",
       "    </tr>\n",
       "  </tbody>\n",
       "</table>\n",
       "</div>"
      ],
      "text/plain": [
       "     PassengerId  Survived_svc  Survived_lr  Survived_rf  rs_vote  blend_rs\n",
       "75           967             0            1            0        1         0\n",
       "142         1034             1            0            0        1         0\n",
       "293         1185             0            0            1        1         1"
      ]
     },
     "execution_count": 445,
     "metadata": {},
     "output_type": "execute_result"
    }
   ],
   "source": [
    "all_rs.loc[all_rs.rs_vote==1]"
   ]
  },
  {
   "cell_type": "code",
   "execution_count": 446,
   "metadata": {
    "collapsed": true
   },
   "outputs": [],
   "source": [
    "rs=pd.DataFrame({\"PassengerId\":all_rs.PassengerId,\"Survived\":all_rs.blend_rs})"
   ]
  },
  {
   "cell_type": "code",
   "execution_count": 448,
   "metadata": {
    "collapsed": true
   },
   "outputs": [],
   "source": [
    "rs.to_csv(\"blend_rs.csv\",index=False)"
   ]
  },
  {
   "cell_type": "code",
   "execution_count": null,
   "metadata": {
    "collapsed": true
   },
   "outputs": [],
   "source": []
  }
 ],
 "metadata": {
  "kernelspec": {
   "display_name": "Python 3",
   "language": "python",
   "name": "python3"
  },
  "language_info": {
   "codemirror_mode": {
    "name": "ipython",
    "version": 3
   },
   "file_extension": ".py",
   "mimetype": "text/x-python",
   "name": "python",
   "nbconvert_exporter": "python",
   "pygments_lexer": "ipython3",
   "version": "3.6.2"
  },
  "toc": {
   "nav_menu": {},
   "number_sections": true,
   "sideBar": true,
   "skip_h1_title": false,
   "toc_cell": false,
   "toc_position": {},
   "toc_section_display": "block",
   "toc_window_display": false
  }
 },
 "nbformat": 4,
 "nbformat_minor": 2
}
